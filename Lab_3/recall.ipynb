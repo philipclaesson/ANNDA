{
 "cells": [
  {
   "cell_type": "code",
   "execution_count": 1,
   "metadata": {},
   "outputs": [],
   "source": [
    "import numpy as np\n",
    "import random"
   ]
  },
  {
   "cell_type": "code",
   "execution_count": 2,
   "metadata": {},
   "outputs": [],
   "source": [
    "x1 = np.array([-1, -1, 1, -1, 1, -1, -1, 1])\n",
    "x2 = np.array([-1, -1, -1, -1, -1, 1, -1, -1])\n",
    "x3 = np.array([-1, 1, 1, -1, -1, 1, -1, 1])\n",
    "x = np.stack((x1, x2, x3))"
   ]
  },
  {
   "cell_type": "code",
   "execution_count": 3,
   "metadata": {},
   "outputs": [],
   "source": [
    "w = np.zeros((len(x1), len(x1)))\n",
    "for i in range(len(x1)):\n",
    "    for j in range(len(x1)):\n",
    "        for m in range(3):\n",
    "            w[i, j] += x[m][i] * x[m][j]"
   ]
  },
  {
   "cell_type": "code",
   "execution_count": 63,
   "metadata": {},
   "outputs": [],
   "source": [
    "def sign(x):\n",
    "    return (1, -1)[x < 0]\n",
    "\n",
    "def update_rule(a, w):\n",
    "    x = np.zeros(len(a))\n",
    "    for i in range(len(a)):\n",
    "        for j in range(len(a)):\n",
    "            x[i] += w[i%32, j%32] * a[j]\n",
    "    x = [sign(a) for a in x]\n",
    "    return x"
   ]
  },
  {
   "cell_type": "code",
   "execution_count": 5,
   "metadata": {},
   "outputs": [],
   "source": [
    "x1d = np.array([1, -1, 1, -1, 1, -1, -1, 1])\n",
    "x2d = np.array([1, 1, -1, -1, -1, 1, -1, -1])\n",
    "x3d = np.array([1, 1, 1, -1, 1, 1, -1, 1])"
   ]
  },
  {
   "cell_type": "markdown",
   "metadata": {},
   "source": [
    "## 3.1"
   ]
  },
  {
   "cell_type": "code",
   "execution_count": 61,
   "metadata": {},
   "outputs": [],
   "source": [
    "# Test convergens patters\n",
    "def find_attractor(x, w):\n",
    "    prev = x\n",
    "\n",
    "    while True:\n",
    "        curr = update_rule(prev, w)\n",
    "        if np.array_equal(curr, prev):\n",
    "            break\n",
    "        prev = curr\n",
    "    return prev\n"
   ]
  },
  {
   "cell_type": "code",
   "execution_count": 7,
   "metadata": {},
   "outputs": [],
   "source": [
    "def generate_combination():\n",
    "    x = np.array([1, 1, 1, 1, -1, -1, -1, -1])\n",
    "    np.random.shuffle(x)\n",
    "    return x\n",
    "\n",
    "def array_in(small, large):\n",
    "    for array in large:\n",
    "        if np.array_equal(small, array):\n",
    "            return True\n",
    "    return False"
   ]
  },
  {
   "cell_type": "code",
   "execution_count": 8,
   "metadata": {},
   "outputs": [
    {
     "name": "stdout",
     "output_type": "stream",
     "text": [
      "There are 9 attractors\n",
      "[[1, 1, 1, 1, 1, -1, 1, 1], [-1, 1, 1, -1, -1, 1, -1, 1], [1, -1, -1, 1, 1, -1, 1, -1], [-1, -1, 1, -1, 1, 1, -1, 1], [1, 1, -1, 1, 1, -1, 1, -1], [1, 1, -1, 1, 1, 1, 1, -1], [-1, -1, 1, -1, 1, -1, -1, 1], [1, 1, -1, 1, -1, 1, 1, -1], array([-1,  1,  1, -1,  1, -1, -1,  1])]\n"
     ]
    },
    {
     "name": "stderr",
     "output_type": "stream",
     "text": [
      "/Library/Frameworks/Python.framework/Versions/3.7/lib/python3.7/site-packages/ipykernel_launcher.py:2: DeprecationWarning: In future, it will be an error for 'np.bool_' scalars to be interpreted as an index\n",
      "  \n"
     ]
    }
   ],
   "source": [
    "# How many attractors are there?\n",
    "\n",
    "pool = []\n",
    "\n",
    "for i in range(400):\n",
    "    x = generate_combination()\n",
    "    \n",
    "    pattern = find_attractor(x)\n",
    "    if not array_in(pattern, pool):\n",
    "        pool.append(pattern)\n",
    "\n",
    "print(\"There are\", len(pool), \"attractors\")\n",
    "print(pool)"
   ]
  },
  {
   "cell_type": "code",
   "execution_count": 10,
   "metadata": {},
   "outputs": [
    {
     "name": "stderr",
     "output_type": "stream",
     "text": [
      "/Library/Frameworks/Python.framework/Versions/3.7/lib/python3.7/site-packages/ipykernel_launcher.py:2: DeprecationWarning: In future, it will be an error for 'np.bool_' scalars to be interpreted as an index\n",
      "  \n"
     ]
    },
    {
     "data": {
      "text/plain": [
       "[1, 1, -1, 1, -1, 1, 1, -1]"
      ]
     },
     "execution_count": 10,
     "metadata": {},
     "output_type": "execute_result"
    }
   ],
   "source": [
    "#More than half is wrong, what happens?\n",
    "#Finds another atractor\n",
    "\n",
    "pattern = [-1, -1, -1, 1, -1, 1, 1, 1]\n",
    "\n",
    "find_attractor(pattern)"
   ]
  },
  {
   "cell_type": "code",
   "execution_count": 14,
   "metadata": {},
   "outputs": [
    {
     "name": "stdout",
     "output_type": "stream",
     "text": [
      "[-1 -1 -1 ... -1 -1 -1]\n"
     ]
    }
   ],
   "source": [
    "data = np.genfromtxt('pict.dat',\n",
    "                     dtype=None,\n",
    "                     delimiter=\",\")\n",
    "print(data)"
   ]
  },
  {
   "cell_type": "code",
   "execution_count": 15,
   "metadata": {},
   "outputs": [
    {
     "data": {
      "text/plain": [
       "(11264,)"
      ]
     },
     "execution_count": 15,
     "metadata": {},
     "output_type": "execute_result"
    }
   ],
   "source": [
    "a = np.shape(data)\n",
    "a"
   ]
  },
  {
   "cell_type": "code",
   "execution_count": 27,
   "metadata": {},
   "outputs": [],
   "source": [
    "def store_patterns():\n",
    "    data = np.genfromtxt('pict.dat',\n",
    "                     dtype=None,\n",
    "                     delimiter=\",\")\n",
    "    patterns_pic = []\n",
    "    \n",
    "    for i in range(1,12):\n",
    "        img = np.zeros((32,32))\n",
    "        for j in range(32):\n",
    "            for k in range(32):\n",
    "                \n",
    "                img[j,k] = data[j*32+k]\n",
    "        patterns_pic.append(img)\n",
    "    return patterns_pic\n",
    "        \n"
   ]
  },
  {
   "cell_type": "code",
   "execution_count": 42,
   "metadata": {},
   "outputs": [
    {
     "data": {
      "text/plain": [
       "(1024,)"
      ]
     },
     "execution_count": 42,
     "metadata": {},
     "output_type": "execute_result"
    }
   ],
   "source": [
    "imgs = store_patterns()\n",
    "squeeze = imgs[0].ravel()\n",
    "np.shape(squeeze)"
   ]
  },
  {
   "cell_type": "code",
   "execution_count": 90,
   "metadata": {},
   "outputs": [],
   "source": [
    "def init_weights(imgs, P):\n",
    "        dim = len(imgs[0])\n",
    "        w = np.zeros((dim*dim, dim*dim))\n",
    "        ravel_imgs = []\n",
    "        for img in imgs:\n",
    "            ravel_imgs.append(img.ravel())\n",
    "        for i in range(dim*dim):\n",
    "            for j in range(dim*dim):\n",
    "                for mu in range(P):\n",
    "                    w[i, j] += (1/dim)*ravel_imgs[mu][i] * ravel_imgs[mu][j]\n",
    "        return w"
   ]
  },
  {
   "cell_type": "code",
   "execution_count": 97,
   "metadata": {},
   "outputs": [],
   "source": [
    "w_pic = init_weights(imgs, 3)"
   ]
  },
  {
   "cell_type": "code",
   "execution_count": 98,
   "metadata": {},
   "outputs": [
    {
     "name": "stderr",
     "output_type": "stream",
     "text": [
      "/Library/Frameworks/Python.framework/Versions/3.7/lib/python3.7/site-packages/ipykernel_launcher.py:2: DeprecationWarning: In future, it will be an error for 'np.bool_' scalars to be interpreted as an index\n",
      "  \n"
     ]
    }
   ],
   "source": [
    "hej = find_attractor(imgs[0].ravel(), w_pic)"
   ]
  },
  {
   "cell_type": "code",
   "execution_count": 99,
   "metadata": {},
   "outputs": [
    {
     "data": {
      "text/plain": [
       "False"
      ]
     },
     "execution_count": 99,
     "metadata": {},
     "output_type": "execute_result"
    }
   ],
   "source": [
    "np.array_equal(hej, imgs[0].ravel())"
   ]
  },
  {
   "cell_type": "code",
   "execution_count": null,
   "metadata": {},
   "outputs": [],
   "source": []
  }
 ],
 "metadata": {
  "kernelspec": {
   "display_name": "Python 3",
   "language": "python",
   "name": "python3"
  },
  "language_info": {
   "codemirror_mode": {
    "name": "ipython",
    "version": 3
   },
   "file_extension": ".py",
   "mimetype": "text/x-python",
   "name": "python",
   "nbconvert_exporter": "python",
   "pygments_lexer": "ipython3",
   "version": "3.7.0"
  }
 },
 "nbformat": 4,
 "nbformat_minor": 2
}
