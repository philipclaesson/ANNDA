{
 "cells": [
  {
   "cell_type": "code",
   "execution_count": 1,
   "metadata": {},
   "outputs": [],
   "source": [
    "import numpy as np\n",
    "import random\n",
    "from matplotlib import pyplot as plt"
   ]
  },
  {
   "cell_type": "code",
   "execution_count": 2,
   "metadata": {},
   "outputs": [],
   "source": [
    "x1 = np.array([-1, -1, 1, -1, 1, -1, -1, 1])\n",
    "x2 = np.array([-1, -1, -1, -1, -1, 1, -1, -1])\n",
    "x3 = np.array([-1, 1, 1, -1, -1, 1, -1, 1])\n",
    "x = np.stack((x1, x2, x3))"
   ]
  },
  {
   "cell_type": "code",
   "execution_count": 3,
   "metadata": {},
   "outputs": [],
   "source": [
    "w = np.zeros((len(x1), len(x1)))\n",
    "for i in range(len(x1)):\n",
    "    for j in range(len(x1)):\n",
    "        for m in range(3):\n",
    "            w[i, j] += x[m][i] * x[m][j]"
   ]
  },
  {
   "cell_type": "code",
   "execution_count": 4,
   "metadata": {},
   "outputs": [],
   "source": [
    "def sign(x):\n",
    "    return (1, -1)[x < 0]\n",
    "\n",
    "def update_rule(a, w):\n",
    "    x = np.zeros(len(a))\n",
    "    for i in range(len(a)):\n",
    "        for j in range(len(a)):\n",
    "            x[i] += w[i, j] * a[j]\n",
    "    x = [sign(a) for a in x]\n",
    "    return x"
   ]
  },
  {
   "cell_type": "code",
   "execution_count": 5,
   "metadata": {},
   "outputs": [],
   "source": [
    "x1d = np.array([1, -1, 1, -1, 1, -1, -1, 1])\n",
    "x2d = np.array([1, 1, -1, -1, -1, 1, -1, -1])\n",
    "x3d = np.array([1, 1, 1, -1, 1, 1, -1, 1])"
   ]
  },
  {
   "cell_type": "markdown",
   "metadata": {},
   "source": [
    "## 3.1"
   ]
  },
  {
   "cell_type": "code",
   "execution_count": 6,
   "metadata": {},
   "outputs": [
    {
     "ename": "NameError",
     "evalue": "name 'find_attractor' is not defined",
     "output_type": "error",
     "traceback": [
      "\u001b[0;31m---------------------------------------------------------------------------\u001b[0m",
      "\u001b[0;31mNameError\u001b[0m                                 Traceback (most recent call last)",
      "\u001b[0;32m<ipython-input-6-d8f692abc5e8>\u001b[0m in \u001b[0;36m<module>\u001b[0;34m()\u001b[0m\n\u001b[0;32m----> 1\u001b[0;31m \u001b[0mfind_attractor\u001b[0m\u001b[0;34m(\u001b[0m\u001b[0mx3d\u001b[0m\u001b[0;34m,\u001b[0m \u001b[0mw\u001b[0m\u001b[0;34m)\u001b[0m\u001b[0;34m\u001b[0m\u001b[0m\n\u001b[0m",
      "\u001b[0;31mNameError\u001b[0m: name 'find_attractor' is not defined"
     ]
    }
   ],
   "source": [
    "find_attractor(x3d, w)"
   ]
  },
  {
   "cell_type": "code",
   "execution_count": 7,
   "metadata": {},
   "outputs": [],
   "source": [
    "# Test convergens patters\n",
    "def find_attractor(x, w):\n",
    "    prev = x\n",
    "\n",
    "    while True:\n",
    "        curr = update_rule(prev, w)\n",
    "        if np.array_equal(curr, prev):\n",
    "            break\n",
    "        prev = curr\n",
    "    return prev\n"
   ]
  },
  {
   "cell_type": "code",
   "execution_count": 8,
   "metadata": {},
   "outputs": [],
   "source": [
    "def generate_combination():\n",
    "    x = np.array([1, 1, 1, 1, -1, -1, -1, -1])\n",
    "    np.random.shuffle(x)\n",
    "    return x\n",
    "\n",
    "def array_in(small, large):\n",
    "    for array in large:\n",
    "        if np.array_equal(small, array):\n",
    "            return True\n",
    "    return False"
   ]
  },
  {
   "cell_type": "code",
   "execution_count": 9,
   "metadata": {},
   "outputs": [
    {
     "name": "stdout",
     "output_type": "stream",
     "text": [
      "There are 9 attractors\n",
      "[[1, 1, 1, 1, 1, -1, 1, 1], [-1, 1, 1, -1, -1, 1, -1, 1], [-1, -1, 1, -1, 1, 1, -1, 1], [1, 1, -1, 1, 1, -1, 1, -1], [1, 1, -1, 1, -1, 1, 1, -1], [-1, -1, 1, -1, 1, -1, -1, 1], array([ 1, -1, -1,  1,  1, -1,  1, -1]), array([-1,  1,  1, -1,  1, -1, -1,  1]), [1, 1, -1, 1, 1, 1, 1, -1]]\n"
     ]
    },
    {
     "name": "stderr",
     "output_type": "stream",
     "text": [
      "/usr/local/lib/python3.6/site-packages/ipykernel_launcher.py:2: DeprecationWarning: In future, it will be an error for 'np.bool_' scalars to be interpreted as an index\n",
      "  \n"
     ]
    }
   ],
   "source": [
    "# How many attractors are there?\n",
    "\n",
    "pool = []\n",
    "\n",
    "for i in range(400):\n",
    "    x = generate_combination()\n",
    "    \n",
    "    pattern = find_attractor(x, w)\n",
    "    if not array_in(pattern, pool):\n",
    "        pool.append(pattern)\n",
    "\n",
    "print(\"There are\", len(pool), \"attractors\")\n",
    "print(pool)"
   ]
  },
  {
   "cell_type": "code",
   "execution_count": 10,
   "metadata": {},
   "outputs": [
    {
     "name": "stderr",
     "output_type": "stream",
     "text": [
      "/usr/local/lib/python3.6/site-packages/ipykernel_launcher.py:2: DeprecationWarning: In future, it will be an error for 'np.bool_' scalars to be interpreted as an index\n",
      "  \n"
     ]
    },
    {
     "data": {
      "text/plain": [
       "[1, 1, -1, 1, -1, 1, 1, -1]"
      ]
     },
     "execution_count": 10,
     "metadata": {},
     "output_type": "execute_result"
    }
   ],
   "source": [
    "#More than half is wrong, what happens?\n",
    "#Finds another attractor\n",
    "\n",
    "pattern = [-1, -1, -1, 1, -1, 1, 1, 1]\n",
    "\n",
    "find_attractor(pattern, w)"
   ]
  },
  {
   "cell_type": "markdown",
   "metadata": {},
   "source": [
    "### 3.2"
   ]
  },
  {
   "cell_type": "code",
   "execution_count": 11,
   "metadata": {},
   "outputs": [],
   "source": [
    "def store_patterns():\n",
    "    data = np.loadtxt('./pict.dat',delimiter=\",\", dtype=int).reshape(-1,1024)\n",
    "    return data\n",
    "    #data = np.genfromtxt('pict.dat',\n",
    "     #                dtype=None,\n",
    "      #               delimiter=\",\")\n",
    "    #patterns_pic = []\n",
    "    \n",
    "    #for i in range(1,12):\n",
    "    #    img = np.zeros((32,32))\n",
    "    #    for j in range(32):\n",
    "    #        for k in range(32):\n",
    "    #            \n",
    "    #            img[j,k] = data[j*32+k]\n",
    "    #    patterns_pic.append(img)\n",
    "    #return patterns_pic\n",
    "        \n"
   ]
  },
  {
   "cell_type": "code",
   "execution_count": 12,
   "metadata": {},
   "outputs": [],
   "source": [
    "data = store_patterns()\n",
    "#squeeze = imgs[0].ravel()\n"
   ]
  },
  {
   "cell_type": "code",
   "execution_count": 13,
   "metadata": {},
   "outputs": [
    {
     "data": {
      "text/plain": [
       "<matplotlib.image.AxesImage at 0x114a0c400>"
      ]
     },
     "execution_count": 13,
     "metadata": {},
     "output_type": "execute_result"
    },
    {
     "data": {
      "image/png": "[encoded data removed]",
      "text/plain": [
       "<Figure size 432x288 with 1 Axes>"
      ]
     },
     "metadata": {
      "needs_background": "light"
     },
     "output_type": "display_data"
    }
   ],
   "source": [
    "plt.imshow(data[0].reshape(32,32),interpolation=\"nearest\")"
   ]
  },
  {
   "cell_type": "code",
   "execution_count": 14,
   "metadata": {},
   "outputs": [],
   "source": [
    "def init_weights(patterns):\n",
    "    dim = patterns.shape[1]\n",
    "    w=np.zeros((dim,dim))\n",
    "    \n",
    "    for i in range(dim):\n",
    "        for j in range(dim):\n",
    "            s = 0\n",
    "            for pattern in patterns:\n",
    "                s += pattern[i]*pattern[j]\n",
    "            w[i][j]=(1/(patterns.size)) * s\n",
    "    return w"
   ]
  },
  {
   "cell_type": "code",
   "execution_count": 15,
   "metadata": {},
   "outputs": [],
   "source": [
    "w_pics = init_weights(data[:3,:])"
   ]
  },
  {
   "cell_type": "code",
   "execution_count": 16,
   "metadata": {},
   "outputs": [
    {
     "name": "stderr",
     "output_type": "stream",
     "text": [
      "/usr/local/lib/python3.6/site-packages/ipykernel_launcher.py:2: DeprecationWarning: In future, it will be an error for 'np.bool_' scalars to be interpreted as an index\n",
      "  \n"
     ]
    },
    {
     "name": "stdout",
     "output_type": "stream",
     "text": [
      "True\n",
      "True\n",
      "True\n"
     ]
    }
   ],
   "source": [
    "attra = find_attractor(data[0], w_pics)\n",
    "print(np.array_equal(attra, data[0]))\n",
    "\n",
    "attra = find_attractor(data[1], w_pics)\n",
    "print(np.array_equal(attra, data[1]))\n",
    "\n",
    "attra = find_attractor(data[2], w_pics)\n",
    "print(np.array_equal(attra, data[2]))\n"
   ]
  },
  {
   "cell_type": "code",
   "execution_count": 17,
   "metadata": {},
   "outputs": [
    {
     "name": "stderr",
     "output_type": "stream",
     "text": [
      "/usr/local/lib/python3.6/site-packages/ipykernel_launcher.py:2: DeprecationWarning: In future, it will be an error for 'np.bool_' scalars to be interpreted as an index\n",
      "  \n"
     ]
    },
    {
     "name": "stdout",
     "output_type": "stream",
     "text": [
      "True\n"
     ]
    }
   ],
   "source": [
    "check_deg_pat = find_attractor(data[9], w_pics)\n",
    "print(np.array_equal(check_deg_pat, data[0]))\n",
    "\n",
    "#Can complete"
   ]
  },
  {
   "cell_type": "code",
   "execution_count": 18,
   "metadata": {},
   "outputs": [
    {
     "name": "stderr",
     "output_type": "stream",
     "text": [
      "/usr/local/lib/python3.6/site-packages/ipykernel_launcher.py:2: DeprecationWarning: In future, it will be an error for 'np.bool_' scalars to be interpreted as an index\n",
      "  \n"
     ]
    },
    {
     "name": "stdout",
     "output_type": "stream",
     "text": [
      "False\n"
     ]
    }
   ],
   "source": [
    "check_deg_pat = find_attractor(data[10], w_pics)\n",
    "print(np.array_equal(check_deg_pat, data[2]))\n",
    "\n",
    "#Can't complete"
   ]
  },
  {
   "cell_type": "code",
   "execution_count": 19,
   "metadata": {},
   "outputs": [],
   "source": [
    "#What happens if we select units randomly?\n",
    "\n",
    "def random_units(w, data, pattern):\n",
    "    \n",
    "    dim = len(w) \n",
    "    itera = 0\n",
    "    gen_pattern = np.zeros(len(w))\n",
    "    \n",
    "    while True:\n",
    "        ind = np.random.randint(0,dim)\n",
    "        #pred_rand = np.dot(w[ind], pattern)\n",
    "      \n",
    "        pred=0\n",
    "    \n",
    "        for j in range(dim):\n",
    "            pred += w[ind,j] * pattern[j]\n",
    "        \n",
    "        pred_sign = sign(pred) \n",
    "\n",
    "        gen_pattern[ind] = pred_sign\n",
    "        \n",
    "        \n",
    "        itera += 1\n",
    "            \n",
    "        if itera%100 == 0:\n",
    "            e = energy(w, gen_pattern)\n",
    "            print(\"energy for iteration\", itera, \"is\", e)\n",
    "            plt.imshow(gen_pattern.reshape(32,32),interpolation=\"nearest\")\n",
    "            stri = \"Iteration \" + str(itera)\n",
    "            title = 'Random units, iteration: ' + str(itera)\n",
    "            plt.title(title)\n",
    "            #plt.savefig(stri)\n",
    "            plt.show()\n",
    "            \n",
    "            \n",
    "        for i in range(len(data)):\n",
    "            if np.array_equal(gen_pattern, data[i]):\n",
    "                print(\"pattern matched image:\", i+1)\n",
    "                print(\"found after iteration:\", itera)\n",
    "                e = energy(w, gen_pattern)\n",
    "                print(\"energy for iteration\", itera, \"is\", e)\n",
    "                plt.imshow(gen_pattern.reshape(32,32),interpolation=\"nearest\")\n",
    "                stri = \"Iteration \" + str(itera)\n",
    "                title = 'Random units, iteration: ' + str(itera)\n",
    "                plt.title(title)\n",
    "                #plt.savefig(stri)\n",
    "                plt.show()\n",
    "                return\n",
    "        \n",
    "        \n",
    "\n",
    "    \n",
    "        \n",
    "            \n",
    "    \n",
    "    "
   ]
  },
  {
   "cell_type": "code",
   "execution_count": 20,
   "metadata": {},
   "outputs": [
    {
     "name": "stderr",
     "output_type": "stream",
     "text": [
      "/usr/local/lib/python3.6/site-packages/ipykernel_launcher.py:2: DeprecationWarning: In future, it will be an error for 'np.bool_' scalars to be interpreted as an index\n",
      "  \n"
     ]
    },
    {
     "ename": "NameError",
     "evalue": "name 'energy' is not defined",
     "output_type": "error",
     "traceback": [
      "\u001b[0;31m---------------------------------------------------------------------------\u001b[0m",
      "\u001b[0;31mNameError\u001b[0m                                 Traceback (most recent call last)",
      "\u001b[0;32m<ipython-input-20-5fe7aaa700cf>\u001b[0m in \u001b[0;36m<module>\u001b[0;34m()\u001b[0m\n\u001b[0;32m----> 1\u001b[0;31m \u001b[0mrandom_units\u001b[0m\u001b[0;34m(\u001b[0m\u001b[0mw_pics\u001b[0m\u001b[0;34m,\u001b[0m \u001b[0mdata\u001b[0m\u001b[0;34m[\u001b[0m\u001b[0;34m:\u001b[0m\u001b[0;36m3\u001b[0m\u001b[0;34m,\u001b[0m\u001b[0;34m:\u001b[0m\u001b[0;34m]\u001b[0m\u001b[0;34m,\u001b[0m \u001b[0mdata\u001b[0m\u001b[0;34m[\u001b[0m\u001b[0;36m0\u001b[0m\u001b[0;34m,\u001b[0m\u001b[0;34m:\u001b[0m\u001b[0;34m]\u001b[0m\u001b[0;34m)\u001b[0m\u001b[0;34m\u001b[0m\u001b[0m\n\u001b[0m",
      "\u001b[0;32m<ipython-input-19-39587aa73e76>\u001b[0m in \u001b[0;36mrandom_units\u001b[0;34m(w, data, pattern)\u001b[0m\n\u001b[1;32m     24\u001b[0m \u001b[0;34m\u001b[0m\u001b[0m\n\u001b[1;32m     25\u001b[0m         \u001b[0;32mif\u001b[0m \u001b[0mitera\u001b[0m\u001b[0;34m%\u001b[0m\u001b[0;36m100\u001b[0m \u001b[0;34m==\u001b[0m \u001b[0;36m0\u001b[0m\u001b[0;34m:\u001b[0m\u001b[0;34m\u001b[0m\u001b[0m\n\u001b[0;32m---> 26\u001b[0;31m             \u001b[0me\u001b[0m \u001b[0;34m=\u001b[0m \u001b[0menergy\u001b[0m\u001b[0;34m(\u001b[0m\u001b[0mw\u001b[0m\u001b[0;34m,\u001b[0m \u001b[0mgen_pattern\u001b[0m\u001b[0;34m)\u001b[0m\u001b[0;34m\u001b[0m\u001b[0m\n\u001b[0m\u001b[1;32m     27\u001b[0m             \u001b[0mprint\u001b[0m\u001b[0;34m(\u001b[0m\u001b[0;34m\"energy for iteration\"\u001b[0m\u001b[0;34m,\u001b[0m \u001b[0mitera\u001b[0m\u001b[0;34m,\u001b[0m \u001b[0;34m\"is\"\u001b[0m\u001b[0;34m,\u001b[0m \u001b[0me\u001b[0m\u001b[0;34m)\u001b[0m\u001b[0;34m\u001b[0m\u001b[0m\n\u001b[1;32m     28\u001b[0m             \u001b[0mplt\u001b[0m\u001b[0;34m.\u001b[0m\u001b[0mimshow\u001b[0m\u001b[0;34m(\u001b[0m\u001b[0mgen_pattern\u001b[0m\u001b[0;34m.\u001b[0m\u001b[0mreshape\u001b[0m\u001b[0;34m(\u001b[0m\u001b[0;36m32\u001b[0m\u001b[0;34m,\u001b[0m\u001b[0;36m32\u001b[0m\u001b[0;34m)\u001b[0m\u001b[0;34m,\u001b[0m\u001b[0minterpolation\u001b[0m\u001b[0;34m=\u001b[0m\u001b[0;34m\"nearest\"\u001b[0m\u001b[0;34m)\u001b[0m\u001b[0;34m\u001b[0m\u001b[0m\n",
      "\u001b[0;31mNameError\u001b[0m: name 'energy' is not defined"
     ]
    }
   ],
   "source": [
    "random_units(w_pics, data[:3,:], data[0,:])"
   ]
  },
  {
   "cell_type": "code",
   "execution_count": 22,
   "metadata": {},
   "outputs": [],
   "source": [
    "def energy(w, x):\n",
    "    dim = len(w)\n",
    "    e = 0\n",
    "    for i in range(dim):\n",
    "        for j in range(dim):\n",
    "            e+= w[i,j] * x[j]\n",
    "            \n",
    "    return -e\n",
    "        \n",
    "    "
   ]
  },
  {
   "cell_type": "code",
   "execution_count": 23,
   "metadata": {},
   "outputs": [
    {
     "data": {
      "text/plain": [
       "-442.1458333319907"
      ]
     },
     "execution_count": 23,
     "metadata": {},
     "output_type": "execute_result"
    }
   ],
   "source": [
    "energy(w_pics, data[2])"
   ]
  },
  {
   "cell_type": "code",
   "execution_count": 24,
   "metadata": {},
   "outputs": [],
   "source": [
    "def iter_units(w, data, pattern):\n",
    "    \n",
    "    dim = len(w) \n",
    "    itera = 0\n",
    "    gen_pattern = np.zeros(len(w))\n",
    "    \n",
    "      \n",
    "    pred=0\n",
    "\n",
    "    for i in range(dim):\n",
    "        pred = np.dot(w[i],pattern.T)\n",
    "        gen_pattern[i] = sign(pred)\n",
    "\n",
    "\n",
    "    \n",
    "\n",
    "    print(\"pattern matched image:\", i+1)\n",
    "    \n",
    "    e = energy(w, gen_pattern)\n",
    "    print(\"energy for iteration\", itera, \"is\", e)\n",
    "    plt.imshow(gen_pattern.reshape(32,32),interpolation=\"nearest\")\n",
    "    plt.show()\n",
    "    return\n",
    "        \n",
    "        "
   ]
  },
  {
   "cell_type": "code",
   "execution_count": 25,
   "metadata": {},
   "outputs": [],
   "source": [
    "def calc_energy(pattern, w):\n",
    "    dim = pattern.size\n",
    "    energy=0\n",
    "    \n",
    "    enrg = np.multiply(w, np.multiply.outer(pattern, pattern.T)).sum()\n",
    "    \n",
    "    \"\"\"for i in range(dim):\n",
    "        for j in range(dim):\n",
    "            energy-= w[i][j]*pattern[i]*pattern[j]\n",
    "    \"\"\"        \n",
    "    return -enrg\n",
    "\n",
    "def recall2(pattern,w):\n",
    "    dim = pattern.size\n",
    "    count = 0\n",
    "    energyLevels = []\n",
    "    \n",
    "    previousPattern = np.zeros(dim)\n",
    "    while True:\n",
    "        \n",
    "        s = np.dot(w,pattern)\n",
    "        s[s >= 0] = 1\n",
    "        s[s < 0] = -1\n",
    "                    \n",
    "        pattern=s\n",
    "        \n",
    "        count += 1  \n",
    "            \n",
    "        energyLevels.append(calc_energy(pattern,w))\n",
    "        \n",
    "        #print(\"Energy: \", calc_energy(pattern,w))\n",
    "\n",
    "        if check_True(pattern):\n",
    "            #print (\"It took:\",count,\"nr of iterations\")\n",
    "            #plt.imshow(pattern.reshape(32,32),interpolation=\"nearest\")\n",
    "            #plt.show()\n",
    "            return pattern\n",
    "            \n",
    "        elif np.array_equal(pattern,previousPattern):\n",
    "            #print(\"Local minimum found in iteration:\",count)\n",
    "            #plt.imshow(pattern.reshape(32,32),interpolation=\"nearest\")\n",
    "            #plt.show()\n",
    "            return False\n",
    "        \n",
    "        previousPattern=pattern\n",
    "        if count ==50:\n",
    "            return False\n",
    "\n",
    "def recall(pattern,w):\n",
    "    dim = pattern.size\n",
    "    count = 0\n",
    "    energyLevels = []\n",
    "    \n",
    "    previousPattern = np.zeros(dim)\n",
    "    while True:\n",
    "        \n",
    "        s = np.dot(w,pattern)\n",
    "        s[s >= 0] = 1\n",
    "        s[s < 0] = -1\n",
    "                    \n",
    "        pattern=s\n",
    "        \n",
    "        count += 1  \n",
    "            \n",
    "        energyLevels.append(calc_energy(pattern,w))\n",
    "        \n",
    "        #print(\"Energy: \", calc_energy(pattern,w))\n",
    "\n",
    "        if check_True(pattern):\n",
    "            #print (\"It took:\",count,\"nr of iterations\")\n",
    "            #plt.imshow(pattern.reshape(32,32),interpolation=\"nearest\")\n",
    "            #plt.show()\n",
    "            break\n",
    "            \n",
    "        elif np.array_equal(pattern,previousPattern):\n",
    "            #print(\"Local minimum found in iteration:\",count)\n",
    "            #plt.imshow(pattern.reshape(32,32),interpolation=\"nearest\")\n",
    "            #plt.show()\n",
    "            break\n",
    "        \n",
    "        previousPattern=pattern\n",
    "        if count ==50:\n",
    "            break\n",
    "    \n",
    "    #plt.plot(range(len(energyLevels)),energyLevels)\n",
    "    #plt.xlabel(\"Iterations\")\n",
    "    #plt.ylabel(\"Energy\")\n",
    "    #plt.savefig('w_rand')\n",
    "    #plt.show()\n",
    "    #print(energyLevels)\n",
    "        \n",
    "def check_True(predicted_pattern):\n",
    "    solved = False\n",
    "    for i in range(3):\n",
    "        if np.array_equal(data[i],predicted_pattern):\n",
    "            solved = True\n",
    "    return solved\n",
    "        \n",
    "        "
   ]
  },
  {
   "cell_type": "code",
   "execution_count": 26,
   "metadata": {},
   "outputs": [],
   "source": [
    "#Generate weights to normally distributed random numbers\n",
    "dim = len(w_pics)\n",
    "mu, sigma = 0, 1 # mean and standard deviation\n",
    "w_rand = np.random.normal(mu, sigma, [dim, dim])\n",
    "#w_rand = np.random.randn(dim, dim)\n",
    "\n",
    "#iter_units(w, data[:3], data[0])\n",
    "\n",
    "#Doesn't converge"
   ]
  },
  {
   "cell_type": "code",
   "execution_count": 27,
   "metadata": {},
   "outputs": [],
   "source": [
    "def check_symmetric(a, tol=1e-8):\n",
    "    \n",
    "    return np.allclose(a, a.T, atol=tol)"
   ]
  },
  {
   "cell_type": "code",
   "execution_count": 28,
   "metadata": {},
   "outputs": [],
   "source": [
    "#Generate symmetric weight matrix\n",
    "\n",
    "#w_sym=0.5*(np.add(w,w.T))\n",
    "w_sym = np.multiply(0.5,np.add(w_rand,w_rand.T))\n",
    "#iter_units(w, data[0:3], data[0])\n",
    "\n",
    "#Energy is higher, because...?"
   ]
  },
  {
   "cell_type": "code",
   "execution_count": 29,
   "metadata": {},
   "outputs": [],
   "source": [
    "recall(data[0], w_rand)\n",
    "#recall(data[0], w_sym)"
   ]
  },
  {
   "cell_type": "markdown",
   "metadata": {},
   "source": [
    "# 3.4"
   ]
  },
  {
   "cell_type": "code",
   "execution_count": 30,
   "metadata": {},
   "outputs": [],
   "source": [
    "def flip_pattern(x, perc):\n",
    "    ind_vec = np.random.randint(0,len(x),round(len(x)*perc))\n",
    "    \n",
    "    for i in range(len(ind_vec)):\n",
    "        x[i] = -x[i]\n",
    "        \n",
    "    plt.imshow(x.reshape(32,32),interpolation=\"nearest\")\n",
    "    plt.show()\n",
    "        \n",
    "    return x\n",
    "\n",
    "def flip(pattern, percentage):\n",
    "    index = np.arange(pattern.size)\n",
    "    np.random.shuffle(index)\n",
    "    \n",
    "    abso = int(percentage*pattern.size)\n",
    "    flipIndex = index[:abso]\n",
    "    \n",
    "    flipped = np.copy(pattern)\n",
    "    flipped[flipIndex] = -1*flipped[flipIndex]\n",
    "    \n",
    "    #plt.imshow(flipped.reshape(32,32),interpolation=\"nearest\")\n",
    "    #plt.show()\n",
    "    \n",
    "    return flipped\n",
    "\n",
    "def flip2(pattern, percentage):\n",
    "    index = np.arange(pattern.size)\n",
    "    np.random.shuffle(index)\n",
    "    \n",
    "    abso = int(percentage*pattern.size)\n",
    "    flipIndex = index[:abso]\n",
    "    \n",
    "    flipped = np.copy(pattern)\n",
    "    flipped[flipIndex] = -1*flipped[flipIndex]\n",
    "    \n",
    "    plt.imshow(flipped.reshape(32,32),interpolation=\"nearest\")\n",
    "    plt.show()\n",
    "    \n",
    "    return flipped\n",
    "    "
   ]
  },
  {
   "cell_type": "code",
   "execution_count": 31,
   "metadata": {},
   "outputs": [],
   "source": [
    "y = flip(data[0], 0.1)\n",
    "#plt.imshow(data[0].reshape(32,32),interpolation=\"nearest\")\n",
    "#plt.show()"
   ]
  },
  {
   "cell_type": "code",
   "execution_count": 50,
   "metadata": {},
   "outputs": [
    {
     "data": {
      "image/png": "[encoded data removed]",
      "text/plain": [
       "<Figure size 432x288 with 1 Axes>"
      ]
     },
     "metadata": {
      "needs_background": "light"
     },
     "output_type": "display_data"
    }
   ],
   "source": [
    "#Train a network with noise on pattern\n",
    "\n",
    "res = []\n",
    "ind = 2\n",
    "for i in range(0,101):\n",
    "    success = 0\n",
    "    x = flip(data[ind],i/100)\n",
    "    \n",
    "    #plt.imshow(x.reshape(32,32),interpolation=\"nearest\")\n",
    "    #plt.show()\n",
    "    \n",
    "    new_pattern = recall2(x, w_pics)\n",
    "    \n",
    "    if np.array_equal(data[ind], new_pattern):\n",
    "        success = 1\n",
    "    res.append(success)    \n",
    "\n",
    "plt.plot(range(0,101),res, 'ro')\n",
    "plt.xlabel('% Noise')\n",
    "plt.ylabel('Completed')\n",
    "plt.title('p3')\n",
    "plt.savefig('noisep3')\n",
    "plt.show()\n",
    "\n",
    "\n"
   ]
  },
  {
   "cell_type": "code",
   "execution_count": 61,
   "metadata": {},
   "outputs": [
    {
     "data": {
      "text/plain": [
       "[<matplotlib.lines.Line2D at 0x11660d048>]"
      ]
     },
     "execution_count": 61,
     "metadata": {},
     "output_type": "execute_result"
    },
    {
     "data": {
      "image/png": "[encoded data removed]",
      "text/plain": [
       "<Figure size 432x288 with 1 Axes>"
      ]
     },
     "metadata": {
      "needs_background": "light"
     },
     "output_type": "display_data"
    }
   ],
   "source": [
    "#perc_list = [0.1, 0.2, 0.3, 0. 0.5, 0.7, 0.85]\n",
    "bool_list = []\n",
    "start_ind = 2\n",
    "for i in range(0, 101):\n",
    "    \n",
    "    x = flip(data[start_ind],i/100)\n",
    "    ind = recall(x, w_pics)\n",
    "    if ind == start_ind:\n",
    "        bool_list.append(True)\n",
    "    else:\n",
    "        bool_list.append(False)\n",
    "\n",
    "plt.plot(range(0,101), bool_list)"
   ]
  },
  {
   "cell_type": "code",
   "execution_count": 57,
   "metadata": {},
   "outputs": [],
   "source": [
    "def recall(pattern,w):\n",
    "    dim = pattern.size\n",
    "    count = 0\n",
    "    energyLevels = []\n",
    "    \n",
    "    previousPattern = np.zeros(dim)\n",
    "    while True:   \n",
    "        \n",
    "        s = np.dot(w,pattern)\n",
    "        s[s >= 0] = 1\n",
    "        s[s < 0] = -1\n",
    "                    \n",
    "        pattern=s\n",
    "        \n",
    "        count += 1  \n",
    "        \n",
    "        #plt.imshow(pattern.reshape(32,32),interpolation=\"nearest\")\n",
    "        #plt.show()\n",
    "        \n",
    "        solved, ind = check_True(pattern)\n",
    "        if solved:\n",
    "            #print (\"It took:\",count,\"nr of iterations\")\n",
    "            #plt.imshow(pattern.reshape(32,32),interpolation=\"nearest\")\n",
    "            #plt.show()\n",
    "            return ind\n",
    "            \n",
    "        elif np.array_equal(pattern,previousPattern):\n",
    "            #print(\"Local minimum found in iteration:\",count)\n",
    "            return -1\n",
    "        previousPattern = np.copy(pattern)\n",
    "\n",
    "def check_True(predicted_pattern):\n",
    "    solved = False\n",
    "    for i in range(3):\n",
    "        if np.array_equal(data[i],predicted_pattern):\n",
    "            #print(\"True! It matched pattern nr:\",i)\n",
    "            solved = True\n",
    "    return solved, i"
   ]
  },
  {
   "cell_type": "code",
   "execution_count": null,
   "metadata": {},
   "outputs": [],
   "source": []
  }
 ],
 "metadata": {
  "kernelspec": {
   "display_name": "Python 3",
   "language": "python",
   "name": "python3"
  },
  "language_info": {
   "codemirror_mode": {
    "name": "ipython",
    "version": 3
   },
   "file_extension": ".py",
   "mimetype": "text/x-python",
   "name": "python",
   "nbconvert_exporter": "python",
   "pygments_lexer": "ipython3",
   "version": "3.6.5"
  }
 },
 "nbformat": 4,
 "nbformat_minor": 2
}
