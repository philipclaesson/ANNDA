{
 "cells": [
  {
   "cell_type": "code",
   "execution_count": 46,
   "metadata": {},
   "outputs": [],
   "source": [
    "import numpy as np\n",
    "import random\n",
    "from matplotlib import pyplot as plt"
   ]
  },
  {
   "cell_type": "code",
   "execution_count": 45,
   "metadata": {},
   "outputs": [],
   "source": [
    "def sign(x):\n",
    "    return (1, -1)[x < 0]\n",
    "\n",
    "def update_rule(a, w):\n",
    "    x = np.zeros(len(a))\n",
    "    for i in range(len(a)):\n",
    "        for j in range(len(a)):\n",
    "            x[i] += w[i, j] * a[j]\n",
    "    x = [sign(a) for a in x]\n",
    "    return x"
   ]
  },
  {
   "cell_type": "code",
   "execution_count": 3,
   "metadata": {},
   "outputs": [],
   "source": [
    "# Test convergens patters\n",
    "def find_attractor(x, w):\n",
    "    prev = x\n",
    "\n",
    "    while True:\n",
    "        curr = update_rule(prev, w)\n",
    "        if np.array_equal(curr, prev):\n",
    "            break\n",
    "        prev = curr\n",
    "    return prev"
   ]
  },
  {
   "cell_type": "code",
   "execution_count": 4,
   "metadata": {},
   "outputs": [],
   "source": [
    "def store_patterns():\n",
    "    data = np.loadtxt('./pict.dat',delimiter=\",\", dtype=int).reshape(-1,1024)\n",
    "    return data"
   ]
  },
  {
   "cell_type": "code",
   "execution_count": 5,
   "metadata": {},
   "outputs": [],
   "source": [
    "def init_weights(patterns):\n",
    "    dim = patterns.shape[1]\n",
    "    w=np.zeros((dim,dim))\n",
    "    \n",
    "    for i in range(dim):\n",
    "        for j in range(dim):\n",
    "            s = 0\n",
    "            for pattern in patterns:\n",
    "                s += pattern[i]*pattern[j]\n",
    "            w[i][j]=(1/(patterns.size)) * s\n",
    "    #w=0.5*(np.add(w,w.T))\n",
    "    return w"
   ]
  },
  {
   "cell_type": "code",
   "execution_count": 6,
   "metadata": {},
   "outputs": [],
   "source": [
    "def recall(pattern,w, patterns):\n",
    "    dim = pattern.size\n",
    "    count = 0\n",
    "    energyLevels = []\n",
    "    \n",
    "    previousPattern = np.zeros(dim)\n",
    "    while True:   \n",
    "        \n",
    "        s = np.dot(w,pattern)\n",
    "        s[s >= 0] = 1\n",
    "        s[s < 0] = -1\n",
    "        \n",
    "        pattern=s\n",
    "        \n",
    "\n",
    "        \n",
    "        count += 1  \n",
    "        \n",
    "        #plt.imshow(pattern.reshape(32,32),interpolation=\"nearest\")\n",
    "        #plt.show()\n",
    "        \n",
    "        solved, ind = check_True(pattern, patterns)\n",
    "        if solved:\n",
    "            print (\"It took:\",count,\"nr of iterations\")\n",
    "            plt.imshow(pattern.reshape(32,32),interpolation=\"nearest\")\n",
    "            plt.show()\n",
    "            return ind\n",
    "            \n",
    "        elif np.array_equal(pattern,previousPattern):\n",
    "            print(\"Local minimum found in iteration:\",count)\n",
    "            return -1\n",
    "        previousPattern = np.copy(pattern)\n",
    "\n",
    "def check_True(predicted_pattern, patterns):\n",
    "    solved = False\n",
    "    for i in range(len(patterns)):\n",
    "        if np.array_equal(patterns[i],predicted_pattern):\n",
    "            #print(\"True! It matched pattern nr:\",i)\n",
    "            solved = True\n",
    "    return solved, i\n",
    "\n",
    "def recall2(pattern,w, patterns):\n",
    "    dim = pattern.size\n",
    "    count = 0\n",
    "    energyLevels = []\n",
    "    \n",
    "    previousPattern = np.zeros(dim)\n",
    "    while True:\n",
    "        \n",
    "        s = np.dot(w,pattern)\n",
    "        s[s >= 0] = 1\n",
    "        s[s < 0] = -1\n",
    "                    \n",
    "        pattern=s\n",
    "        \n",
    "        count += 1  \n",
    "            \n",
    "        energyLevels.append(calc_energy(pattern,w))\n",
    "        \n",
    "        #print(\"Energy: \", calc_energy(pattern,w))\n",
    "\n",
    "        if check_True(pattern, patterns):\n",
    "            #print (\"It took:\",count,\"nr of iterations\")\n",
    "            #plt.imshow(pattern.reshape(32,32),interpolation=\"nearest\")\n",
    "            #plt.show()\n",
    "            return pattern\n",
    "            \n",
    "        elif np.array_equal(pattern,previousPattern):\n",
    "            #print(\"Local minimum found in iteration:\",count)\n",
    "            #plt.imshow(pattern.reshape(32,32),interpolation=\"nearest\")\n",
    "            #plt.show()\n",
    "            return False\n",
    "        \n",
    "        previousPattern=pattern\n",
    "        if count ==50:\n",
    "            return False\n",
    "        \n",
    "def calc_energy(pattern, w):\n",
    "    dim = pattern.size\n",
    "    energy=0\n",
    "    \n",
    "    enrg = np.multiply(w, np.multiply.outer(pattern, pattern.T)).sum()\n",
    "    \n",
    "    \"\"\"for i in range(dim):\n",
    "        for j in range(dim):\n",
    "            energy-= w[i][j]*pattern[i]*pattern[j]\n",
    "    \"\"\"        \n",
    "    return -enrg"
   ]
  },
  {
   "cell_type": "code",
   "execution_count": 7,
   "metadata": {},
   "outputs": [],
   "source": [
    "def flip(pattern, percentage):\n",
    "    index = np.arange(pattern.size)\n",
    "    np.random.shuffle(index)\n",
    "    \n",
    "    abso = int(percentage*pattern.size)\n",
    "    flipIndex = index[:abso]\n",
    "    \n",
    "    flipped = np.copy(pattern)\n",
    "    flipped[flipIndex] = -1*flipped[flipIndex]\n",
    "    \n",
    "    #plt.imshow(flipped.reshape(32,32),interpolation=\"nearest\")\n",
    "    #plt.show()\n",
    "    \n",
    "    return flipped\n",
    "    "
   ]
  },
  {
   "cell_type": "code",
   "execution_count": 8,
   "metadata": {},
   "outputs": [],
   "source": [
    "data = store_patterns()\n",
    "w = init_weights(data[:5,:])\n"
   ]
  },
  {
   "cell_type": "code",
   "execution_count": 9,
   "metadata": {},
   "outputs": [
    {
     "name": "stdout",
     "output_type": "stream",
     "text": [
      "Local minimum found in iteration: 3\n",
      "Local minimum found in iteration: 3\n",
      "Local minimum found in iteration: 3\n",
      "Local minimum found in iteration: 3\n",
      "Local minimum found in iteration: 3\n",
      "Local minimum found in iteration: 3\n",
      "Local minimum found in iteration: 3\n",
      "Local minimum found in iteration: 3\n",
      "Local minimum found in iteration: 3\n",
      "Local minimum found in iteration: 3\n",
      "Local minimum found in iteration: 3\n",
      "Local minimum found in iteration: 3\n",
      "Local minimum found in iteration: 3\n",
      "Local minimum found in iteration: 3\n",
      "Local minimum found in iteration: 3\n",
      "Local minimum found in iteration: 3\n",
      "Local minimum found in iteration: 3\n",
      "Local minimum found in iteration: 3\n",
      "Local minimum found in iteration: 3\n",
      "Local minimum found in iteration: 3\n",
      "Local minimum found in iteration: 3\n",
      "Local minimum found in iteration: 3\n",
      "Local minimum found in iteration: 3\n",
      "Local minimum found in iteration: 3\n",
      "Local minimum found in iteration: 3\n",
      "Local minimum found in iteration: 3\n",
      "Local minimum found in iteration: 3\n",
      "Local minimum found in iteration: 3\n",
      "Local minimum found in iteration: 3\n",
      "Local minimum found in iteration: 3\n",
      "Local minimum found in iteration: 3\n",
      "Local minimum found in iteration: 3\n",
      "Local minimum found in iteration: 3\n",
      "Local minimum found in iteration: 3\n",
      "Local minimum found in iteration: 3\n",
      "Local minimum found in iteration: 3\n",
      "Local minimum found in iteration: 3\n",
      "Local minimum found in iteration: 3\n",
      "Local minimum found in iteration: 3\n",
      "Local minimum found in iteration: 3\n",
      "Local minimum found in iteration: 3\n",
      "Local minimum found in iteration: 3\n",
      "Local minimum found in iteration: 3\n",
      "Local minimum found in iteration: 3\n",
      "It took: 1 nr of iterations\n"
     ]
    },
    {
     "data": {
      "image/png": "[encoded data removed]",
      "text/plain": [
       "<Figure size 432x288 with 1 Axes>"
      ]
     },
     "metadata": {
      "needs_background": "light"
     },
     "output_type": "display_data"
    },
    {
     "name": "stdout",
     "output_type": "stream",
     "text": [
      "Local minimum found in iteration: 3\n",
      "Local minimum found in iteration: 3\n",
      "Local minimum found in iteration: 3\n",
      "Local minimum found in iteration: 3\n",
      "Local minimum found in iteration: 3\n",
      "Local minimum found in iteration: 3\n",
      "Local minimum found in iteration: 4\n",
      "Local minimum found in iteration: 3\n",
      "Local minimum found in iteration: 4\n",
      "Local minimum found in iteration: 3\n",
      "Local minimum found in iteration: 3\n",
      "Local minimum found in iteration: 3\n",
      "Local minimum found in iteration: 3\n",
      "Local minimum found in iteration: 3\n",
      "Local minimum found in iteration: 3\n",
      "Local minimum found in iteration: 3\n",
      "Local minimum found in iteration: 3\n",
      "Local minimum found in iteration: 3\n",
      "Local minimum found in iteration: 3\n",
      "Local minimum found in iteration: 3\n",
      "Local minimum found in iteration: 3\n",
      "Local minimum found in iteration: 3\n",
      "Local minimum found in iteration: 3\n",
      "Local minimum found in iteration: 2\n",
      "Local minimum found in iteration: 3\n",
      "Local minimum found in iteration: 3\n",
      "Local minimum found in iteration: 3\n",
      "Local minimum found in iteration: 3\n",
      "Local minimum found in iteration: 3\n",
      "Local minimum found in iteration: 3\n",
      "Local minimum found in iteration: 3\n",
      "Local minimum found in iteration: 3\n",
      "Local minimum found in iteration: 3\n",
      "Local minimum found in iteration: 3\n",
      "Local minimum found in iteration: 3\n",
      "Local minimum found in iteration: 3\n",
      "Local minimum found in iteration: 3\n",
      "Local minimum found in iteration: 3\n",
      "Local minimum found in iteration: 3\n",
      "Local minimum found in iteration: 3\n",
      "Local minimum found in iteration: 3\n",
      "Local minimum found in iteration: 3\n",
      "Local minimum found in iteration: 3\n",
      "Local minimum found in iteration: 3\n",
      "Local minimum found in iteration: 3\n",
      "Local minimum found in iteration: 3\n",
      "Local minimum found in iteration: 3\n",
      "Local minimum found in iteration: 3\n",
      "Local minimum found in iteration: 3\n",
      "Local minimum found in iteration: 3\n",
      "Local minimum found in iteration: 3\n",
      "Local minimum found in iteration: 3\n",
      "Local minimum found in iteration: 3\n",
      "Local minimum found in iteration: 3\n",
      "Local minimum found in iteration: 3\n",
      "Local minimum found in iteration: 3\n"
     ]
    },
    {
     "data": {
      "text/plain": [
       "[<matplotlib.lines.Line2D at 0x119963160>]"
      ]
     },
     "execution_count": 9,
     "metadata": {},
     "output_type": "execute_result"
    },
    {
     "data": {
      "image/png": "[encoded data removed]",
      "text/plain": [
       "<Figure size 432x288 with 1 Axes>"
      ]
     },
     "metadata": {
      "needs_background": "light"
     },
     "output_type": "display_data"
    }
   ],
   "source": [
    "bool_list = []\n",
    "start_ind = 2\n",
    "for i in range(0, 101):\n",
    "    \n",
    "    x = flip(data[start_ind],i/100)\n",
    "    ind = recall(x, w, data)\n",
    "    if ind == start_ind:\n",
    "        bool_list.append(True)\n",
    "    else:\n",
    "        bool_list.append(False)\n",
    "\n",
    "plt.plot(range(0,101), bool_list)"
   ]
  },
  {
   "cell_type": "code",
   "execution_count": 10,
   "metadata": {},
   "outputs": [],
   "source": [
    "def random_patterns(num_pic):\n",
    "    random_imgs = []\n",
    "    binar = (1, -1)\n",
    "    for j in range(num_pic):\n",
    "        vec = np.zeros(1024)\n",
    "        for i in range(1024):\n",
    "            rand_int = np.random.randint(0, 2)\n",
    "            vec[i] = binar[rand_int]\n",
    "        random_imgs.append(vec)\n",
    "        \n",
    "    plt.imshow(random_imgs[0].reshape(32,32),interpolation=\"nearest\")\n",
    "    plt.show()    \n",
    "    \n",
    "    return np.array(random_imgs)\n",
    "    \n",
    "    "
   ]
  },
  {
   "cell_type": "code",
   "execution_count": 11,
   "metadata": {},
   "outputs": [
    {
     "data": {
      "image/png": "[encoded data removed]",
      "text/plain": [
       "<Figure size 432x288 with 1 Axes>"
      ]
     },
     "metadata": {
      "needs_background": "light"
     },
     "output_type": "display_data"
    }
   ],
   "source": [
    "random_imgs = random_patterns(100)\n",
    "w_random = init_weights(random_imgs)"
   ]
  },
  {
   "cell_type": "code",
   "execution_count": 12,
   "metadata": {},
   "outputs": [
    {
     "ename": "TypeError",
     "evalue": "recall() missing 1 required positional argument: 'patterns'",
     "output_type": "error",
     "traceback": [
      "\u001b[0;31m---------------------------------------------------------------------------\u001b[0m",
      "\u001b[0;31mTypeError\u001b[0m                                 Traceback (most recent call last)",
      "\u001b[0;32m<ipython-input-12-4652b6825cfc>\u001b[0m in \u001b[0;36m<module>\u001b[0;34m()\u001b[0m\n\u001b[1;32m      4\u001b[0m \u001b[0;34m\u001b[0m\u001b[0m\n\u001b[1;32m      5\u001b[0m     \u001b[0mx\u001b[0m \u001b[0;34m=\u001b[0m \u001b[0mflip\u001b[0m\u001b[0;34m(\u001b[0m\u001b[0mrandom_imgs\u001b[0m\u001b[0;34m[\u001b[0m\u001b[0mstart_ind\u001b[0m\u001b[0;34m]\u001b[0m\u001b[0;34m,\u001b[0m\u001b[0mi\u001b[0m\u001b[0;34m/\u001b[0m\u001b[0;36m100\u001b[0m\u001b[0;34m)\u001b[0m\u001b[0;34m\u001b[0m\u001b[0m\n\u001b[0;32m----> 6\u001b[0;31m     \u001b[0mind\u001b[0m \u001b[0;34m=\u001b[0m \u001b[0mrecall\u001b[0m\u001b[0;34m(\u001b[0m\u001b[0mrandom_imgs\u001b[0m\u001b[0;34m[\u001b[0m\u001b[0mstart_ind\u001b[0m\u001b[0;34m]\u001b[0m\u001b[0;34m,\u001b[0m \u001b[0mw\u001b[0m\u001b[0;34m)\u001b[0m\u001b[0;34m\u001b[0m\u001b[0m\n\u001b[0m\u001b[1;32m      7\u001b[0m     \u001b[0;32mif\u001b[0m \u001b[0mind\u001b[0m \u001b[0;34m==\u001b[0m \u001b[0mstart_ind\u001b[0m\u001b[0;34m:\u001b[0m\u001b[0;34m\u001b[0m\u001b[0m\n\u001b[1;32m      8\u001b[0m         \u001b[0mbool_list\u001b[0m\u001b[0;34m.\u001b[0m\u001b[0mappend\u001b[0m\u001b[0;34m(\u001b[0m\u001b[0;32mTrue\u001b[0m\u001b[0;34m)\u001b[0m\u001b[0;34m\u001b[0m\u001b[0m\n",
      "\u001b[0;31mTypeError\u001b[0m: recall() missing 1 required positional argument: 'patterns'"
     ]
    }
   ],
   "source": [
    "bool_list = []\n",
    "start_ind = 1\n",
    "for i in range(0, 101):\n",
    "    \n",
    "    x = flip(random_imgs[start_ind],i/100)\n",
    "    ind = recall(random_imgs[start_ind], w)\n",
    "    if ind == start_ind:\n",
    "        bool_list.append(True)\n",
    "    else:\n",
    "        bool_list.append(False)\n",
    "\n",
    "plt.plot(range(0,101), bool_list)"
   ]
  },
  {
   "cell_type": "code",
   "execution_count": null,
   "metadata": {},
   "outputs": [],
   "source": [
    "x = flip(random_imgs[60],20/100)\n",
    "ind = recall(x, w_random)\n",
    "\n",
    "#The difference is that it's not possible to store it\n",
    "#We can store more random patterns than actually "
   ]
  },
  {
   "cell_type": "code",
   "execution_count": 13,
   "metadata": {},
   "outputs": [],
   "source": [
    "def init_weights2(patterns):\n",
    "    dim = patterns.shape[1] #X x N\n",
    "    n = patterns.shape[0] #N\n",
    "    w = np.zeros((dim, dim))\n",
    "    for i in range(n):\n",
    "        w+= 1/dim*np.multiply.outer(patterns[i], patterns[i])\n",
    "        \n",
    "    return w"
   ]
  },
  {
   "cell_type": "code",
   "execution_count": 14,
   "metadata": {},
   "outputs": [],
   "source": [
    "def check_stable(pattern, w):\n",
    "    \"\"\"\n",
    "        Return True if pattern doesn't change after one iteration\n",
    "        Return False otherwise\n",
    "    \"\"\"\n",
    "    s = np.dot(w, pattern)\n",
    "    s[s>=0] = 1\n",
    "    s[s<0] = -1\n",
    "    \n",
    "    if np.array_equal(pattern, s):\n",
    "        return True\n",
    "    else:\n",
    "        return False"
   ]
  },
  {
   "cell_type": "code",
   "execution_count": 15,
   "metadata": {},
   "outputs": [],
   "source": [
    "def check_distance(v1, v2):\n",
    "    return np.sum(np.subtract(v1, v2))"
   ]
  },
  {
   "cell_type": "code",
   "execution_count": 39,
   "metadata": {},
   "outputs": [],
   "source": [
    "def new_init_weights(patterns,distPatterns=np.array(0),zeroDiag=False):\n",
    "    dim = patterns.shape[1]\n",
    "    n = patterns.shape[0]\n",
    "    w=np.zeros((dim,dim))\n",
    "    \n",
    "    correctList = []\n",
    "    correctDistList = []\n",
    "    \n",
    "    for i in range(n): \n",
    "        w+=1/dim*np.multiply.outer(patterns[i],patterns[i])\n",
    "        if(zeroDiag):\n",
    "            np.fill_diagonal(w,0)\n",
    "        #correctList.append(experiment(w,i,patterns))\n",
    "        if(distPatterns.size>1):\n",
    "            correctDistList.append(experiment(w,i,distPatterns))\n",
    "    return w, correctList, correctDistList\n",
    "\n",
    "def experiment(w,iterations,patterns,plsReturn=False):\n",
    "    N = patterns.shape[0] #Nr of patterns \n",
    "    outcomeList = []\n",
    "    \n",
    "    #Iterate over the amount of patterns that have been inserted to w\n",
    "    for i in range(iterations+1):\n",
    "        outcome = checkStable(patterns[i],w)\n",
    "        outcomeList.append(outcome)\n",
    "\n",
    "    unique,counts=np.unique(np.array(outcomeList),return_counts=True)\n",
    "    a = dict(zip(unique, counts))\n",
    "    #print(\"***With\",iterations+1,\"nr of patterns in w-matrix***\")\n",
    "    if True in a:\n",
    "        #print(a[True],\"of patterns remained stable\\n\")\n",
    "        #correctList.append(a[True])\n",
    "        return a[True]\n",
    "    else:\n",
    "        #print(\"none remained stable\\n\")\n",
    "        #correctList.append(0)\n",
    "        return 0\n",
    "    if(plsReturn):\n",
    "        return correctList\n",
    "        \n",
    "#Checks if pattern changes during one iteration, if not it's stable\n",
    "def checkStable(pattern,w): \n",
    "    s = np.dot(w,pattern)\n",
    "    s[s >= 0] = 1\n",
    "    s[s < 0] = -1\n",
    "\n",
    "    if(np.array_equal(pattern,s)):\n",
    "        return True\n",
    "    else:\n",
    "        return False\n",
    "        \n",
    "def genRandVector(dim,withBias=False):\n",
    "    if not withBias:\n",
    "        dim = int(dim/2)\n",
    "        randVector = np.concatenate([np.ones(dim),-1*np.ones(dim)])\n",
    "    else:\n",
    "        dim1 = int(dim/3)\n",
    "        dim2 = int(dim*2/3)\n",
    "        randVector = np.concatenate([np.ones(dim2),-1*np.ones(dim1)])\n",
    "        \n",
    "    np.random.shuffle(randVector)\n",
    "    #print(randVector)\n",
    "    return randVector"
   ]
  },
  {
   "cell_type": "code",
   "execution_count": 17,
   "metadata": {},
   "outputs": [],
   "source": [
    "def init_weights_zeros(patterns):\n",
    "    dim = patterns.shape[1] #X x N\n",
    "    n = patterns.shape[0] #N\n",
    "    w = np.zeros((dim, dim))\n",
    "    for i in range(n):\n",
    "        w += 1/dim*np.multiply.outer(patterns[i], patterns[i])\n",
    "        np.fill_diagonal(w,0)\n",
    "    \n",
    "    return w"
   ]
  },
  {
   "cell_type": "code",
   "execution_count": 18,
   "metadata": {},
   "outputs": [],
   "source": [
    "#Generate patterns and distorted versions of them\n",
    "\n",
    "patterns = []\n",
    "nrOfVectors=300\n",
    "for i in range(nrOfVectors):\n",
    "    patterns.append(genRandVector(144)) #Gets a 100 unit vector\n",
    "random_patterns1 = np.array(patterns)\n",
    "\n",
    "flipped_patterns = []\n",
    "for pat in patterns:\n",
    "    flipped_patterns.append(flip(pat,0.02))\n",
    "flipped_patterns = np.array(flipped_patterns)"
   ]
  },
  {
   "cell_type": "code",
   "execution_count": 36,
   "metadata": {},
   "outputs": [],
   "source": [
    "w_zeros, correctList0, correctDistList0 = new_init_weights(random_patterns1,flipped_patterns,zeroDiag=True)\n"
   ]
  },
  {
   "cell_type": "code",
   "execution_count": 41,
   "metadata": {},
   "outputs": [],
   "source": [
    "biased_patterns = []\n",
    "nrOfVectors=300\n",
    "for i in range(nrOfVectors):\n",
    "    biased_patterns.append(genRandVector(144,True)) #Gets a 100 unit vector\n",
    "biased_patterns = np.array(biased_patterns)"
   ]
  },
  {
   "cell_type": "code",
   "execution_count": 43,
   "metadata": {},
   "outputs": [
    {
     "data": {
      "image/png": "[encoded data removed]",
      "text/plain": [
       "<Figure size 432x288 with 1 Axes>"
      ]
     },
     "metadata": {
      "needs_background": "light"
     },
     "output_type": "display_data"
    },
    {
     "name": "stderr",
     "output_type": "stream",
     "text": [
      "/usr/local/lib/python3.6/site-packages/ipykernel_launcher.py:14: RuntimeWarning: invalid value encountered in true_divide\n",
      "  \n"
     ]
    },
    {
     "data": {
      "image/png": "[encoded data removed]",
      "text/plain": [
       "<Figure size 432x288 with 1 Axes>"
      ]
     },
     "metadata": {
      "needs_background": "light"
     },
     "output_type": "display_data"
    }
   ],
   "source": [
    "## What happens with the number of stable patterns as more are learned?\n",
    "\n",
    "random_imgs = random_patterns(300)\n",
    "num_stable = []\n",
    "for i in range(0, 301, 10):\n",
    "    w_large, _, _ = new_init_weights(biased_patterns[:i],zeroDiag=True)\n",
    "    count = 0\n",
    "    for j in range(len(biased_patterns)):\n",
    "        stable = check_stable(biased_patterns[j], w_large)\n",
    "        if stable:\n",
    "            count+=1\n",
    "    num_stable.append(count)\n",
    "\n",
    "plt.plot(range(0, 301, 10), np.divide(num_stable, range(0, 301, 10)))\n",
    "plt.title(\"Amount of stable patterns / pattern in w\")\n",
    "plt.xlabel('Trained patterns in w')\n",
    "plt.ylabel('Ratio stable patterns/pattern in w with bias')\n",
    "plt.savefig(\"capacitybias\")\n",
    "plt.show()"
   ]
  },
  {
   "cell_type": "code",
   "execution_count": 29,
   "metadata": {},
   "outputs": [
    {
     "name": "stderr",
     "output_type": "stream",
     "text": [
      "/usr/local/lib/python3.6/site-packages/ipykernel_launcher.py:14: RuntimeWarning: invalid value encountered in true_divide\n",
      "  \n"
     ]
    },
    {
     "data": {
      "image/png": "[encoded data removed]",
      "text/plain": [
       "<Figure size 432x288 with 1 Axes>"
      ]
     },
     "metadata": {
      "needs_background": "light"
     },
     "output_type": "display_data"
    }
   ],
   "source": [
    "## What happens with the number of stable patterns with noise\n",
    "\n",
    "#random_imgs = random_patterns(300)\n",
    "num_stable = []\n",
    "for i in range(0, 301, 10):\n",
    "    w_large = init_weights2(flipped_patterns[:i])\n",
    "    count = 0\n",
    "    for j in range(len(flipped_patterns)):\n",
    "        stable = check_stable(flipped_patterns[j], w_large)\n",
    "        if stable:\n",
    "            count+=1\n",
    "    num_stable.append(count)\n",
    "\n",
    "plt.plot(range(0, 301, 10), np.divide(num_stable, range(0, 301, 10)))\n",
    "plt.title(\"Amount of stable patterns / pattern in w with 2% distortion\")\n",
    "plt.xlabel('Trained patterns in w')\n",
    "plt.ylabel('Ratio stable patterns/pattern in w')\n",
    "plt.savefig(\"distortion1\")\n",
    "plt.show()"
   ]
  },
  {
   "cell_type": "code",
   "execution_count": null,
   "metadata": {},
   "outputs": [],
   "source": []
  },
  {
   "cell_type": "code",
   "execution_count": null,
   "metadata": {},
   "outputs": [],
   "source": [
    "x1 = range(1,len(correctDistList)+1)\n",
    "y1 = np.divide(np.array(correctDistList),x)\n",
    "plt.plot(x,y)\n",
    "plt.plot(x1,y1)\n",
    "plt.title(\"Amount of stable patterns per pattern in w when patterns are distorted\")\n",
    "plt.show()"
   ]
  },
  {
   "cell_type": "code",
   "execution_count": null,
   "metadata": {},
   "outputs": [],
   "source": []
  }
 ],
 "metadata": {
  "kernelspec": {
   "display_name": "Python 3",
   "language": "python",
   "name": "python3"
  },
  "language_info": {
   "codemirror_mode": {
    "name": "ipython",
    "version": 3
   },
   "file_extension": ".py",
   "mimetype": "text/x-python",
   "name": "python",
   "nbconvert_exporter": "python",
   "pygments_lexer": "ipython3",
   "version": "3.6.5"
  }
 },
 "nbformat": 4,
 "nbformat_minor": 2
}
