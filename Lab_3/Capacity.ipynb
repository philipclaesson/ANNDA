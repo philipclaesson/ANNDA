{
 "cells": [
  {
   "cell_type": "code",
   "execution_count": 8,
   "metadata": {},
   "outputs": [],
   "source": [
    "import numpy as np\n",
    "import random\n",
    "from matplotlib import pyplot as plt"
   ]
  },
  {
   "cell_type": "code",
   "execution_count": 9,
   "metadata": {},
   "outputs": [],
   "source": [
    "def sign(x):\n",
    "    return (1, -1)[x < 0]\n",
    "\n",
    "def update_rule(a, w):\n",
    "    x = np.zeros(len(a))\n",
    "    for i in range(len(a)):\n",
    "        for j in range(len(a)):\n",
    "            x[i] += w[i, j] * a[j]\n",
    "    x = [sign(a) for a in x]\n",
    "    return x"
   ]
  },
  {
   "cell_type": "code",
   "execution_count": 10,
   "metadata": {},
   "outputs": [],
   "source": [
    "# Test convergens patters\n",
    "def find_attractor(x, w):\n",
    "    prev = x\n",
    "\n",
    "    while True:\n",
    "        curr = update_rule(prev, w)\n",
    "        if np.array_equal(curr, prev):\n",
    "            break\n",
    "        prev = curr\n",
    "    return prev"
   ]
  },
  {
   "cell_type": "code",
   "execution_count": 11,
   "metadata": {},
   "outputs": [],
   "source": [
    "def store_patterns():\n",
    "    data = np.loadtxt('./pict.dat',delimiter=\",\", dtype=int).reshape(-1,1024)\n",
    "    return data"
   ]
  },
  {
   "cell_type": "code",
   "execution_count": 105,
   "metadata": {},
   "outputs": [],
   "source": [
    "def init_weights(patterns):\n",
    "    dim = patterns.shape[1]\n",
    "    w=np.zeros((dim,dim))\n",
    "    \n",
    "    for i in range(dim):\n",
    "        for j in range(dim):\n",
    "            s = 0\n",
    "            for pattern in patterns:\n",
    "                s += pattern[i]*pattern[j]\n",
    "            w[i][j]=(1/(patterns.size)) * s\n",
    "    #w=0.5*(np.add(w,w.T))\n",
    "    return w"
   ]
  },
  {
   "cell_type": "code",
   "execution_count": 108,
   "metadata": {},
   "outputs": [],
   "source": [
    "def recall(pattern,w):\n",
    "    dim = pattern.size\n",
    "    count = 0\n",
    "    energyLevels = []\n",
    "    \n",
    "    previousPattern = np.zeros(dim)\n",
    "    while True:   \n",
    "        \n",
    "        s = np.dot(w,pattern)\n",
    "        s[s >= 0] = 1\n",
    "        s[s < 0] = -1\n",
    "                    \n",
    "        pattern=s\n",
    "        \n",
    "        count += 1  \n",
    "        \n",
    "        #plt.imshow(pattern.reshape(32,32),interpolation=\"nearest\")\n",
    "        #plt.show()\n",
    "        \n",
    "        solved, ind = check_True(pattern)\n",
    "        if solved:\n",
    "            #print (\"It took:\",count,\"nr of iterations\")\n",
    "            #plt.imshow(pattern.reshape(32,32),interpolation=\"nearest\")\n",
    "            #plt.show()\n",
    "            return ind\n",
    "            \n",
    "        elif np.array_equal(pattern,previousPattern):\n",
    "            #print(\"Local minimum found in iteration:\",count)\n",
    "            return -1\n",
    "        previousPattern = np.copy(pattern)\n",
    "\n",
    "def check_True(predicted_pattern):\n",
    "    solved = False\n",
    "    for i in range(3):\n",
    "        if np.array_equal(data[i],predicted_pattern):\n",
    "            #print(\"True! It matched pattern nr:\",i)\n",
    "            solved = True\n",
    "    return solved, i"
   ]
  },
  {
   "cell_type": "code",
   "execution_count": 16,
   "metadata": {},
   "outputs": [],
   "source": [
    "def flip(pattern, percentage):\n",
    "    index = np.arange(pattern.size)\n",
    "    np.random.shuffle(index)\n",
    "    \n",
    "    abso = int(percentage*pattern.size)\n",
    "    flipIndex = index[:abso]\n",
    "    \n",
    "    flipped = np.copy(pattern)\n",
    "    flipped[flipIndex] = -1*flipped[flipIndex]\n",
    "    \n",
    "    #plt.imshow(flipped.reshape(32,32),interpolation=\"nearest\")\n",
    "    #plt.show()\n",
    "    \n",
    "    return flipped\n",
    "    "
   ]
  },
  {
   "cell_type": "code",
   "execution_count": 106,
   "metadata": {},
   "outputs": [
    {
     "name": "stdout",
     "output_type": "stream",
     "text": [
      "0.0009765625\n"
     ]
    }
   ],
   "source": [
    "data = store_patterns()\n",
    "w = init_weights(data[:5,:])\n"
   ]
  },
  {
   "cell_type": "code",
   "execution_count": 36,
   "metadata": {},
   "outputs": [
    {
     "data": {
      "text/plain": [
       "[<matplotlib.lines.Line2D at 0x1167a84e0>]"
      ]
     },
     "execution_count": 36,
     "metadata": {},
     "output_type": "execute_result"
    },
    {
     "data": {
      "image/png": "[encoded data removed]",
      "text/plain": [
       "<Figure size 432x288 with 1 Axes>"
      ]
     },
     "metadata": {
      "needs_background": "light"
     },
     "output_type": "display_data"
    }
   ],
   "source": [
    "bool_list = []\n",
    "start_ind = 2\n",
    "for i in range(0, 101):\n",
    "    \n",
    "    x = flip(data[start_ind],i/100)\n",
    "    ind = recall(x, w)\n",
    "    if ind == start_ind:\n",
    "        bool_list.append(True)\n",
    "    else:\n",
    "        bool_list.append(False)\n",
    "\n",
    "plt.plot(range(0,101), bool_list)"
   ]
  },
  {
   "cell_type": "code",
   "execution_count": 45,
   "metadata": {},
   "outputs": [],
   "source": [
    "def random_patterns(num_pic):\n",
    "    random_imgs = []\n",
    "    binar = (1, -1)\n",
    "    for j in range(num_pic):\n",
    "        vec = np.zeros(1024)\n",
    "        for i in range(1024):\n",
    "            rand_int = np.random.randint(0, 2)\n",
    "            vec[i] = binar[rand_int]\n",
    "        random_imgs.append(vec)\n",
    "    return np.array(random_imgs)\n",
    "    \n",
    "    "
   ]
  },
  {
   "cell_type": "code",
   "execution_count": 68,
   "metadata": {},
   "outputs": [],
   "source": [
    "random_imgs = random_patterns(100)\n",
    "w_random = init_weights(random_imgs)"
   ]
  },
  {
   "cell_type": "code",
   "execution_count": 49,
   "metadata": {},
   "outputs": [
    {
     "data": {
      "text/plain": [
       "[<matplotlib.lines.Line2D at 0x116c20c88>]"
      ]
     },
     "execution_count": 49,
     "metadata": {},
     "output_type": "execute_result"
    },
    {
     "data": {
      "image/png": "[encoded data removed]",
      "text/plain": [
       "<Figure size 432x288 with 1 Axes>"
      ]
     },
     "metadata": {
      "needs_background": "light"
     },
     "output_type": "display_data"
    }
   ],
   "source": [
    "bool_list = []\n",
    "start_ind = 1\n",
    "for i in range(0, 101):\n",
    "    \n",
    "    x = flip(random_imgs[start_ind],i/100)\n",
    "    ind = recall(random_imgs[start_ind], w)\n",
    "    if ind == start_ind:\n",
    "        bool_list.append(True)\n",
    "    else:\n",
    "        bool_list.append(False)\n",
    "\n",
    "plt.plot(range(0,101), bool_list)"
   ]
  },
  {
   "cell_type": "code",
   "execution_count": 80,
   "metadata": {},
   "outputs": [
    {
     "data": {
      "image/png": "[encoded data removed]",
      "text/plain": [
       "<Figure size 432x288 with 1 Axes>"
      ]
     },
     "metadata": {
      "needs_background": "light"
     },
     "output_type": "display_data"
    },
    {
     "data": {
      "image/png": "[encoded data removed]",
      "text/plain": [
       "<Figure size 432x288 with 1 Axes>"
      ]
     },
     "metadata": {
      "needs_background": "light"
     },
     "output_type": "display_data"
    },
    {
     "data": {
      "image/png": "[encoded data removed]",
      "text/plain": [
       "<Figure size 432x288 with 1 Axes>"
      ]
     },
     "metadata": {
      "needs_background": "light"
     },
     "output_type": "display_data"
    },
    {
     "data": {
      "image/png": "[encoded data removed]",
      "text/plain": [
       "<Figure size 432x288 with 1 Axes>"
      ]
     },
     "metadata": {
      "needs_background": "light"
     },
     "output_type": "display_data"
    },
    {
     "data": {
      "image/png": "[encoded data removed]",
      "text/plain": [
       "<Figure size 432x288 with 1 Axes>"
      ]
     },
     "metadata": {
      "needs_background": "light"
     },
     "output_type": "display_data"
    },
    {
     "data": {
      "image/png": "[encoded data removed]",
      "text/plain": [
       "<Figure size 432x288 with 1 Axes>"
      ]
     },
     "metadata": {
      "needs_background": "light"
     },
     "output_type": "display_data"
    },
    {
     "name": "stdout",
     "output_type": "stream",
     "text": [
      "Local minimum found in iteration: 6\n"
     ]
    }
   ],
   "source": [
    "x = flip(random_imgs[60],20/100)\n",
    "ind = recall(x, w_random)\n",
    "\n",
    "#The difference is that it's not possible to store it\n",
    "#We can store more random patterns than actually "
   ]
  },
  {
   "cell_type": "code",
   "execution_count": 117,
   "metadata": {},
   "outputs": [],
   "source": [
    "def init_weights2(patterns):\n",
    "    dim = patterns.shape[1] #X x N\n",
    "    n = patterns.shape[0] #N\n",
    "    w = np.zeros((dim, dim))\n",
    "    for i in range(n):\n",
    "        w+= 1/dim*np.multiply.outer(patterns[i], patterns[i])\n",
    "        \n",
    "    return w"
   ]
  },
  {
   "cell_type": "code",
   "execution_count": 122,
   "metadata": {},
   "outputs": [
    {
     "data": {
      "text/plain": [
       "[<matplotlib.lines.Line2D at 0x116ed65c0>]"
      ]
     },
     "execution_count": 122,
     "metadata": {},
     "output_type": "execute_result"
    },
    {
     "data": {
      "image/png": "[encoded data removed]",
      "text/plain": [
       "<Figure size 432x288 with 1 Axes>"
      ]
     },
     "metadata": {
      "needs_background": "light"
     },
     "output_type": "display_data"
    }
   ],
   "source": [
    "random_imgs = random_patterns(300)\n",
    "num_stable = []\n",
    "for i in range(1,100):\n",
    "    w_large = init_weights2(random_imgs[:i])\n",
    "    count = 0\n",
    "    for j in range(len(random_imgs)):\n",
    "        stable = check_stable(random_imgs[j], w_large)\n",
    "        if stable:\n",
    "            count+=1\n",
    "    num_stable.append(count)\n",
    "\n",
    "plt.plot(range(1,100), num_stable)"
   ]
  },
  {
   "cell_type": "code",
   "execution_count": 112,
   "metadata": {},
   "outputs": [],
   "source": [
    "def check_stable(w, pattern):\n",
    "    \n",
    "    s = np.dot(w, pattern)\n",
    "    s[s>=0] = 1\n",
    "    s[s<0] = -1\n",
    "    \n",
    "    if np.array_equal(pattern, s):\n",
    "        return True\n",
    "    else:\n",
    "        return False"
   ]
  },
  {
   "cell_type": "code",
   "execution_count": 120,
   "metadata": {},
   "outputs": [
    {
     "data": {
      "text/plain": [
       "True"
      ]
     },
     "execution_count": 120,
     "metadata": {},
     "output_type": "execute_result"
    }
   ],
   "source": [
    "w2 = init_weights2(random_imgs[:1])\n",
    "w1 = init_weights(random_imgs[:1])\n",
    "\n",
    "np.array_equal(w2, w1)"
   ]
  },
  {
   "cell_type": "code",
   "execution_count": 119,
   "metadata": {},
   "outputs": [
    {
     "data": {
      "text/plain": [
       "array([[ 0.00976562,  0.00585938,  0.00195312, ...,  0.        ,\n",
       "         0.        ,  0.00390625],\n",
       "       [ 0.00585938,  0.00976562, -0.00195312, ...,  0.00390625,\n",
       "         0.        ,  0.        ],\n",
       "       [ 0.00195312, -0.00195312,  0.00976562, ...,  0.00390625,\n",
       "        -0.00390625,  0.00390625],\n",
       "       ...,\n",
       "       [ 0.        ,  0.00390625,  0.00390625, ...,  0.00976562,\n",
       "        -0.00195312, -0.00195312],\n",
       "       [ 0.        ,  0.        , -0.00390625, ..., -0.00195312,\n",
       "         0.00976562, -0.00195312],\n",
       "       [ 0.00390625,  0.        ,  0.00390625, ..., -0.00195312,\n",
       "        -0.00195312,  0.00976562]])"
      ]
     },
     "execution_count": 119,
     "metadata": {},
     "output_type": "execute_result"
    }
   ],
   "source": [
    "w2"
   ]
  },
  {
   "cell_type": "code",
   "execution_count": null,
   "metadata": {},
   "outputs": [],
   "source": []
  }
 ],
 "metadata": {
  "kernelspec": {
   "display_name": "Python 3",
   "language": "python",
   "name": "python3"
  },
  "language_info": {
   "codemirror_mode": {
    "name": "ipython",
    "version": 3
   },
   "file_extension": ".py",
   "mimetype": "text/x-python",
   "name": "python",
   "nbconvert_exporter": "python",
   "pygments_lexer": "ipython3",
   "version": "3.7.0"
  }
 },
 "nbformat": 4,
 "nbformat_minor": 2
}
