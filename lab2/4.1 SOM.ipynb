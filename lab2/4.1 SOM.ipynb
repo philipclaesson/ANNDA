{
 "cells": [
  {
   "cell_type": "code",
   "execution_count": 42,
   "metadata": {
    "collapsed": true
   },
   "outputs": [],
   "source": [
    "import numpy as np"
   ]
  },
  {
   "cell_type": "code",
   "execution_count": 43,
   "metadata": {},
   "outputs": [
    {
     "name": "stdout",
     "output_type": "stream",
     "text": [
      "[[1 0 0 ..., 0 0 0]\n",
      " [0 0 0 ..., 0 0 0]\n",
      " [0 0 0 ..., 0 0 0]\n",
      " ..., \n",
      " [0 0 0 ..., 0 0 0]\n",
      " [0 1 0 ..., 1 0 0]\n",
      " [0 0 0 ..., 0 0 0]]\n",
      "[\"'antelop'\" \"'ape'\" \"'bat'\" \"'bear'\" \"'beetle'\" \"'butterfly'\" \"'camel'\"\n",
      " \"'cat'\" \"'crocodile'\" \"'dog'\" \"'dragonfly'\" \"'duck'\" \"'elephant'\" \"'frog'\"\n",
      " \"'giraffe'\" \"'grasshopper'\" \"'horse'\" \"'housefly'\" \"'hyena'\" \"'kangaroo'\"\n",
      " \"'lion'\" \"'moskito'\" \"'ostrich'\" \"'pelican'\" \"'penguin'\" \"'pig'\"\n",
      " \"'rabbit'\" \"'rat'\" \"'seaturtle'\" \"'skunk'\" \"'spider'\" \"'walrus'\"]\n"
     ]
    }
   ],
   "source": [
    "data = np.loadtxt('data/animals.dat',delimiter=\",\",dtype=int)\n",
    "names = np.loadtxt('data/animalnames.txt',dtype=str)\n",
    "\n",
    "# Get data of correct shape\n",
    "data = np.reshape(data, (-1, 84))\n",
    "\n",
    "\n",
    "\n",
    "# Data is binary data with 84 attributes for 32 different animals \n",
    "print(data)\n",
    "print(names)"
   ]
  },
  {
   "cell_type": "code",
   "execution_count": 70,
   "metadata": {
    "collapsed": true
   },
   "outputs": [],
   "source": [
    "class SOM:\n",
    "    def __init__(self): \n",
    "        # Weights 100 nodes, 84 inputs\n",
    "        self.weights = np.random.rand(100,84)\n",
    "        self.nsize = 50\n",
    "        \n",
    "    def similarity(self, data, weight):\n",
    "        distance = data - weight\n",
    "        \n",
    "        # similarity is the length of the distance vector!\n",
    "        return np.dot(distance.T, distance)\n",
    "\n",
    "    def get_winner(self, data):\n",
    "        # Returns the index of the winning node(weight), the most similar node to the input data\n",
    "        similarities = np.array([])\n",
    "        for i, weight in enumerate(self.weights):\n",
    "            similarities = np.append(similarities, self.similarity(data, weight))\n",
    "        \n",
    "        return np.argmin(similarities) # returns the index of the minimum weight\n",
    "\n",
    "    def train(self, epochs=20):\n",
    "        #For each sample in input\n",
    "        for epoch in range(epochs):\n",
    "            for i, sample in enumerate(data): \n",
    "                # For each animal you will have to pick out the corresponding row from the props matrix.\n",
    "                \n",
    "                # Then find the row of the weight matrix with the shortest distance to this attribute vector\n",
    "                # aka the winner\n",
    "                winner = self.get_winner(sample)\n",
    "                \n",
    "                # Once you have the index to the winning node, it is time to update the weights.\n",
    "                neighbours = self.get_neighbours(winner) #Get list of neighbours with winnerNode in center\n",
    "      \n",
    "                self.update_weights(neighbours, sample)\n",
    "\n",
    "            # Update neighbourhood size\n",
    "            if self.nsize > 5:\n",
    "                self.nsize -= 2\n",
    "            elif self.nsize > 2:\n",
    "                self.nsize -= 1\n",
    "                \n",
    "    def get_neighbours(self, winner):\n",
    "        # returns the neighbourhood around the winner\n",
    "        neighbours = []\n",
    "        i = 1\n",
    "        \n",
    "        neighbours.append(winner) # assuming we want to update the neighbour as well\n",
    "        \n",
    "        while (len(neighbours) < self.nsize):\n",
    "            if (winner - i > 0):\n",
    "                neighbours.append(winner - i)\n",
    "            if (winner + i < 99):\n",
    "                neighbours.append(winner + i)\n",
    "            i += 1\n",
    "        \n",
    "        return np.array(neighbours)\n",
    "\n",
    "\n",
    "    def update_weights(self, neighbours, sample, lr = 0.2):\n",
    "        # Update weights of all neighbours to become slightly more similar to the input pattern (sample)\n",
    "        for i in neighbours:\n",
    "            self.weights[i] = self.weights[i] + lr * (sample - self.weights[i])\n",
    "\n",
    "    def predict(self):\n",
    "        output = []\n",
    "        for i, sample in enumerate(data):\n",
    "                winner = self.get_winner(sample) #Find best node\n",
    "                output.append([winner, animal_names[i]])\n",
    "\n",
    "        output = np.array(output, dtype=object)\n",
    "        \n",
    "        # sort by index\n",
    "        sort_idx = output[:,0].argsort()\n",
    "        print(output[sort_idx])\n"
   ]
  },
  {
   "cell_type": "code",
   "execution_count": 71,
   "metadata": {},
   "outputs": [
    {
     "name": "stdout",
     "output_type": "stream",
     "text": [
      "[[1 \"'dragonfly'\"]\n",
      " [2 \"'grasshopper'\"]\n",
      " [9 \"'beetle'\"]\n",
      " [10 \"'butterfly'\"]\n",
      " [12 \"'moskito'\"]\n",
      " [12 \"'housefly'\"]\n",
      " [19 \"'spider'\"]\n",
      " [29 \"'penguin'\"]\n",
      " [29 \"'pelican'\"]\n",
      " [32 \"'duck'\"]\n",
      " [33 \"'ostrich'\"]\n",
      " [40 \"'seaturtle'\"]\n",
      " [42 \"'crocodile'\"]\n",
      " [42 \"'frog'\"]\n",
      " [49 \"'walrus'\"]\n",
      " [53 \"'bear'\"]\n",
      " [56 \"'dog'\"]\n",
      " [56 \"'hyena'\"]\n",
      " [60 \"'skunk'\"]\n",
      " [63 \"'lion'\"]\n",
      " [63 \"'cat'\"]\n",
      " [64 \"'ape'\"]\n",
      " [71 \"'bat'\"]\n",
      " [72 \"'rat'\"]\n",
      " [74 \"'elephant'\"]\n",
      " [81 \"'rabbit'\"]\n",
      " [82 \"'kangaroo'\"]\n",
      " [84 \"'antelop'\"]\n",
      " [91 \"'horse'\"]\n",
      " [93 \"'giraffe'\"]\n",
      " [98 \"'pig'\"]\n",
      " [98 \"'camel'\"]]\n"
     ]
    }
   ],
   "source": [
    "model = SOM()\n",
    "model.train()       \n",
    "model.predict()"
   ]
  },
  {
   "cell_type": "code",
   "execution_count": null,
   "metadata": {
    "collapsed": true
   },
   "outputs": [],
   "source": []
  }
 ],
 "metadata": {
  "kernelspec": {
   "display_name": "Python 3",
   "language": "python",
   "name": "python3"
  },
  "language_info": {
   "codemirror_mode": {
    "name": "ipython",
    "version": 3
   },
   "file_extension": ".py",
   "mimetype": "text/x-python",
   "name": "python",
   "nbconvert_exporter": "python",
   "pygments_lexer": "ipython3",
   "version": "3.6.2"
  }
 },
 "nbformat": 4,
 "nbformat_minor": 2
}
