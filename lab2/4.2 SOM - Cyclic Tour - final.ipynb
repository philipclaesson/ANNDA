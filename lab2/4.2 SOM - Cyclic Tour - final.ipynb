{
 "cells": [
  {
   "cell_type": "code",
   "execution_count": 15,
   "metadata": {
    "collapsed": true
   },
   "outputs": [],
   "source": [
    "import numpy as np\n",
    "data = np.loadtxt('data/cities.dat', delimiter=\",\", comments = \";\", skiprows=4, dtype=float)"
   ]
  },
  {
   "cell_type": "code",
   "execution_count": 16,
   "metadata": {},
   "outputs": [
    {
     "name": "stdout",
     "output_type": "stream",
     "text": [
      "[[ 0.4     0.4439]\n",
      " [ 0.2439  0.1463]\n",
      " [ 0.1707  0.2293]\n",
      " [ 0.2293  0.761 ]\n",
      " [ 0.5171  0.9414]\n",
      " [ 0.8732  0.6536]\n",
      " [ 0.6878  0.5219]\n",
      " [ 0.8488  0.3609]\n",
      " [ 0.6683  0.2536]\n",
      " [ 0.6195  0.2634]]\n"
     ]
    },
    {
     "data": {
      "image/png": "[encoded data removed]",
      "text/plain": [
       "<matplotlib.figure.Figure at 0x113c6fa58>"
      ]
     },
     "metadata": {},
     "output_type": "display_data"
    }
   ],
   "source": [
    "# Let's have a look at the data\n",
    "\n",
    "print(data)\n",
    "\n",
    "## Scatter Plot\n",
    "import matplotlib.pyplot as plt\n",
    "plt.scatter(data[:,0], data[:,1], marker = \"x\", c = 'g')\n",
    "plt.show()"
   ]
  },
  {
   "cell_type": "code",
   "execution_count": null,
   "metadata": {
    "collapsed": true
   },
   "outputs": [],
   "source": []
  },
  {
   "cell_type": "code",
   "execution_count": 17,
   "metadata": {
    "collapsed": true
   },
   "outputs": [],
   "source": [
    "class SOM():\n",
    "    def __init__(self):\n",
    "        self.weights = np.random.rand(10, 2)\n",
    "        self.nsize = 2\n",
    "        \n",
    "    def distance(self, data, weight):\n",
    "        distance = data - weight\n",
    "        \n",
    "        # distances is the length of the distance vector!\n",
    "        return np.dot(distance.T, distance)\n",
    "\n",
    "    def get_winner(self, inp):\n",
    "        \n",
    "        min_dist = self.distance(self.weights[0,:], inp)\n",
    "        winner = 0\n",
    "        \n",
    "        for i in range(self.weights.shape[0]):\n",
    "            dist = self.distance(self.weights[i,:], inp)\n",
    "            if dist < min_dist:\n",
    "                min_dist = dist\n",
    "                winner = i\n",
    "                \n",
    "        return winner\n",
    "    \n",
    "    def get_neighbours(self, winner):\n",
    "        # returns the neighbourhood around the winner\n",
    "        neighbours = []\n",
    "        i = 1\n",
    "        \n",
    "        maxneighbour = self.weights.shape[0]\n",
    "\n",
    "        while (len(neighbours) < self.nsize):\n",
    "            if (winner - i >= 0):\n",
    "                neighbours.append(winner - i)\n",
    "            if (winner + i < maxneighbour):\n",
    "                neighbours.append(winner + i)\n",
    "            i += 1\n",
    "        \n",
    "        return neighbours\n",
    "\n",
    "    def update_weights(self, neighbours, sample, lr = 0.1):\n",
    "        # Update weights of all neighbours to become slightly more similar to the input pattern (sample)\n",
    "        for i in neighbours:\n",
    "            weight = self.weights[i,:].copy()\n",
    "            self.weights[i, :] = np.add(weight, lr * np.subtract(sample, weight))\n",
    "    \n",
    "    def train(self, data, epochs = 50):\n",
    "        for epoch in range(epochs):\n",
    "            for i in range(data.shape[0]):\n",
    "                # For each <mp> you will have to pick out the corresponding row from the props matrix.\n",
    "                # Then find the row of the weight matrix with the shortest distance to this attribute vector\n",
    "                # aka the winner\n",
    "                sample = data[i,:].copy()\n",
    "                winner = self.get_winner(sample)\n",
    "                \n",
    "                # Once you have the index to the winning node, it is time to update the weights.\n",
    "                neighbours = self.get_neighbours(winner)\n",
    "                \n",
    "                self.update_weights(neighbours, sample)\n",
    "                        \n",
    "            # Update neighbourhood size\n",
    "            if self.nsize > 5:\n",
    "                self.nsize -= 2\n",
    "            elif self.nsize > 2:\n",
    "                self.nsize -= 1\n",
    "\n",
    "            if epoch % 10==0:\n",
    "                print(\"area_size {}\".format(self.nsize))\n",
    "\n",
    "    def predict(self, data, names):\n",
    "        output = []\n",
    "        for i in range(data.shape[0]):\n",
    "            sample = data[i,:].copy()\n",
    "            winner = self.get_winner(sample)\n",
    "            output.append([winner, data[i][0], data[i][1]])\n",
    "        output = np.array(output, dtype=object)\n",
    "        \n",
    "        # sort by index\n",
    "        sort_idx = output[:,0].argsort()\n",
    "                \n",
    "        return output\n"
   ]
  },
  {
   "cell_type": "code",
   "execution_count": 18,
   "metadata": {},
   "outputs": [
    {
     "name": "stdout",
     "output_type": "stream",
     "text": [
      "area_size 2\n",
      "area_size 2\n",
      "area_size 2\n",
      "area_size 2\n",
      "area_size 2\n",
      "[[1 0.40000000000000002 0.44390000000000002]\n",
      " [1 0.24390000000000001 0.14630000000000001]\n",
      " [2 0.17069999999999999 0.2293]\n",
      " [4 0.2293 0.76100000000000001]\n",
      " [4 0.5171 0.94140000000000001]\n",
      " [5 0.87319999999999998 0.65359999999999996]\n",
      " [5 0.68779999999999997 0.52190000000000003]\n",
      " [7 0.8488 0.3609]\n",
      " [9 0.66830000000000001 0.25359999999999999]\n",
      " [8 0.61950000000000005 0.26340000000000002]]\n"
     ]
    },
    {
     "data": {
      "image/png": "[encoded data removed]",
      "text/plain": [
       "<matplotlib.figure.Figure at 0x113f3dd68>"
      ]
     },
     "metadata": {},
     "output_type": "display_data"
    }
   ],
   "source": [
    "model = SOM()\n",
    "model.train(data, 50)  \n",
    "path = model.predict(data, list(range(len(data))))\n",
    "print(path)\n",
    "plt.plot(path[:,1],path[:,2],linestyle='-', marker='x',color=\"g\")\n",
    "plt.show()"
   ]
  },
  {
   "cell_type": "code",
   "execution_count": null,
   "metadata": {
    "collapsed": true
   },
   "outputs": [],
   "source": []
  },
  {
   "cell_type": "code",
   "execution_count": null,
   "metadata": {
    "collapsed": true
   },
   "outputs": [],
   "source": []
  }
 ],
 "metadata": {
  "kernelspec": {
   "display_name": "Python 3",
   "language": "python",
   "name": "python3"
  },
  "language_info": {
   "codemirror_mode": {
    "name": "ipython",
    "version": 3
   },
   "file_extension": ".py",
   "mimetype": "text/x-python",
   "name": "python",
   "nbconvert_exporter": "python",
   "pygments_lexer": "ipython3",
   "version": "3.6.2"
  }
 },
 "nbformat": 4,
 "nbformat_minor": 2
}
