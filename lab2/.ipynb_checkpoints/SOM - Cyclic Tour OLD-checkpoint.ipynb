{
 "cells": [
  {
   "cell_type": "code",
   "execution_count": 50,
   "metadata": {
    "collapsed": true
   },
   "outputs": [],
   "source": [
    "import numpy as np\n",
    "data = np.loadtxt('data/cities.dat', delimiter=\",\", comments = \";\", skiprows=4, dtype=float)"
   ]
  },
  {
   "cell_type": "code",
   "execution_count": 51,
   "metadata": {},
   "outputs": [
    {
     "name": "stdout",
     "output_type": "stream",
     "text": [
      "[[ 0.4     0.4439]\n",
      " [ 0.2439  0.1463]\n",
      " [ 0.1707  0.2293]\n",
      " [ 0.2293  0.761 ]\n",
      " [ 0.5171  0.9414]\n",
      " [ 0.8732  0.6536]\n",
      " [ 0.6878  0.5219]\n",
      " [ 0.8488  0.3609]\n",
      " [ 0.6683  0.2536]\n",
      " [ 0.6195  0.2634]]\n"
     ]
    },
    {
     "data": {
      "image/png": "[encoded data removed]",
      "text/plain": [
       "<matplotlib.figure.Figure at 0x1182474e0>"
      ]
     },
     "metadata": {},
     "output_type": "display_data"
    }
   ],
   "source": [
    "# Let's have a look at the data\n",
    "\n",
    "print(data)\n",
    "\n",
    "## Scatter Plot\n",
    "import matplotlib.pyplot as plt\n",
    "plt.scatter(data[:,0], data[:,1], marker = \"x\", c = 'g')\n",
    "plt.show()"
   ]
  },
  {
   "cell_type": "code",
   "execution_count": null,
   "metadata": {
    "collapsed": true
   },
   "outputs": [],
   "source": []
  },
  {
   "cell_type": "code",
   "execution_count": 56,
   "metadata": {
    "collapsed": true
   },
   "outputs": [],
   "source": [
    "#Calculates similarity between a pattern (animal) and weights, choses the weightnode with smallest distance\n",
    "\n",
    "class SOM:\n",
    "    def __init__(self): \n",
    "        # Weights 10 nodes, 2 inputs\n",
    "        self.weights = np.random.rand(10, 2)\n",
    "        self.nsize = 2\n",
    "        self.visited = []\n",
    "\n",
    "    def distance(self, data, weight):\n",
    "        distance = data - weight\n",
    "        \n",
    "        # distances is the length of the distance vector!\n",
    "        return np.dot(distance.T, distance)\n",
    "\n",
    "    def get_winner(self, inp):\n",
    "        # Returns the index of the winning node(weight), the most similar node to the input data\n",
    "        \n",
    "        distances = []\n",
    "        for i, weight in enumerate(self.weights):\n",
    "            distances.append(self.distance(inp, weight))\n",
    "\n",
    "        winner = np.argmin(distances)\n",
    "        return winner\n",
    "\n",
    "    def get_neighbours(self, winner):\n",
    "        # returns the neighbourhood around the winner\n",
    "        neighbours = []\n",
    "        i = 1\n",
    "        \n",
    "        while (len(neighbours) < self.nsize):\n",
    "            # %10 makes the neighbourhood circular\n",
    "            neighbours.append((winner - i)%10)\n",
    "            neighbours.append((winner + i)%10)\n",
    "            i += 1\n",
    "\n",
    "        return np.array(neighbours)\n",
    "\n",
    "    def update_weights(self, neighbours, sample, lr = 0.1):\n",
    "        # Update weights of all neighbours to become slightly more similar to the input pattern (sample)\n",
    "        for i in neighbours:\n",
    "            self.weights[i] = self.weights[i] + lr * (sample - self.weights[i])\n",
    "    \n",
    "    def train(self, data, epochs=50):\n",
    "        #For each sample in input\n",
    "        for epoch in range(epochs):\n",
    "            for i, sample in enumerate(data): \n",
    "                # For each animal you will have to pick out the corresponding row from the props matrix.\n",
    "                # Then find the row of the weight matrix with the shortest distance to this attribute vector\n",
    "                # aka the winner\n",
    "                winner = self.get_winner(sample)\n",
    "                \n",
    "                # Once you have the index to the winning node, it is time to update the weights.\n",
    "                neighbours = self.get_neighbours(winner) #Get list of neighbours with winnerNode in center\n",
    "      \n",
    "                self.update_weights(neighbours, sample)\n",
    "\n",
    "            # Update neighbourhood size\n",
    "            if epoch >= 15:\n",
    "                self.nsize = 0\n",
    "            elif epoch >= 10:\n",
    "                self.nsize = 1\n",
    "\n",
    "    #Creates a SOM based on training and plots tour\n",
    "    def predict(self, data):\n",
    "        path = []\n",
    "        #Loop through animals\n",
    "        for i, city in enumerate(data):\n",
    "                winner = self.get_winner(city) #Find best node\n",
    "                path.append([winner, city[0],city[1]])\n",
    "                print(\"{} is closest to {}\".format(winner, city))\n",
    "\n",
    "        path = np.array(path,dtype=object)\n",
    "        path = path[path[:,0].argsort()]\n",
    "        \n",
    "        return path\n",
    "\n"
   ]
  },
  {
   "cell_type": "code",
   "execution_count": 57,
   "metadata": {},
   "outputs": [
    {
     "name": "stdout",
     "output_type": "stream",
     "text": [
      "1 is closest to [ 0.4     0.4439]\n",
      "0 is closest to [ 0.2439  0.1463]\n",
      "0 is closest to [ 0.1707  0.2293]\n",
      "2 is closest to [ 0.2293  0.761 ]\n",
      "3 is closest to [ 0.5171  0.9414]\n",
      "4 is closest to [ 0.8732  0.6536]\n",
      "5 is closest to [ 0.6878  0.5219]\n",
      "6 is closest to [ 0.8488  0.3609]\n",
      "7 is closest to [ 0.6683  0.2536]\n",
      "8 is closest to [ 0.6195  0.2634]\n",
      "[[0 0.24390000000000001 0.14630000000000001]\n",
      " [0 0.17069999999999999 0.2293]\n",
      " [1 0.40000000000000002 0.44390000000000002]\n",
      " [2 0.2293 0.76100000000000001]\n",
      " [3 0.5171 0.94140000000000001]\n",
      " [4 0.87319999999999998 0.65359999999999996]\n",
      " [5 0.68779999999999997 0.52190000000000003]\n",
      " [6 0.8488 0.3609]\n",
      " [7 0.66830000000000001 0.25359999999999999]\n",
      " [8 0.61950000000000005 0.26340000000000002]]\n"
     ]
    },
    {
     "data": {
      "image/png": "[encoded data removed]",
      "text/plain": [
       "<matplotlib.figure.Figure at 0x1182366d8>"
      ]
     },
     "metadata": {},
     "output_type": "display_data"
    }
   ],
   "source": [
    "model = SOM()\n",
    "model.train(data)  \n",
    "path = model.predict(data)\n",
    "print(path)\n",
    "plt.plot(path[:,1],path[:,2],linestyle='-', marker='x',color=\"g\")\n",
    "plt.show()"
   ]
  },
  {
   "cell_type": "code",
   "execution_count": null,
   "metadata": {
    "collapsed": true
   },
   "outputs": [],
   "source": []
  },
  {
   "cell_type": "code",
   "execution_count": null,
   "metadata": {
    "collapsed": true
   },
   "outputs": [],
   "source": []
  }
 ],
 "metadata": {
  "kernelspec": {
   "display_name": "Python 3",
   "language": "python",
   "name": "python3"
  },
  "language_info": {
   "codemirror_mode": {
    "name": "ipython",
    "version": 3
   },
   "file_extension": ".py",
   "mimetype": "text/x-python",
   "name": "python",
   "nbconvert_exporter": "python",
   "pygments_lexer": "ipython3",
   "version": "3.6.2"
  }
 },
 "nbformat": 4,
 "nbformat_minor": 2
}
