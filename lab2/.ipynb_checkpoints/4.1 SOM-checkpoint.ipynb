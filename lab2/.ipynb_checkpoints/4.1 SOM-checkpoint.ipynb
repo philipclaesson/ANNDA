{
 "cells": [
  {
   "cell_type": "code",
   "execution_count": 42,
   "metadata": {
    "collapsed": true
   },
   "outputs": [],
   "source": [
    "import numpy as np"
   ]
  },
  {
   "cell_type": "code",
   "execution_count": 43,
   "metadata": {},
   "outputs": [
    {
     "name": "stdout",
     "output_type": "stream",
     "text": [
      "[[1 0 0 ..., 0 0 0]\n",
      " [0 0 0 ..., 0 0 0]\n",
      " [0 0 0 ..., 0 0 0]\n",
      " ..., \n",
      " [0 0 0 ..., 0 0 0]\n",
      " [0 1 0 ..., 1 0 0]\n",
      " [0 0 0 ..., 0 0 0]]\n",
      "[\"'antelop'\" \"'ape'\" \"'bat'\" \"'bear'\" \"'beetle'\" \"'butterfly'\" \"'camel'\"\n",
      " \"'cat'\" \"'crocodile'\" \"'dog'\" \"'dragonfly'\" \"'duck'\" \"'elephant'\" \"'frog'\"\n",
      " \"'giraffe'\" \"'grasshopper'\" \"'horse'\" \"'housefly'\" \"'hyena'\" \"'kangaroo'\"\n",
      " \"'lion'\" \"'moskito'\" \"'ostrich'\" \"'pelican'\" \"'penguin'\" \"'pig'\"\n",
      " \"'rabbit'\" \"'rat'\" \"'seaturtle'\" \"'skunk'\" \"'spider'\" \"'walrus'\"]\n"
     ]
    }
   ],
   "source": [
    "data = np.loadtxt('data/animals.dat',delimiter=\",\",dtype=int)\n",
    "names = np.loadtxt('data/animalnames.txt',dtype=str)\n",
    "\n",
    "# Get data of correct shape\n",
    "data = np.reshape(data, (-1, 84))\n",
    "\n",
    "\n",
    "\n",
    "# Data is binary data with 84 attributes for 32 different animals \n",
    "print(data)\n",
    "print(names)"
   ]
  },
  {
   "cell_type": "code",
   "execution_count": 51,
   "metadata": {},
   "outputs": [],
   "source": [
    "class SOM:\n",
    "    def __init__(self): \n",
    "        # Weights 100 nodes, 84 inputs\n",
    "        self.weights = np.random.rand(100,84)\n",
    "        self.nsize = 50\n",
    "        \n",
    "    def similarity(self, data, weight):\n",
    "        distance = data - weight\n",
    "        \n",
    "        # similarity is the length of the distance vector!\n",
    "        return np.dot(distance.T, distance)\n",
    "\n",
    "    def get_winner(self, data):\n",
    "        # Returns the index of the winning node(weight), the most similar node to the input data\n",
    "        similarities = np.array([])\n",
    "        for i, weight in enumerate(self.weights):\n",
    "            similarities = np.append(similarities, self.similarity(data, weight))\n",
    "        \n",
    "        return np.argmin(similarities) # returns the index of the minimum weight\n",
    "\n",
    "    \n",
    "    def getNeighbours(self, winner, ind):\n",
    "        # returns the neighbourhood around the winner\n",
    "        left = []\n",
    "        right = []\n",
    "        i = 1\n",
    "        \n",
    "        while (len(left) + len(right) < self.nsize)\n",
    "            if (winner - i > 0):\n",
    "                left.append(winner - i)\n",
    "            if (winner - i < 99):\n",
    "                right.append(winner + i)\n",
    "            i += 1\n",
    "\n",
    "        left = np.array(left)\n",
    "        right = np.array(right)\n",
    "        \n",
    "        return left, right\n",
    "\n",
    "\n",
    "    def updateWeights(self, idx, ind, lr = 0.2):\n",
    "        # Update weight i\n",
    "        for i in np.nditer(idx):\n",
    "            self.weights[i] = self.weights[i] + lr * (np.subtract(ind,self.weights[i]))\n",
    "\n",
    "    def train(self, epochs=20, size = 20):\n",
    "        #For each sample in input\n",
    "        for epoch in range(epochs):\n",
    "            for i in range(data.shape[0]): \n",
    "                # For each animal you will have to pick out the corresponding row from the props matrix.\n",
    "                \n",
    "                # Then find the row of the weight matrix with the shortest distance to this attribute vector (p)\n",
    "                # aka the winner\n",
    "                winner = self.get_winner(data[i])\n",
    "                \n",
    "                # Once you have the index to the winning node, it is time to update the weights.\n",
    "                n_left, n_right = getNeighbours(winner, data[i]) #Get list of neighbours with winnerNode in center\n",
    "\n",
    "                \n",
    "                updateWeights(n_left, ind)\n",
    "                updateWeights(n_right, ind)\n",
    "\n",
    "            #Update neighbourhood size\n",
    "            if self.nsize > 5:\n",
    "                self.nsize -= 2\n",
    "            elif self.nsize > 2:\n",
    "                self.nsize -= 1\n",
    "\n",
    "    #Creates a SOM based on training\n",
    "    def predict(self, ):\n",
    "        pos=[]\n",
    "        #Loop through animals\n",
    "        for i in range(data.shape[0]):\n",
    "                winnerNode = self.get_winner(data[i]) #Find best node\n",
    "                pos.append([winnerNode, animal_names[i]])\n",
    "\n",
    "        pos = np.array(pos,dtype=object)\n",
    "        print(pos[pos[:,0].argsort()])\n"
   ]
  },
  {
   "cell_type": "code",
   "execution_count": 52,
   "metadata": {},
   "outputs": [
    {
     "name": "stdout",
     "output_type": "stream",
     "text": [
      "[[0 \"'duck'\"]\n",
      " [26 \"'hyena'\"]\n",
      " [29 \"'moskito'\"]\n",
      " [33 \"'lion'\"]\n",
      " [33 \"'giraffe'\"]\n",
      " [33 \"'elephant'\"]\n",
      " [33 \"'kangaroo'\"]\n",
      " [33 \"'crocodile'\"]\n",
      " [33 \"'camel'\"]\n",
      " [33 \"'pig'\"]\n",
      " [33 \"'rat'\"]\n",
      " [33 \"'skunk'\"]\n",
      " [33 \"'bat'\"]\n",
      " [33 \"'ape'\"]\n",
      " [33 \"'cat'\"]\n",
      " [33 \"'horse'\"]\n",
      " [35 \"'housefly'\"]\n",
      " [35 \"'walrus'\"]\n",
      " [35 \"'penguin'\"]\n",
      " [35 \"'ostrich'\"]\n",
      " [35 \"'pelican'\"]\n",
      " [58 \"'antelop'\"]\n",
      " [62 \"'frog'\"]\n",
      " [62 \"'seaturtle'\"]\n",
      " [80 \"'dragonfly'\"]\n",
      " [80 \"'butterfly'\"]\n",
      " [80 \"'beetle'\"]\n",
      " [80 \"'bear'\"]\n",
      " [80 \"'spider'\"]\n",
      " [80 \"'grasshopper'\"]\n",
      " [83 \"'rabbit'\"]\n",
      " [88 \"'dog'\"]]\n"
     ]
    }
   ],
   "source": [
    "model = SOM()\n",
    "model.train()       \n",
    "model.predict()"
   ]
  },
  {
   "cell_type": "code",
   "execution_count": null,
   "metadata": {
    "collapsed": true
   },
   "outputs": [],
   "source": []
  }
 ],
 "metadata": {
  "kernelspec": {
   "display_name": "Python 3",
   "language": "python",
   "name": "python3"
  },
  "language_info": {
   "codemirror_mode": {
    "name": "ipython",
    "version": 3
   },
   "file_extension": ".py",
   "mimetype": "text/x-python",
   "name": "python",
   "nbconvert_exporter": "python",
   "pygments_lexer": "ipython3",
   "version": "3.6.2"
  }
 },
 "nbformat": 4,
 "nbformat_minor": 2
}
