{
 "cells": [
  {
   "cell_type": "code",
   "execution_count": 2,
   "metadata": {},
   "outputs": [],
   "source": [
    "import numpy as np\n",
    "import pandas as pd\n",
    "import matplotlib.pyplot as plt\n",
    "\n",
    "\n",
    "\n",
    "mpdistrict  = np.loadtxt('data/mpdistrict.dat', skiprows = 2, delimiter =',', dtype = float)\n",
    "mpparty = np.loadtxt('data/mpparty.dat', skiprows = 3, delimiter =',', dtype = float)\n",
    "votes = np.loadtxt('data/votes.dat', delimiter = ',', dtype = float)\n",
    "mpsex  = np.loadtxt('data/mpsex.dat', skiprows = 2, delimiter =',', dtype = float)\n",
    "mpnames = np.loadtxt('data/mpnames.txt', delimiter ='\\n', dtype = str)\n",
    "\n",
    "votes = np.reshape(votes,(349,31))\n",
    "votes_labels = list(range(len(votes)))\n",
    "\n",
    "partynames = ['no party', 'm', 'fp', 's', 'v', 'mp', 'kd', 'c']"
   ]
  },
  {
   "cell_type": "code",
   "execution_count": 3,
   "metadata": {},
   "outputs": [
    {
     "name": "stdout",
     "output_type": "stream",
     "text": [
      "[[ 0.   1.   0.  ...,  0.5  0.   1. ]\n",
      " [ 0.   1.   1.  ...,  0.   0.5  0. ]\n",
      " [ 0.   1.   0.  ...,  0.5  0.   1. ]\n",
      " ..., \n",
      " [ 1.   1.   1.  ...,  1.   1.   0.5]\n",
      " [ 0.   1.   0.  ...,  0.5  0.5  0.5]\n",
      " [ 0.   1.   1.  ...,  0.   0.5  0. ]]\n",
      "Party\n",
      "[ 1.  2.  1.  1.  3.]\n",
      "Sex\n",
      "[ 0.  0.  0.  0.  1.]\n",
      "District\n",
      "[ 1.  1.  1.  1.  1.]\n"
     ]
    }
   ],
   "source": [
    "# Let's have a look at the data\n",
    "\n",
    "print(votes)\n",
    "\n",
    "print(\"Party\")\n",
    "print((mpparty[0:5]))\n",
    "\n",
    "print(\"Sex\")\n",
    "print((mpsex[0:5]))\n",
    "\n",
    "print(\"District\")\n",
    "print((mpdistrict[0:5]))"
   ]
  },
  {
   "cell_type": "code",
   "execution_count": null,
   "metadata": {
    "collapsed": true
   },
   "outputs": [],
   "source": []
  },
  {
   "cell_type": "code",
   "execution_count": 4,
   "metadata": {},
   "outputs": [],
   "source": [
    "class SOM():\n",
    "    def __init__(self):\n",
    "        self.weights = np.random.rand(100, 31)\n",
    "        self.nsize = 25\n",
    "        \n",
    "    def distance(self, data, weight):\n",
    "        distance = data - weight\n",
    "        \n",
    "        # distances is the length of the distance vector!\n",
    "        return np.dot(distance.T, distance)\n",
    "\n",
    "    def get_winner(self, inp):\n",
    "        \n",
    "        min_dist = self.distance(self.weights[0,:], inp)\n",
    "        winner = 0\n",
    "        \n",
    "        for i in range(self.weights.shape[0]):\n",
    "            dist = self.distance(self.weights[i,:], inp)\n",
    "            if dist < min_dist:\n",
    "                min_dist = dist\n",
    "                winner = i\n",
    "                \n",
    "        return winner\n",
    "    \n",
    "    def get_neighbours(self, winner):\n",
    "        # returns the neighbourhood around the winner\n",
    "        neighbours = []\n",
    "        i = 1\n",
    "        \n",
    "        maxneighbour = self.weights.shape[0]\n",
    "\n",
    "        while (len(neighbours) < self.nsize):\n",
    "            if (winner - i >= 0):\n",
    "                neighbours.append(winner - i)\n",
    "            if (winner + i < maxneighbour):\n",
    "                neighbours.append(winner + i)\n",
    "            i += 1\n",
    "        \n",
    "        return neighbours\n",
    "\n",
    "    def update_weights(self, neighbours, sample, lr = 0.1):\n",
    "        # Update weights of all neighbours to become slightly more similar to the input pattern (sample)\n",
    "        for i in neighbours:\n",
    "            weight = self.weights[i,:].copy()\n",
    "            self.weights[i, :] = np.add(weight, lr * np.subtract(sample, weight))\n",
    "    \n",
    "    def train(self, data, epochs = 50):\n",
    "        for epoch in range(epochs):\n",
    "            for i in range(data.shape[0]):\n",
    "                # For each <mp> you will have to pick out the corresponding row from the props matrix.\n",
    "                # Then find the row of the weight matrix with the shortest distance to this attribute vector\n",
    "                # aka the winner\n",
    "                sample = data[i,:].copy()\n",
    "                winner = self.get_winner(sample)\n",
    "                \n",
    "                # Once you have the index to the winning node, it is time to update the weights.\n",
    "                neighbours = self.get_neighbours(winner)\n",
    "                \n",
    "                self.update_weights(neighbours, sample)\n",
    "                        \n",
    "            # Update neighbourhood size\n",
    "            if (epoch % 10 == 0):\n",
    "                if self.nsize > 10:\n",
    "                    self.nsize -= 2\n",
    "                elif self.nsize > 2:\n",
    "                    self.nsize -= 1\n",
    "\n",
    "            if epoch % 10==0:\n",
    "                print(\"area_size {}\".format(self.nsize))\n",
    "\n",
    "    def predict(self, data, names):\n",
    "        output = []\n",
    "        for i in range(data.shape[0]):\n",
    "            sample = data[i,:].copy()\n",
    "            winner = self.get_winner(sample)\n",
    "            output.append([winner, names[i]])\n",
    "        output = np.array(output, dtype=object)\n",
    "        \n",
    "        # sort by index\n",
    "        sort_idx = output[:,0].argsort()\n",
    "                \n",
    "        return output"
   ]
  },
  {
   "cell_type": "code",
   "execution_count": 5,
   "metadata": {},
   "outputs": [
    {
     "name": "stdout",
     "output_type": "stream",
     "text": [
      "area_size 23\n",
      "area_size 21\n",
      "area_size 19\n",
      "area_size 17\n",
      "area_size 15\n",
      "area_size 13\n",
      "area_size 11\n",
      "area_size 9\n",
      "area_size 8\n",
      "area_size 7\n"
     ]
    }
   ],
   "source": [
    "model = SOM()\n",
    "model.train(votes, 100)\n",
    "pred = model.predict(votes, votes_labels)"
   ]
  },
  {
   "cell_type": "code",
   "execution_count": 6,
   "metadata": {
    "collapsed": true
   },
   "outputs": [],
   "source": [
    "def to_grid(data):\n",
    "    result = np.empty((349,2))\n",
    "    i = 0\n",
    "    for datapoint in data:\n",
    "        x = np.floor(datapoint/10)\n",
    "        y = datapoint%10\n",
    "        result[i, 0] = x\n",
    "        result[i, 1] = y\n",
    "        i = i+1\n",
    "    return result\n",
    "\n",
    "def rand_color():\n",
    "    import random\n",
    "    r = lambda: random.randint(0,255)\n",
    "    return('#%02X%02X%02X' % (r(),r(),r()))\n",
    "\n"
   ]
  },
  {
   "cell_type": "code",
   "execution_count": 35,
   "metadata": {},
   "outputs": [],
   "source": [
    "counts_data = np.column_stack(np.unique(mp_cord, return_counts=True, axis = 0))\n"
   ]
  },
  {
   "cell_type": "code",
   "execution_count": 36,
   "metadata": {},
   "outputs": [],
   "source": [
    "\n",
    "names = pd.DataFrame(mpnames).rename(columns={0:'names'}).reindex(pred[:,1]).reset_index().rename(columns={'index':'id'})\n",
    "\n",
    "\n",
    "sex = pd.DataFrame(mpsex).rename(columns={0:'sex'}).reindex(pred[:,1]).reset_index().rename(columns={'index':'id'})\n",
    "\n",
    "\n",
    "district = pd.DataFrame(mpdistrict).rename(columns={0:'district'}).reindex(pred[:,1]).reset_index().rename(columns={'index':'id'})\n",
    "\n",
    "\n",
    "counts = pd.DataFrame(counts_data).rename(columns={0:'x',1:'y',2:'count'})\n",
    "\n",
    "\n",
    "party = pd.DataFrame(mpparty).rename(columns={0:'party'}).reindex(pred[:,1]).reset_index().rename(columns={'index':'id'})\n",
    "\n",
    "\n"
   ]
  },
  {
   "cell_type": "code",
   "execution_count": 37,
   "metadata": {},
   "outputs": [],
   "source": [
    "# we need to map each sample (mp) to x and y coordinates in an 10 x 10 grid\n",
    "mp_cord = np.empty((349,2))\n",
    "for i, sample in enumerate(pred[:,0]):\n",
    "    mp_cord[i, 0] = np.floor(sample / 10) # x-coordinates\n",
    "    mp_cord[i, 1] = sample % 10 # y-coordinates\n",
    "\n",
    "    \n",
    "\n",
    "mp_map = (pd.DataFrame(mp_cord)\n",
    "          .rename(columns={0:'x',1:'y'}))\n",
    "mp_map['output'] = pred[:,0]\n",
    "mp_map['id'] = pred[:,1]\n",
    "\n",
    "\n",
    "mp_map = (mp_map.merge(names, how ='left', on='id')\n",
    "            .merge(sex, how = 'left', on ='id')\n",
    "            .merge(district, how ='left', on = 'id')\n",
    "            .merge(party, how ='left', on='id')\n",
    "            .merge(counts, on =['x','y'], how = 'left'))"
   ]
  },
  {
   "cell_type": "code",
   "execution_count": 38,
   "metadata": {},
   "outputs": [
    {
     "data": {
      "text/html": [
       "<div>\n",
       "<style>\n",
       "    .dataframe thead tr:only-child th {\n",
       "        text-align: right;\n",
       "    }\n",
       "\n",
       "    .dataframe thead th {\n",
       "        text-align: left;\n",
       "    }\n",
       "\n",
       "    .dataframe tbody tr th {\n",
       "        vertical-align: top;\n",
       "    }\n",
       "</style>\n",
       "<table border=\"1\" class=\"dataframe\">\n",
       "  <thead>\n",
       "    <tr style=\"text-align: right;\">\n",
       "      <th></th>\n",
       "      <th>x</th>\n",
       "      <th>y</th>\n",
       "      <th>output</th>\n",
       "      <th>id</th>\n",
       "      <th>names</th>\n",
       "      <th>sex</th>\n",
       "      <th>district</th>\n",
       "      <th>party</th>\n",
       "      <th>count</th>\n",
       "    </tr>\n",
       "  </thead>\n",
       "  <tbody>\n",
       "    <tr>\n",
       "      <th>0</th>\n",
       "      <td>7.0</td>\n",
       "      <td>3.0</td>\n",
       "      <td>73</td>\n",
       "      <td>0</td>\n",
       "      <td>Skarman Carl-Erik</td>\n",
       "      <td>0.0</td>\n",
       "      <td>1.0</td>\n",
       "      <td>1.0</td>\n",
       "      <td>30.0</td>\n",
       "    </tr>\n",
       "    <tr>\n",
       "      <th>1</th>\n",
       "      <td>9.0</td>\n",
       "      <td>7.0</td>\n",
       "      <td>97</td>\n",
       "      <td>1</td>\n",
       "      <td>Romanus Gabriel</td>\n",
       "      <td>0.0</td>\n",
       "      <td>1.0</td>\n",
       "      <td>2.0</td>\n",
       "      <td>29.0</td>\n",
       "    </tr>\n",
       "    <tr>\n",
       "      <th>2</th>\n",
       "      <td>8.0</td>\n",
       "      <td>4.0</td>\n",
       "      <td>84</td>\n",
       "      <td>2</td>\n",
       "      <td>Odenberg Mikael</td>\n",
       "      <td>0.0</td>\n",
       "      <td>1.0</td>\n",
       "      <td>1.0</td>\n",
       "      <td>3.0</td>\n",
       "    </tr>\n",
       "    <tr>\n",
       "      <th>3</th>\n",
       "      <td>7.0</td>\n",
       "      <td>3.0</td>\n",
       "      <td>73</td>\n",
       "      <td>3</td>\n",
       "      <td>Jarrel Henrik S</td>\n",
       "      <td>0.0</td>\n",
       "      <td>1.0</td>\n",
       "      <td>1.0</td>\n",
       "      <td>30.0</td>\n",
       "    </tr>\n",
       "    <tr>\n",
       "      <th>4</th>\n",
       "      <td>1.0</td>\n",
       "      <td>5.0</td>\n",
       "      <td>15</td>\n",
       "      <td>4</td>\n",
       "      <td>Lindgren Sylvia</td>\n",
       "      <td>1.0</td>\n",
       "      <td>1.0</td>\n",
       "      <td>3.0</td>\n",
       "      <td>109.0</td>\n",
       "    </tr>\n",
       "  </tbody>\n",
       "</table>\n",
       "</div>"
      ],
      "text/plain": [
       "     x    y output id              names  sex  district  party  count\n",
       "0  7.0  3.0     73  0  Skarman Carl-Erik  0.0       1.0    1.0   30.0\n",
       "1  9.0  7.0     97  1    Romanus Gabriel  0.0       1.0    2.0   29.0\n",
       "2  8.0  4.0     84  2    Odenberg Mikael  0.0       1.0    1.0    3.0\n",
       "3  7.0  3.0     73  3    Jarrel Henrik S  0.0       1.0    1.0   30.0\n",
       "4  1.0  5.0     15  4    Lindgren Sylvia  1.0       1.0    3.0  109.0"
      ]
     },
     "execution_count": 38,
     "metadata": {},
     "output_type": "execute_result"
    }
   ],
   "source": [
    "mp_map.head()"
   ]
  },
  {
   "cell_type": "code",
   "execution_count": 43,
   "metadata": {},
   "outputs": [
    {
     "name": "stdout",
     "output_type": "stream",
     "text": [
      "Sex\n"
     ]
    },
    {
     "data": {
      "image/png": "[encoded data removed]",
      "text/plain": [
       "<matplotlib.figure.Figure at 0x1196124a8>"
      ]
     },
     "metadata": {},
     "output_type": "display_data"
    },
    {
     "data": {
      "image/png": "[encoded data removed]",
      "text/plain": [
       "<matplotlib.figure.Figure at 0x10c66a2b0>"
      ]
     },
     "metadata": {},
     "output_type": "display_data"
    }
   ],
   "source": [
    "## Sex\n",
    "print(\"Sex\")\n",
    "fig = plt.figure(figsize=(10,10))\n",
    "ax = fig.add_subplot(211)\n",
    "\n",
    "male = mp_map[mp_map.sex == 0] # male\n",
    "female = mp_map[mp_map.sex == 1] # female\n",
    "plt.scatter(female['x'], female['y'], s=female['count'], c='red', alpha = 1, label = \"Female: {} st\".format(female.shape[0]))\n",
    "ax.set_xlim([0,10])\n",
    "ax.set_ylim([0,10])\n",
    "ax.legend()\n",
    "plt.show()\n",
    "\n",
    "\n",
    "fig = plt.figure(figsize=(10,10))\n",
    "ax = fig.add_subplot(211)\n",
    "\n",
    "plt.scatter(male['x'], male['y'], s=male['count'], c='blue', alpha = 0.3, label = \"Male: {} st\".format(male.shape[0]))\n",
    "\n",
    "ax.set_xlim([0,10])\n",
    "ax.set_ylim([0,10])\n",
    "ax.legend()\n",
    "plt.show()\n"
   ]
  },
  {
   "cell_type": "code",
   "execution_count": 44,
   "metadata": {
    "scrolled": false
   },
   "outputs": [
    {
     "data": {
      "image/png": "[encoded data removed]",
      "text/plain": [
       "<matplotlib.figure.Figure at 0x1194cb0b8>"
      ]
     },
     "metadata": {},
     "output_type": "display_data"
    }
   ],
   "source": [
    "fig = plt.figure(figsize=(15,15))\n",
    "ax = fig.add_subplot(211)\n",
    "\n",
    "\n",
    "for party in mp_map['party'].unique():\n",
    "    df = mp_map[mp_map.party == party]\n",
    "    name = partynames[int(party)]\n",
    "    plt.scatter(df['x'], df['y'], s=df['count'], c=rand_color(), label = name + \": {} st\".format(df.shape[0]))\n",
    "    ax = plt.gca()\n",
    "ax.set_xlim([0,10])\n",
    "ax.set_ylim([0,10])\n",
    "ax.legend()\n",
    "plt.title(\"Parties\")\n",
    "plt.show()\n"
   ]
  },
  {
   "cell_type": "code",
   "execution_count": 45,
   "metadata": {},
   "outputs": [
    {
     "data": {
      "image/png": "[encoded data removed]",
      "text/plain": [
       "<matplotlib.figure.Figure at 0x11950a400>"
      ]
     },
     "metadata": {},
     "output_type": "display_data"
    }
   ],
   "source": [
    "fig = plt.figure(figsize=(15,15))\n",
    "ax = fig.add_subplot(211)\n",
    "\n",
    "\n",
    "for district in mp_map['district'].unique():\n",
    "    df = mp_map[mp_map.district == district]\n",
    "    plt.scatter(df['x'], df['y'], s=df['count'], c=rand_color(), label = district)\n",
    "    ax = plt.gca()\n",
    "ax.set_xlim([0,10])\n",
    "ax.set_ylim([0,10])\n",
    "ax.legend()\n",
    "plt.title(\"Districts\")\n",
    "plt.show()"
   ]
  },
  {
   "cell_type": "code",
   "execution_count": null,
   "metadata": {
    "collapsed": true
   },
   "outputs": [],
   "source": []
  }
 ],
 "metadata": {
  "kernelspec": {
   "display_name": "Python 3",
   "language": "python",
   "name": "python3"
  },
  "language_info": {
   "codemirror_mode": {
    "name": "ipython",
    "version": 3
   },
   "file_extension": ".py",
   "mimetype": "text/x-python",
   "name": "python",
   "nbconvert_exporter": "python",
   "pygments_lexer": "ipython3",
   "version": "3.6.2"
  }
 },
 "nbformat": 4,
 "nbformat_minor": 2
}
