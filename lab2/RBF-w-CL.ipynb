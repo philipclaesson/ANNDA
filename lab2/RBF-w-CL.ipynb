{
 "cells": [
  {
   "cell_type": "code",
   "execution_count": 1,
   "metadata": {
    "collapsed": true
   },
   "outputs": [],
   "source": [
    "import numpy as np"
   ]
  },
  {
   "cell_type": "markdown",
   "metadata": {},
   "source": [
    "## Part 1"
   ]
  },
  {
   "cell_type": "markdown",
   "metadata": {},
   "source": [
    "# Batch mode training using least squares - supervised learning of network weights. \n",
    "\n",
    "\n",
    "- Implement a radial basis function network from scratch. \n",
    "\n",
    "- The network will be used to approximate sin(2x) and square(2x) functions\n",
    "\n",
    "\n"
   ]
  },
  {
   "cell_type": "code",
   "execution_count": 2,
   "metadata": {
    "collapsed": true
   },
   "outputs": [],
   "source": [
    "## Support functions for the evaluation\n",
    "\n",
    "def getTrainSet(func = 'sin2x', stepSize = 0.1, noise = True):\n",
    "    ## Returns an 2 x N array of a training set\n",
    "    # Row 0 = inputs and row 1 = targets¨\n",
    "    # stepSize is taken as input, range is fixed to 0 --> 2pi. \n",
    "    N = int(np.floor(2 * np.pi/stepSize)) #Number of datapoints\n",
    "    \n",
    "    train = np.zeros((2,N))\n",
    "    inputs = np.arange(0, N)\n",
    "    np.random.shuffle(inputs)\n",
    "    \n",
    "    if (noise):\n",
    "        noise = 1\n",
    "    else: \n",
    "        noise = 0\n",
    "    \n",
    "    for step, i in enumerate(inputs):\n",
    "        train[0, i] = step*stepSize # Input: will be for example 0, 0.1, 0.2 .. 2pi etc.. \n",
    "        if (func == 'sin2x'): \n",
    "            train[1, i] = np.sin(2*step*stepSize) + noise * np.random.normal(0, np.sqrt(0.1)) # Target: for example sin(2*0), sin(2*0.1) .. sin(2*2pi) etc..\n",
    "        elif (func == 'step2x'): \n",
    "            train[1, i] = np.sign(np.sin(2*step*stepSize)) + noise * np.random.normal(0, np.sqrt(0.1)) # Target: for example sin(2*0), sin(2*0.1) .. sin(2*2pi) etc..\n",
    "\n",
    "    return train.T\n",
    "\n",
    "def getTestSet(func = 'sin2x', stepSize = 0.1):\n",
    "    ## Returns an 2 x N array of a training set\n",
    "    # Row 0 = inputs and row 1 = targets¨\n",
    "    # stepSize is taken as input, range is fixed to 0 --> 2pi. \n",
    "    N = int(np.floor(2 * np.pi/stepSize)) #Number of datapoints\n",
    "    \n",
    "    test = np.zeros((2,N))\n",
    "\n",
    "    for step in range(N):\n",
    "        test[0, step] = step*stepSize+0.05 # Input: will be for example 0.05, 0.15, 0.25 .. 2pi´0.05 etc.. \n",
    "        if (func == 'sin2x'): \n",
    "            test[1, step] = np.sin(2*step*stepSize+0.05) # Target: for example sin(2*0), sin(2*0.1) .. sin(2*2pi) etc..\n",
    "        elif (func == 'step2x'): \n",
    "            test[1, step] = np.sign(np.sin(2*step*stepSize+0.05)) # Target: for example sin(2*0), sin(2*0.1) .. sin(2*2pi) etc..\n",
    "\n",
    "    return test.T"
   ]
  },
  {
   "cell_type": "code",
   "execution_count": 22,
   "metadata": {},
   "outputs": [],
   "source": [
    "class RBF:\n",
    "    def __init__(self, n = 12, variance = 0.1, maxinput = 6.28, learning_rate = 0.1):\n",
    "        self.n = n # the number of nodes\n",
    "        self.variance = 0.1 ## Same variance for all nodes\n",
    "        # self.units = np.random.rand(1, n) * maxinput # random unit position in the input space\n",
    "        # self.units = np.array([0.5, 1, 1.5, 2, 2.5, 3, 3.5, 4, 4.5, 5, 5.5, 6]) # unit positions \n",
    "        \n",
    "        self.units = np.arange(0, maxinput, maxinput/(n-1))\n",
    "        self.units = np.append(self.units, 6.14)\n",
    "        \n",
    "        ## One node in each max and minimum\n",
    "        # self.units = np.arange(0, maxinput, 3.14/2)\n",
    "        # print(\"Units: \")\n",
    "        # print(self.units)\n",
    "        \n",
    "        self.n = self.units.shape[0]\n",
    "        self.w = np.random.rand(1,self.n).T\n",
    "        self.lr = learning_rate\n",
    "        print(\"Initiated weights, shape: \")\n",
    "        print(self.w.shape)\n",
    "        \n",
    "        print(\"Initiated units: \")\n",
    "        print(self.units)\n",
    "    \n",
    "    def error(self, f_approx, f):\n",
    "        # the average error (with direction +/-)\n",
    "        if not (f_approx.shape == f.shape): \n",
    "            raise Exception('f_approx and f shapes mismatch. f_approx: {}, f: {} '.format(f_approx.shape, f.shape))\n",
    "\n",
    "        # error = (phi(x) - target)^2\n",
    "        return np.average(f_approx - f)\n",
    "    \n",
    "    def res_error(self, f_approx, f):\n",
    "        # the residual error (absolute)\n",
    "        if not (f_approx.shape == f.shape): \n",
    "            raise Exception('f_approx and f shapes mismatch. f_approx: {}, f: {} '.format(f_approx.shape, f.shape))\n",
    "\n",
    "        # error = (phi(x) - target)^2\n",
    "        return np.average(np.abs(f_approx - f))            \n",
    "    \n",
    "    def predict(self, inp):\n",
    "        # takes an input inp and returns predictions\n",
    "        # do f^ = phi(x) * w.T\n",
    "        x = inp.dot(np.ones((1, self.n))) # inp x 1 * 1 x n --> inp x n\n",
    "        \n",
    "        # print(\"n x 1:\")\n",
    "        # print(self.w.shape)\n",
    "        \n",
    "        f_approx = self.phi_matrix(x).dot(self.w)\n",
    "        return f_approx\n",
    "    \n",
    "    def fit_lsq(self, inp, f):\n",
    "        # x is the input. Shape: inputs x 1\n",
    "        # f is the true value of the function (aka the target), same shape\n",
    "        if not (inp.shape == f.shape): \n",
    "            raise Exception('inp and f shapes mismatch. inp: {}, f: {} '.format(inp.shape, f.shape))\n",
    "    \n",
    "\n",
    "        # We want x to be a matrix with shape: inputs x neurons\n",
    "        x = inp.dot(np.ones((1, self.n))) # inp x 1 * 1 x n --> inp x n\n",
    "        \n",
    "        \n",
    "        # get phi(x)\n",
    "        self.phi_x = self.phi_matrix(x)\n",
    "\n",
    "        # we obtain the w that minimizes the error by solving: \n",
    "        # phi(x).T * phi(x) * w = phi(x).T * f\n",
    "        # --> w = (phi(x).T * phi(x))^-1 * phi(x).T * f        \n",
    "        self.w = np.linalg.inv(self.phi_x.T.dot(self.phi_x)).dot(self.phi_x.T).dot(f)\n",
    "        \n",
    "    \n",
    "    def fit_delta(self, inp, f):\n",
    "        # x is the input. Shape: inputs x 1\n",
    "        # f is the true value of the function (aka the target), same shape\n",
    "        if not (inp.shape == f.shape): \n",
    "            raise Exception('inp and f shapes mismatch. inp: {}, f: {} '.format(inp.shape, f.shape))\n",
    "        \n",
    "        x = inp.dot(np.ones((1, self.n))) # inp x 1 * 1 x n --> inp x n\n",
    "        \n",
    "        # compute phi(x)\n",
    "        self.phi_x = self.phi_matrix(x)\n",
    "        \n",
    "        # make a prediction\n",
    "        f_approx = self.predict(inp)\n",
    "        \n",
    "        # compute the error\n",
    "        e = self.error(f_approx, f)\n",
    "        \n",
    "        # find delta w\n",
    "        self.dw = -1 * self.lr * e * self.phi_x.T\n",
    "        \n",
    "        #print(\"dw shape\")\n",
    "        #print(dw.shape)\n",
    "\n",
    "        \n",
    "        #update weights\n",
    "        self.w += self.dw\n",
    "            \n",
    "    def cl_update(self, sample, learning_rate):\n",
    "        # find the \"winner\" of the units (the one closest to the random sample)\n",
    "        unit_distance = self.units - sample\n",
    "        winner_idx = np.argmin(unit_distance)\n",
    "        \n",
    "        # how far away is the winner's position from the sample? \n",
    "        dp = -1 * learning_rate * (self.units[winner_idx] - sample)\n",
    "        \n",
    "        # update the winner's position to be slightly closer to the random sample\n",
    "        self.units[winner_idx] += dp\n",
    "        \n",
    "        \n",
    "    def phi(self, x, i): \n",
    "        return np.exp(-(np.square(x-i))/(2*np.square(self.variance)))\n",
    "    \n",
    "    \n",
    "    def phi_matrix(self, x):\n",
    "        # number of inputs (m) (rows) x self.n (n) (columns)\n",
    "        # print(\"phi_matrix input size:\" + str(x.shape))\n",
    "        # this is a slow and stupid way of computing phi(x)\n",
    "        for m in range(x.shape[0]): # m\n",
    "            for n in range(x.shape[1]): # n\n",
    "                res = self.phi(x = x[m, n], i = self.units[n])\n",
    "        #        print(\"phi({}, {}): {}\".format(x[row, col], self.units[0, row], res))\n",
    "                x[m, n] = res\n",
    "\n",
    "        return x"
   ]
  },
  {
   "cell_type": "code",
   "execution_count": 23,
   "metadata": {
    "collapsed": true
   },
   "outputs": [],
   "source": [
    "function = 'sin2x'\n",
    "\n",
    "# Train model\n",
    "trainset = getTrainSet(function, noise = False)\n",
    "\n",
    "## Test Model\n",
    "# Get test set\n",
    "testset = getTestSet(function)"
   ]
  },
  {
   "cell_type": "code",
   "execution_count": 25,
   "metadata": {},
   "outputs": [
    {
     "name": "stdout",
     "output_type": "stream",
     "text": [
      "Initiated weights, shape: \n",
      "(60, 1)\n",
      "Initiated units: \n",
      "[ 0.          0.10644068  0.21288136  0.31932203  0.42576271  0.53220339\n",
      "  0.63864407  0.74508475  0.85152542  0.9579661   1.06440678  1.17084746\n",
      "  1.27728814  1.38372881  1.49016949  1.59661017  1.70305085  1.80949153\n",
      "  1.9159322   2.02237288  2.12881356  2.23525424  2.34169492  2.44813559\n",
      "  2.55457627  2.66101695  2.76745763  2.87389831  2.98033898  3.08677966\n",
      "  3.19322034  3.29966102  3.40610169  3.51254237  3.61898305  3.72542373\n",
      "  3.83186441  3.93830508  4.04474576  4.15118644  4.25762712  4.3640678\n",
      "  4.47050847  4.57694915  4.68338983  4.78983051  4.89627119  5.00271186\n",
      "  5.10915254  5.21559322  5.3220339   5.42847458  5.53491525  5.64135593\n",
      "  5.74779661  5.85423729  5.96067797  6.06711864  6.17355932  6.14      ]\n",
      "Epoch 0, residual error: 0.1564871698390826, dw: -0.006141940495948009\n",
      "Epoch 5, residual error: 0.0450252062201505, dw: -0.0001839038655193177\n",
      "Epoch 10, residual error: 0.041831117320424584, dw: -0.0004987324972039216\n",
      "Epoch 15, residual error: 0.03948482539679715, dw: -0.0005581182362377979\n",
      "Epoch 19, residual error: 0.038397685534896274, dw: -0.0005578430552839179 \n",
      "[ 0.          0.10644068  0.21288136  0.31932203  0.42576271  0.53220339\n",
      "  0.63864407  0.74508475  0.85152542  0.9579661   1.06440678  1.17084746\n",
      "  1.27728814  1.38372881  1.49016949  1.59661017  1.70305085  1.80949153\n",
      "  1.9159322   2.02237288  2.12881356  2.23525424  2.34169492  2.44813559\n",
      "  2.55457627  2.66101695  2.76745763  2.87389831  2.98033898  3.08677966\n",
      "  3.19322034  3.29966102  3.40610169  3.51254237  3.61898305  3.72542373\n",
      "  3.83186441  3.93830508  4.04474576  4.15118644  4.25762712  4.3640678\n",
      "  4.47050847  4.57694915  4.68338983  4.78983051  4.89627119  5.00271186\n",
      "  5.10915254  5.21559322  5.3220339   5.42847458  5.53491525  5.64135593\n",
      "  5.74779661  5.85423729  5.96067797  6.06711864  6.17355932  6.14      ]\n",
      "Initiated weights, shape: \n",
      "(60, 1)\n",
      "Initiated units: \n",
      "[ 0.          0.10644068  0.21288136  0.31932203  0.42576271  0.53220339\n",
      "  0.63864407  0.74508475  0.85152542  0.9579661   1.06440678  1.17084746\n",
      "  1.27728814  1.38372881  1.49016949  1.59661017  1.70305085  1.80949153\n",
      "  1.9159322   2.02237288  2.12881356  2.23525424  2.34169492  2.44813559\n",
      "  2.55457627  2.66101695  2.76745763  2.87389831  2.98033898  3.08677966\n",
      "  3.19322034  3.29966102  3.40610169  3.51254237  3.61898305  3.72542373\n",
      "  3.83186441  3.93830508  4.04474576  4.15118644  4.25762712  4.3640678\n",
      "  4.47050847  4.57694915  4.68338983  4.78983051  4.89627119  5.00271186\n",
      "  5.10915254  5.21559322  5.3220339   5.42847458  5.53491525  5.64135593\n",
      "  5.74779661  5.85423729  5.96067797  6.06711864  6.17355932  6.14      ]\n",
      "Epoch 0, residual error: 0.1481285237825857, dw: -0.007829588933699262\n",
      "Epoch 5, residual error: 0.09664015214884546, dw: 0.00021266116674136066\n",
      "Epoch 10, residual error: 0.1843534473696367, dw: 0.0057006934468827\n",
      "Epoch 15, residual error: 0.21973342127449685, dw: -0.0072466675265036445\n",
      "Epoch 19, residual error: 0.22408967598069363, dw: 0.0043511152233360025 \n",
      "[ 2.775       2.95322034  3.01411017  1.65966102  2.21288136  1.91610169\n",
      "  2.76932203  1.63627119  1.72576271  1.92898305  2.68220339  3.43542373\n",
      "  3.18864407  3.44186441  3.44508475  1.39830508  1.70305085  1.80949153\n",
      "  1.9159322   2.02237288  2.12881356  2.23525424  2.34169492  2.44813559\n",
      "  2.55457627  2.66101695  2.76745763  2.87389831  2.98033898  3.08677966\n",
      "  3.19322034  3.29966102  3.40610169  3.51254237  3.61898305  3.72542373\n",
      "  3.83186441  3.93830508  4.04474576  4.15118644  4.25762712  4.3640678\n",
      "  4.47050847  4.57694915  4.68338983  4.78983051  4.89627119  5.00271186\n",
      "  5.10915254  5.21559322  5.3220339   5.42847458  5.53491525  5.64135593\n",
      "  5.74779661  5.85423729  5.96067797  6.06711864  6.17355932  6.14      ]\n"
     ]
    }
   ],
   "source": [
    "\n",
    "\n",
    "def batch(n, trainset, testset, variance = 0.1):\n",
    "    model = RBF(n, variance = 0.1)\n",
    "    \n",
    "    # fit model\n",
    "    model.fit_lsq(trainset[:, 0][np.newaxis,:].T, trainset[:, 1][np.newaxis,:].T)\n",
    "    \n",
    "    ## Test Model\n",
    "    # Make predictions\n",
    "    pred = model.predict(testset[:, 0][np.newaxis,:].T)\n",
    "    # test error\n",
    "    e = model.res_error(pred, testset[:, 1][np.newaxis,:].T)\n",
    "\n",
    "    print(\"Absolute residual error: {}\".format(e))\n",
    "\n",
    "\n",
    "def delta(n, trainset, testset, variance = 0.1, learning_rate = 0.1, epochs = 20, cl = False):\n",
    "    model = RBF(n, variance = variance, learning_rate = learning_rate)\n",
    "    \n",
    "    #fit model\n",
    "    for epoch in range(epochs): \n",
    "        for tupl in trainset:\n",
    "            sample = np.array([tupl[0]])[np.newaxis,:].T\n",
    "            target = np.array([tupl[1]])[np.newaxis,:].T\n",
    "            model.fit_delta(sample, target)\n",
    "        \n",
    "        if (cl): \n",
    "            # Update units through competetive learning\n",
    "            rand = np.random.choice(trainset[:, 0])\n",
    "            model.cl_update(rand, learning_rate)\n",
    "        \n",
    "        # Make predictions\n",
    "        pred = model.predict(testset[:, 0][np.newaxis,:].T)\n",
    "        # test error\n",
    "        e = model.res_error(pred, testset[:, 1][np.newaxis,:].T)\n",
    "        if (epoch % 5 == 0):\n",
    "            print(\"Epoch {}, residual error: {}, dw: {}\".format(epoch, e, np.average(model.dw)))\n",
    "    print(\"Epoch {}, residual error: {}, dw: {} \".format(epoch, e, np.average(model.dw)))\n",
    "\n",
    "    print(model.units)\n",
    "    \n",
    "\n",
    "\n",
    "units = 60\n",
    "width = 0.01\n",
    "# batch(units, trainset, testset, width)\n",
    "delta(units, trainset, testset, width, 0.5, 20)\n",
    "delta(units, trainset, testset, width, 0.5, 20, cl = True)"
   ]
  },
  {
   "cell_type": "code",
   "execution_count": null,
   "metadata": {
    "collapsed": true,
    "scrolled": true
   },
   "outputs": [],
   "source": []
  },
  {
   "cell_type": "markdown",
   "metadata": {
    "collapsed": true
   },
   "source": [
    "### Minimizing the residual error\n",
    "\n",
    "With 12 units evenly distributed, variance = 0.1, the Absolute residual error was: 0.32240\n",
    "the error did not change significantly with variance 0.3 or 0.01\n",
    "\n",
    "\n",
    "With 20 units evenly distributed, variance = 0.1, the Absolute residual error was: 0.131492\n",
    "\n",
    "\n",
    "Adding a node in the very end of the interval reduced it somewhat to 0.12314\n",
    "\n",
    "30 units: 0.03243\n",
    "\n",
    "40 units: 0.0313 \n",
    "\n",
    "\n",
    "\n"
   ]
  },
  {
   "cell_type": "code",
   "execution_count": null,
   "metadata": {
    "collapsed": true
   },
   "outputs": [],
   "source": []
  },
  {
   "cell_type": "code",
   "execution_count": null,
   "metadata": {
    "collapsed": true
   },
   "outputs": [],
   "source": []
  },
  {
   "cell_type": "code",
   "execution_count": null,
   "metadata": {
    "collapsed": true
   },
   "outputs": [],
   "source": []
  },
  {
   "cell_type": "code",
   "execution_count": null,
   "metadata": {
    "collapsed": true
   },
   "outputs": [],
   "source": []
  },
  {
   "cell_type": "code",
   "execution_count": null,
   "metadata": {
    "collapsed": true
   },
   "outputs": [],
   "source": []
  },
  {
   "cell_type": "code",
   "execution_count": 11,
   "metadata": {},
   "outputs": [
    {
     "data": {
      "text/plain": [
       "array([[ 0.94593827,  0.50419356,  0.57720877,  0.45551226,  0.42067183]])"
      ]
     },
     "execution_count": 11,
     "metadata": {},
     "output_type": "execute_result"
    }
   ],
   "source": []
  },
  {
   "cell_type": "code",
   "execution_count": 12,
   "metadata": {},
   "outputs": [
    {
     "data": {
      "text/plain": [
       "array([[-0.05406173, -0.49580644, -0.42279123, -0.54448774, -0.57932817]])"
      ]
     },
     "execution_count": 12,
     "metadata": {},
     "output_type": "execute_result"
    }
   ],
   "source": []
  },
  {
   "cell_type": "code",
   "execution_count": null,
   "metadata": {
    "collapsed": true
   },
   "outputs": [],
   "source": []
  }
 ],
 "metadata": {
  "kernelspec": {
   "display_name": "Python 3",
   "language": "python",
   "name": "python3"
  },
  "language_info": {
   "codemirror_mode": {
    "name": "ipython",
    "version": 3
   },
   "file_extension": ".py",
   "mimetype": "text/x-python",
   "name": "python",
   "nbconvert_exporter": "python",
   "pygments_lexer": "ipython3",
   "version": "3.6.2"
  }
 },
 "nbformat": 4,
 "nbformat_minor": 2
}
