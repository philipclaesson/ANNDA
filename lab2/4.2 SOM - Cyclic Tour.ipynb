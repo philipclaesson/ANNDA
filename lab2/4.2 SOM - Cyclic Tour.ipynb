{
 "cells": [
  {
   "cell_type": "code",
   "execution_count": 2,
   "metadata": {
    "collapsed": true
   },
   "outputs": [],
   "source": [
    "import numpy as np"
   ]
  },
  {
   "cell_type": "code",
   "execution_count": 14,
   "metadata": {},
   "outputs": [
    {
     "name": "stdout",
     "output_type": "stream",
     "text": [
      "[[ 0.4     0.4439]\n",
      " [ 0.2439  0.1463]\n",
      " [ 0.1707  0.2293]\n",
      " [ 0.2293  0.761 ]\n",
      " [ 0.5171  0.9414]\n",
      " [ 0.8732  0.6536]\n",
      " [ 0.6878  0.5219]\n",
      " [ 0.8488  0.3609]\n",
      " [ 0.6683  0.2536]\n",
      " [ 0.6195  0.2634]]\n"
     ]
    }
   ],
   "source": [
    "data = np.loadtxt('data/cities.dat', delimiter=\",\", comments = \";\", skiprows=4, dtype=float)\n",
    "\n",
    "print(data)"
   ]
  },
  {
   "cell_type": "code",
   "execution_count": 86,
   "metadata": {},
   "outputs": [
    {
     "name": "stdout",
     "output_type": "stream",
     "text": [
      "[[ 0.4     0.4439]\n",
      " [ 0.2439  0.1463]\n",
      " [ 0.1707  0.2293]\n",
      " [ 0.2293  0.761 ]\n",
      " [ 0.5171  0.9414]\n",
      " [ 0.8732  0.6536]\n",
      " [ 0.6878  0.5219]\n",
      " [ 0.8488  0.3609]\n",
      " [ 0.6683  0.2536]\n",
      " [ 0.6195  0.2634]]\n"
     ]
    },
    {
     "data": {
      "image/png": "[encoded data removed]",
      "text/plain": [
       "<matplotlib.figure.Figure at 0x112a5ef28>"
      ]
     },
     "metadata": {},
     "output_type": "display_data"
    }
   ],
   "source": [
    "# Let's have a look at the data\n",
    "\n",
    "print(data)\n",
    "\n",
    "## Scatter Plot\n",
    "import matplotlib.pyplot as plt\n",
    "plt.scatter(data[:,0], data[:,1], marker = \"x\", c = 'g')\n",
    "plt.show()"
   ]
  },
  {
   "cell_type": "code",
   "execution_count": null,
   "metadata": {},
   "outputs": [],
   "source": []
  },
  {
   "cell_type": "code",
   "execution_count": 148,
   "metadata": {},
   "outputs": [],
   "source": [
    "class SOM:\n",
    "    def __init__(self): \n",
    "        # Weights 10 nodes, 2 inputs\n",
    "        self.weights = np.random.rand(10, 2)\n",
    "        self.nsize = 5\n",
    "        self.visited = []\n",
    "        \n",
    "    def similarity(self, data, weight):\n",
    "        distance = data - weight\n",
    "        \n",
    "        # similarity is the length of the distance vector!\n",
    "        return np.dot(distance.T, distance)\n",
    "\n",
    "    def get_winner(self, data):\n",
    "        # Returns the index of the winning node(weight), the most similar node to the input data\n",
    "        similarities = np.array([])\n",
    "        for i, weight in enumerate(self.weights):\n",
    "            similarities = np.append(similarities, self.similarity(data, weight))\n",
    "        \n",
    "        for index in self.visited: \n",
    "            similarities[index] = np.inf\n",
    "        winner = np.argmin(similarities)\n",
    "                \n",
    "        return winner # returns the index of the minimum weight\n",
    "\n",
    "    def train(self, epochs=20):\n",
    "        #For each sample in input\n",
    "        for epoch in range(epochs):\n",
    "            for i, sample in enumerate(data): \n",
    "                # For each animal you will have to pick out the corresponding row from the props matrix.\n",
    "                \n",
    "                # Then find the row of the weight matrix with the shortest distance to this attribute vector\n",
    "                # aka the winner\n",
    "                winner = self.get_winner(sample)\n",
    "                \n",
    "                # Once you have the index to the winning node, it is time to update the weights.\n",
    "                neighbours = self.get_neighbours(winner) #Get list of neighbours with winnerNode in center\n",
    "      \n",
    "                self.update_weights(neighbours, sample)\n",
    "\n",
    "            # Update neighbourhood size\n",
    "            if i <= 5:\n",
    "                self.nsize = 1\n",
    "            elif self.nsize < 2:\n",
    "                self.nsize -= 0\n",
    "                \n",
    "    def get_neighbours(self, winner):\n",
    "        # returns the neighbourhood around the winner\n",
    "        neighbours = []\n",
    "        i = 1\n",
    "        \n",
    "        neighbours.append(winner) # assuming we want to update the neighbour as well\n",
    "        \n",
    "        while (len(neighbours) < self.nsize):\n",
    "            # %10 makes the neighbourhood circular\n",
    "            neighbours.append((winner - i)%10)\n",
    "            neighbours.append((winner + i)%10)\n",
    "            i += 1\n",
    "        \n",
    "        return np.array(neighbours)\n",
    "\n",
    "\n",
    "    def update_weights(self, neighbours, sample, lr = 0.2):\n",
    "        # Update weights of all neighbours to become slightly more similar to the input pattern (sample)\n",
    "        for i in neighbours:\n",
    "            self.weights[i] = self.weights[i] + lr * (sample - self.weights[i])\n",
    "    \n",
    "    def predict(self):\n",
    "        path=[]\n",
    "        #Loop through animals\n",
    "        path.append((0, data[0][0], data[0][1]))\n",
    "        for i in range(data.shape[0]):\n",
    "                winner = self.get_winner(data[i]) #Find best node\n",
    "                path.append((winner, data[i][0], data[i][1]))\n",
    "\n",
    "        path = np.array(path,dtype=object)\n",
    "        path = path[path[:,0].argsort()]\n",
    "        return(path)\n",
    "\n",
    "        #for i in range(pos.shape[0]):\n",
    "        #plt.plot(pos[:,1],pos[:,2],linestyle='-', marker='o',color=\"b\")\n",
    "        #path = Path(pos[:,1:])\n",
    "        #plt.plot(path) #spara denna\n",
    "        #plt.show()"
   ]
  },
  {
   "cell_type": "code",
   "execution_count": 151,
   "metadata": {},
   "outputs": [
    {
     "name": "stdout",
     "output_type": "stream",
     "text": [
      "[[0 0.40000000000000002 0.44390000000000002]\n",
      " [0 0.40000000000000002 0.44390000000000002]\n",
      " [0 0.24390000000000001 0.14630000000000001]\n",
      " [0 0.17069999999999999 0.2293]\n",
      " [1 0.2293 0.76100000000000001]\n",
      " [3 0.5171 0.94140000000000001]\n",
      " [4 0.87319999999999998 0.65359999999999996]\n",
      " [5 0.68779999999999997 0.52190000000000003]\n",
      " [6 0.8488 0.3609]\n",
      " [7 0.66830000000000001 0.25359999999999999]\n",
      " [8 0.61950000000000005 0.26340000000000002]]\n",
      "[0.40000000000000002 0.40000000000000002 0.24390000000000001\n",
      " 0.17069999999999999 0.2293 0.5171 0.87319999999999998 0.68779999999999997\n",
      " 0.8488 0.66830000000000001 0.61950000000000005]\n",
      "[0.44390000000000002 0.44390000000000002 0.14630000000000001 0.2293\n",
      " 0.76100000000000001 0.94140000000000001 0.65359999999999996\n",
      " 0.52190000000000003 0.3609 0.25359999999999999 0.26340000000000002]\n"
     ]
    },
    {
     "data": {
      "image/png": "[encoded data removed]",
      "text/plain": [
       "<matplotlib.figure.Figure at 0x112c8eef0>"
      ]
     },
     "metadata": {},
     "output_type": "display_data"
    }
   ],
   "source": [
    "model = SOM()\n",
    "model.train()  \n",
    "path = model.predict()\n",
    "print(path)\n",
    "\n",
    "\n",
    "print(path[:,1])\n",
    "print(path[:,2])\n",
    "\n",
    "import matplotlib.pyplot as plt\n",
    "plt.show()\n",
    "plt.plot(path[:,1], path[:,2], c = 'g', marker = 'x')\n",
    "\n",
    "plt.show()"
   ]
  },
  {
   "cell_type": "code",
   "execution_count": null,
   "metadata": {
    "collapsed": true
   },
   "outputs": [],
   "source": []
  },
  {
   "cell_type": "code",
   "execution_count": null,
   "metadata": {
    "collapsed": true
   },
   "outputs": [],
   "source": []
  }
 ],
 "metadata": {
  "kernelspec": {
   "display_name": "Python 3",
   "language": "python",
   "name": "python3"
  },
  "language_info": {
   "codemirror_mode": {
    "name": "ipython",
    "version": 3
   },
   "file_extension": ".py",
   "mimetype": "text/x-python",
   "name": "python",
   "nbconvert_exporter": "python",
   "pygments_lexer": "ipython3",
   "version": "3.6.2"
  }
 },
 "nbformat": 4,
 "nbformat_minor": 2
}
