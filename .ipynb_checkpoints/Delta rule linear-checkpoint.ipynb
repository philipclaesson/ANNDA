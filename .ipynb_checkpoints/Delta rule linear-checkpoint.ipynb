{
 "cells": [
  {
   "cell_type": "code",
   "execution_count": 2,
   "metadata": {
    "scrolled": false
   },
   "outputs": [
    {
     "data": {
      "text/plain": [
       "<Figure size 640x480 with 1 Axes>"
      ]
     },
     "metadata": {},
     "output_type": "display_data"
    }
   ],
   "source": [
    "import numpy as np\n",
    "import matplotlib.pyplot as plt\n",
    "import time\n",
    "\n",
    "\n",
    "mean1 = [-20, 20]\n",
    "cov1 = [[40, 0], [0, 40]]\n",
    "x1, y1 = np.random.multivariate_normal(mean1, cov1, 200).T\n",
    "\n",
    "mean2 = [-10, -20]\n",
    "cov2 = [[40, 0], [0, 40]]\n",
    "x2, y2 = np.random.multivariate_normal(mean2, cov2, 200).T\n",
    "\n",
    "plt.plot(x1, y1, 'x')\n",
    "plt.plot(x2, y2, 'o')\n",
    "plt.axis('equal')\n",
    "plt.grid()\n",
    "plt.show()"
   ]
  },
  {
   "cell_type": "code",
   "execution_count": 3,
   "metadata": {},
   "outputs": [
    {
     "data": {
      "text/plain": [
       "(200,)"
      ]
     },
     "execution_count": 3,
     "metadata": {},
     "output_type": "execute_result"
    }
   ],
   "source": [
    "np.shape(x1)"
   ]
  },
  {
   "cell_type": "code",
   "execution_count": 4,
   "metadata": {
    "scrolled": true
   },
   "outputs": [],
   "source": [
    "#x1\n",
    "bias = np.ones(200, dtype=np.int) #Add bias term\n",
    "\n",
    "pos = np.column_stack([x1,y1,bias])\n",
    "neg = np.column_stack([x2,y2,bias])\n",
    "\n",
    "all_patterns = np.concatenate([pos,neg])"
   ]
  },
  {
   "cell_type": "code",
   "execution_count": null,
   "metadata": {
    "scrolled": true
   },
   "outputs": [],
   "source": []
  },
  {
   "cell_type": "code",
   "execution_count": 5,
   "metadata": {
    "scrolled": true
   },
   "outputs": [],
   "source": [
    "targets = np.ones(200,dtype=np.int)\n",
    "minus = -1 * np.ones(200,dtype=np.int)\n",
    "targets = np.append(targets,minus)\n",
    "\n",
    "all_samples = np.column_stack([all_patterns,targets])\n",
    "np.random.shuffle(all_samples)"
   ]
  },
  {
   "cell_type": "code",
   "execution_count": 6,
   "metadata": {
    "scrolled": true
   },
   "outputs": [],
   "source": [
    "patterns = all_samples[:200,:3]\n",
    "targets = all_samples[:200,3]\n",
    "\n",
    "test_patterns = all_samples[200:,:3]\n",
    "test_targets = all_samples[200:,3]\n",
    "#print(test_patterns)\n",
    "#print(test_targets)"
   ]
  },
  {
   "cell_type": "code",
   "execution_count": null,
   "metadata": {
    "scrolled": true
   },
   "outputs": [],
   "source": []
  },
  {
   "cell_type": "code",
   "execution_count": 7,
   "metadata": {
    "scrolled": true
   },
   "outputs": [],
   "source": [
    "def initWeights(dim):\n",
    "    np.random.seed(42)\n",
    "    w = []\n",
    "    for i in range(dim):\n",
    "        w.append(np.random.normal(0,0.01))\n",
    "    return w\n",
    "        "
   ]
  },
  {
   "cell_type": "code",
   "execution_count": 8,
   "metadata": {
    "scrolled": true
   },
   "outputs": [
    {
     "name": "stdout",
     "output_type": "stream",
     "text": [
      "[0.004967141530112327, -0.0013826430117118466, 0.006476885381006925]\n"
     ]
    }
   ],
   "source": [
    "#Dimension 2 columns, one for each dimension in input data\n",
    "#W = 0.01 * np.random.randn(2,2)\n",
    "W=initWeights(3)\n",
    "print(W)"
   ]
  },
  {
   "cell_type": "code",
   "execution_count": 9,
   "metadata": {
    "scrolled": true
   },
   "outputs": [],
   "source": [
    "def test(W,X,y):\n",
    "    predictions = []\n",
    "    corr = 0\n",
    "    for i in range(len(y)):        \n",
    "        pred = np.dot(W,X[i])\n",
    "        if pred>0:\n",
    "            predictions.append(1)\n",
    "        else:\n",
    "            predictions.append(-1)\n",
    "    #print(predictions)\n",
    "    #print(y)\n",
    "    \n",
    "    for i in range(len(predictions)):\n",
    "        if predictions[i]==y[i]:\n",
    "            corr+=1 \n",
    "    acc = corr/len(y)\n",
    "    return acc"
   ]
  },
  {
   "cell_type": "code",
   "execution_count": 10,
   "metadata": {},
   "outputs": [],
   "source": [
    "#Prints train and test erorrs during each epoch/iteration\n",
    "def printLearningCurve(trainErr,testErr,iterations,typ,training,learning=\"delta rule\"):\n",
    "    #f,axarr = plt.subplots(2,sharex=True)\n",
    "    plt.plot(range(iterations),trainErr, '-',label=\"train\")\n",
    "    plt.plot(range(iterations),testErr, '-',label=\"test\")\n",
    "    title='Accuracy at each '+typ+\" using \"+training+\" training\"+\" for \"+learning+\" learning\"\n",
    "    plt.title(title)\n",
    "\n",
    "    plt.grid()\n",
    "    plt.legend()\n",
    "    plt.show()\n"
   ]
  },
  {
   "cell_type": "code",
   "execution_count": 11,
   "metadata": {
    "scrolled": true
   },
   "outputs": [
    {
     "data": {
      "image/png": "[encoded data removed]",
      "text/plain": [
       "<Figure size 432x288 with 1 Axes>"
      ]
     },
     "metadata": {
      "needs_background": "light"
     },
     "output_type": "display_data"
    },
    {
     "name": "stdout",
     "output_type": "stream",
     "text": [
      "Final test acc is:  0.99\n"
     ]
    }
   ],
   "source": [
    "def train_seq(patterns,targets,W,epochs):\n",
    "    train_acc=[]\n",
    "    test_acc=[]\n",
    "    eta = 0.00001\n",
    "\n",
    "    #Sekventiell\n",
    "    for i in range(targets.size):\n",
    "        prediction = np.dot(patterns[i],W) #w*X\n",
    "        error = prediction-targets[i] #beräkna felet\n",
    "\n",
    "        delta_w = -eta*np.dot(error,np.transpose(patterns[i])) #uppdatera vikterna\n",
    "        W = np.add(W,delta_w)\n",
    "        acc_test = test(W,test_patterns,test_targets)\n",
    "        acc_train= test(W,patterns[:i+1],targets[:i+1])\n",
    "        \n",
    "        train_acc.append(acc_train)\n",
    "        test_acc.append(acc_test)\n",
    "        \n",
    "        #print(\"For iteration\",i,\"test acc is:\",acc_test)\n",
    "        #print(\"For iteration\",i,\"train acc is:\",acc_train)\n",
    "    \n",
    "    printLearningCurve(train_acc,test_acc,targets.size,\"iteration\",\"sequential\")\n",
    "    print(\"Final test acc is: \",test_acc[targets.size-1])\n",
    "    return W\n",
    "\n",
    "iterations = 10\n",
    "W_seq = train_seq(patterns,targets,W,iterations)\n",
    "#print(W_seq)"
   ]
  },
  {
   "cell_type": "code",
   "execution_count": 12,
   "metadata": {
    "scrolled": true
   },
   "outputs": [
    {
     "name": "stdout",
     "output_type": "stream",
     "text": [
      "0.99\n"
     ]
    }
   ],
   "source": [
    "print(test(W_seq,test_patterns,test_targets)) "
   ]
  },
  {
   "cell_type": "code",
   "execution_count": 13,
   "metadata": {},
   "outputs": [
    {
     "data": {
      "text/plain": [
       "(3,)"
      ]
     },
     "execution_count": 13,
     "metadata": {},
     "output_type": "execute_result"
    }
   ],
   "source": [
    "np.shape(W)"
   ]
  },
  {
   "cell_type": "code",
   "execution_count": 14,
   "metadata": {
    "scrolled": false
   },
   "outputs": [
    {
     "data": {
      "image/png": "[encoded data removed]",
      "text/plain": [
       "<Figure size 432x288 with 1 Axes>"
      ]
     },
     "metadata": {
      "needs_background": "light"
     },
     "output_type": "display_data"
    },
    {
     "name": "stdout",
     "output_type": "stream",
     "text": [
      "Final test acc is:  0.995\n",
      "[-0.00202318  0.02626172  0.00653799]\n",
      "0.995\n"
     ]
    }
   ],
   "source": [
    "def train_batch(patterns,targets,W,epoch):\n",
    "    train_accs=[]\n",
    "    test_accs=[]\n",
    "    \n",
    "    eta = 0.0001\n",
    "    delta_w=0\n",
    "    #print(test(W,test_patterns,test_targets))\n",
    "    for n in range(epoch):\n",
    "        error=0\n",
    "        delta_w=0\n",
    "        for i in range(len(targets)):\n",
    "            prediction = np.dot(patterns[i],W) \n",
    "            error = prediction-targets[i]\n",
    "            #print(error)\n",
    "            delta_w += -eta*np.dot(error,np.transpose(patterns[i]))\n",
    "        #uppdatera vikterna\n",
    "        delta_w = delta_w/len(targets)\n",
    "        ##print(delta_w)\n",
    "        W = np.add(W,delta_w)\n",
    "        \n",
    "        acc_test = test(W,test_patterns,test_targets)\n",
    "        acc_train = test(W,patterns,targets)\n",
    "        test_accs.append(acc_test)\n",
    "        train_accs.append(acc_train)\n",
    "        #print(\"For epoch\",n,\"test acc is:\",acc_test)\n",
    "    printLearningCurve(train_accs,test_accs,epoch,\"epoch\",\"batch\")\n",
    "    print(\"Final test acc is: \",test_accs[epoch-1])\n",
    "    return W\n",
    "\n",
    "W=initWeights(3)\n",
    "W_batch = train_batch(patterns,targets,W,20)\n",
    "print(W_batch)\n",
    "print(test(W_batch,test_patterns,test_targets)) "
   ]
  },
  {
   "cell_type": "code",
   "execution_count": 15,
   "metadata": {
    "scrolled": true
   },
   "outputs": [
    {
     "data": {
      "image/png": "[encoded data removed]",
      "text/plain": [
       "<Figure size 432x288 with 1 Axes>"
      ]
     },
     "metadata": {
      "needs_background": "light"
     },
     "output_type": "display_data"
    },
    {
     "name": "stdout",
     "output_type": "stream",
     "text": [
      "Final test acc is:  0.775\n",
      "[0.01057527 0.01086261 0.00539063]\n"
     ]
    }
   ],
   "source": [
    "def trainPerc_seq(patterns, targets, W, epochs):\n",
    "    train_accs=[]\n",
    "    test_accs=[]\n",
    "    \n",
    "    eta = 0.00001\n",
    "    for i in range(epochs):\n",
    "        counter = 0\n",
    "        for j in range(len(patterns)):\n",
    "            prediction = np.dot(patterns[j],W) #w*X\n",
    "            if not (prediction<0)==(targets[j]<0):\n",
    "                counter = counter + 1\n",
    "                error = targets[i]-prediction\n",
    "                delta_w = eta*np.dot(error,np.transpose(patterns[j]))\n",
    "                W = np.add(W, delta_w)\n",
    "                \n",
    "            acc_test = test(W,test_patterns,test_targets)\n",
    "            acc_train = test(W,patterns,targets)\n",
    "            test_accs.append(acc_test)\n",
    "            train_accs.append(acc_train)\n",
    "        #print(\"For epoch\",i,\"acc is:\",acc_test,\"Missprediction in training\",counter)\n",
    "    printLearningCurve(train_accs,test_accs,(targets.size*epochs),\"iteration\",\"sequential\",\"perceptron\")\n",
    "    print(\"Final test acc is: \",test_accs[targets.size*epochs-1])\n",
    "    return W\n",
    "\n",
    "W=initWeights(3)\n",
    "W_perc_seq = trainPerc_seq(patterns,targets,W,20)\n",
    "print(W_perc_seq)"
   ]
  },
  {
   "cell_type": "code",
   "execution_count": 16,
   "metadata": {
    "scrolled": true
   },
   "outputs": [
    {
     "data": {
      "image/png": "[encoded data removed]",
      "text/plain": [
       "<Figure size 432x288 with 1 Axes>"
      ]
     },
     "metadata": {
      "needs_background": "light"
     },
     "output_type": "display_data"
    },
    {
     "name": "stdout",
     "output_type": "stream",
     "text": [
      "Final test acc is:  0.995\n",
      "[0.00126642 0.003204   0.00663592]\n"
     ]
    }
   ],
   "source": [
    "def trainPerc_batch(patterns, targets, W, epochs):\n",
    "    train_accs=[]\n",
    "    test_accs=[]\n",
    "    \n",
    "    eta=0.000001\n",
    "    for i in range(epochs):\n",
    "        counter = 0\n",
    "        delta_w = 0\n",
    "        for j in range(len(patterns)):\n",
    "            prediction = np.dot(patterns[j],W) #w*X\n",
    "            if not (prediction<0)==(targets[j]<0):\n",
    "                counter += 1\n",
    "                error = targets[i]-prediction\n",
    "                delta_w += eta*np.dot(error,np.transpose(patterns[j]))\n",
    "        \n",
    "        delta_w = delta_w\n",
    "        W = np.add(W, delta_w)\n",
    "        acc_test = test(W,test_patterns,test_targets)\n",
    "        acc_train = test(W,patterns,targets)\n",
    "        test_accs.append(acc_test)\n",
    "        train_accs.append(acc_train)\n",
    "        #print(\"For epoch\",i,\"acc is:\",acc_test,\"Missprediction in training\",counter)\n",
    "    printLearningCurve(train_accs,test_accs,epochs,\"epoch\",\"batch\",\"perceptron\")\n",
    "    print(\"Final test acc is: \",test_accs[epochs-1])\n",
    "    return W\n",
    "\n",
    "W=initWeights(3)\n",
    "W_perc_batch = trainPerc_batch(patterns,targets,W,20)\n",
    "print(W_perc_batch)"
   ]
  },
  {
   "cell_type": "code",
   "execution_count": null,
   "metadata": {
    "scrolled": false
   },
   "outputs": [],
   "source": [
    "\n"
   ]
  },
  {
   "cell_type": "code",
   "execution_count": null,
   "metadata": {
    "collapsed": true,
    "scrolled": false
   },
   "outputs": [],
   "source": []
  },
  {
   "cell_type": "code",
   "execution_count": null,
   "metadata": {
    "collapsed": true
   },
   "outputs": [],
   "source": []
  },
  {
   "cell_type": "code",
   "execution_count": null,
   "metadata": {
    "collapsed": true
   },
   "outputs": [],
   "source": []
  },
  {
   "cell_type": "code",
   "execution_count": null,
   "metadata": {
    "collapsed": true
   },
   "outputs": [],
   "source": []
  }
 ],
 "metadata": {
  "kernelspec": {
   "display_name": "Python 3",
   "language": "python",
   "name": "python3"
  },
  "language_info": {
   "codemirror_mode": {
    "name": "ipython",
    "version": 3
   },
   "file_extension": ".py",
   "mimetype": "text/x-python",
   "name": "python",
   "nbconvert_exporter": "python",
   "pygments_lexer": "ipython3",
   "version": "3.7.0"
  }
 },
 "nbformat": 4,
 "nbformat_minor": 2
}
