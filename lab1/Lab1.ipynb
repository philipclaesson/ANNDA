{
 "cells": [
  {
   "cell_type": "code",
   "execution_count": 171,
   "metadata": {},
   "outputs": [
    {
     "name": "stdout",
     "output_type": "stream",
     "text": [
      "Tjena Nerds\n"
     ]
    }
   ],
   "source": [
    "print(\"Tjena Nerds\")\n",
    "import numpy as np\n",
    "import matplotlib.pyplot as plt\n"
   ]
  },
  {
   "cell_type": "code",
   "execution_count": 186,
   "metadata": {
    "collapsed": true
   },
   "outputs": [],
   "source": [
    "# Parameters\n",
    "lr = 0.01\n",
    "epochs = 20"
   ]
  },
  {
   "cell_type": "code",
   "execution_count": 179,
   "metadata": {},
   "outputs": [
    {
     "data": {
      "text/plain": [
       "array([[-0.83371506, -0.50644034, -0.96506248, -0.7869364 , -0.90001479,\n",
       "        -0.70619426, -0.89623858, -0.96891926, -0.53725739, -0.75932814,\n",
       "        -0.87809165, -0.66443743, -0.77683437, -0.97843377, -0.78021581,\n",
       "        -0.67729055, -0.89550376, -0.58274797, -0.97611838, -0.95352497,\n",
       "        -0.87582822, -0.97809954, -0.73374653, -0.68273263, -0.80682595,\n",
       "        -0.9853595 , -0.99463662, -0.59625396, -0.63988054, -0.88967064,\n",
       "        -0.66442579, -0.92567673, -0.5549656 , -0.86151998, -0.88683958,\n",
       "        -0.94873376, -0.84914701, -0.77241747, -0.870399  , -0.63631034,\n",
       "        -0.53833293, -0.89989438, -0.53731515, -0.76436044, -0.94981542,\n",
       "        -0.59663122, -0.55474288, -0.9574252 , -0.73038986, -0.62414019,\n",
       "        -0.53690542, -0.82436216, -0.70555401, -0.64901104, -0.81891261,\n",
       "        -0.85365279, -0.87457578, -0.55483348, -0.51695295, -0.9044124 ,\n",
       "        -0.72744615, -0.75620751, -0.92623488, -0.89568054, -0.63720432,\n",
       "        -0.82211249, -0.50729142, -0.84920026, -0.95040441, -0.69235613,\n",
       "        -0.93967141, -0.72549573, -0.65319231, -0.80263859, -0.70302049,\n",
       "        -0.87157893, -0.99621904, -0.61784086, -0.69873335, -0.64303926,\n",
       "        -0.7759141 , -0.77663802, -0.91076161, -0.59588757, -0.50142082,\n",
       "        -0.50391165, -0.96963025, -0.7249964 , -0.5374406 , -0.78032038,\n",
       "        -0.75484204, -0.97301348, -0.72200304, -0.92584711, -0.88989986,\n",
       "        -0.84203654, -0.62255225, -0.92152245, -0.74519606, -0.5251963 ],\n",
       "       [ 0.76956307,  0.77582146,  0.96890569,  0.65061421,  0.70253149,\n",
       "         0.88072083,  0.72761653,  0.82029554,  0.61599308,  0.86408295,\n",
       "         0.59309364,  0.64955283,  0.67848668,  0.62493164,  0.89424227,\n",
       "         0.72802815,  0.76155122,  0.52264113,  0.78942557,  0.8800154 ,\n",
       "         0.75635844,  0.89682493,  0.63365224,  0.68295293,  0.8586261 ,\n",
       "         0.69506622,  0.56987025,  0.58332138,  0.66090908,  0.56366044,\n",
       "         0.57091575,  0.93826809,  0.51860392,  0.84043536,  0.60574787,\n",
       "         0.94327445,  0.59374153,  0.59387967,  0.8552326 ,  0.8466322 ,\n",
       "         0.90103524,  0.75727219,  0.89648446,  0.82035315,  0.6247497 ,\n",
       "         0.9391676 ,  0.65816275,  0.74321128,  0.78365451,  0.7842    ,\n",
       "         0.50993226,  0.87103436,  0.58562352,  0.56856631,  0.70073625,\n",
       "         0.87246202,  0.79612021,  0.76327791,  0.90922463,  0.77349476,\n",
       "         0.93069533,  0.52398139,  0.85934372,  0.97344341,  0.50902388,\n",
       "         0.50156398,  0.77961493,  0.53223201,  0.71314538,  0.73973476,\n",
       "         0.85800615,  0.50319931,  0.66779202,  0.57855684,  0.96561641,\n",
       "         0.7242055 ,  0.70337654,  0.76362525,  0.5366661 ,  0.7110329 ,\n",
       "         0.815289  ,  0.93647806,  0.64920682,  0.54781844,  0.98922508,\n",
       "         0.90210188,  0.60885173,  0.599749  ,  0.74275891,  0.71028238,\n",
       "         0.92521467,  0.7333088 ,  0.7800634 ,  0.61132359,  0.97860063,\n",
       "         0.82847159,  0.62628981,  0.7601954 ,  0.83741656,  0.85102172]])"
      ]
     },
     "execution_count": 179,
     "metadata": {},
     "output_type": "execute_result"
    }
   ],
   "source": [
    "# Generate Input Data\n",
    "\n",
    "n = 100\n",
    "mA = [1, 0]\n",
    "mB = [-1, 0.5]\n",
    "\n",
    "sigmaA = 0.5\n",
    "sigmaB = 0.5\n",
    "\n",
    "classA = np.zeros((2, 100))\n",
    "\n",
    "classA[0, :] = np.random.rand(1, 100) * sigmaA + mA[0]\n",
    "\n",
    "classA[1, :] = np.random.rand(1, 100) * sigmaA + mA[1]\n",
    "\n",
    "classB = np.zeros((2, 100))\n",
    "\n",
    "classB[0, :] = np.random.rand(1, 100) * sigmaB + mB[0]\n",
    "\n",
    "classB[1, :] = np.random.rand(1, 100) * sigmaB + mB[1]\n",
    "\n",
    "classB"
   ]
  },
  {
   "cell_type": "code",
   "execution_count": 185,
   "metadata": {},
   "outputs": [
    {
     "data": {
      "image/png": "[encoded data removed]",
      "text/plain": [
       "<matplotlib.figure.Figure at 0x11bc53d68>"
      ]
     },
     "metadata": {},
     "output_type": "display_data"
    }
   ],
   "source": [
    "fig = plt.figure()\n",
    "ax = fig.add_subplot(211)\n",
    "ax.scatter(classA[0], classA[1], c = [\"red\"], marker = \"o\")\n",
    "ax.set(title='A och B')\n",
    "\n",
    "ax.scatter(classB[0], classB[1], c = [\"blue\"], marker = \"o\")\n",
    "plt.show()"
   ]
  },
  {
   "cell_type": "code",
   "execution_count": 145,
   "metadata": {},
   "outputs": [],
   "source": [
    "T "
   ]
  },
  {
   "cell_type": "code",
   "execution_count": 146,
   "metadata": {},
   "outputs": [
    {
     "data": {
      "text/plain": [
       "array([[ 0.20725962,  0.63510742,  0.39932748]])"
      ]
     },
     "execution_count": 146,
     "metadata": {},
     "output_type": "execute_result"
    }
   ],
   "source": [
    "# Weights: random with 0 mean. \n",
    "W = np.random.rand(1,3) * 2 -1\n",
    "# W = np.matrix([3/2, 1, -2])\n",
    "W"
   ]
  },
  {
   "cell_type": "code",
   "execution_count": null,
   "metadata": {},
   "outputs": [],
   "source": []
  },
  {
   "cell_type": "code",
   "execution_count": 147,
   "metadata": {},
   "outputs": [],
   "source": [
    "for i in range(epochs):\n",
    "    # Compute Delta\n",
    "    deltaW = -1 * lr * np.dot((np.sign(np.dot(W, X)) - T), X.T)\n",
    "\n",
    "    # Update W\n",
    "    W = W + deltaW\n",
    "    \n",
    "    "
   ]
  },
  {
   "cell_type": "code",
   "execution_count": 148,
   "metadata": {},
   "outputs": [
    {
     "data": {
      "text/plain": [
       "matrix([[-1., -1., -1.,  1.]])"
      ]
     },
     "execution_count": 148,
     "metadata": {},
     "output_type": "execute_result"
    }
   ],
   "source": [
    "# Trained perceptron output\n",
    "np.sign(np.dot(W, X))"
   ]
  },
  {
   "cell_type": "code",
   "execution_count": null,
   "metadata": {
    "collapsed": true
   },
   "outputs": [],
   "source": []
  }
 ],
 "metadata": {
  "kernelspec": {
   "display_name": "Python 3",
   "language": "python",
   "name": "python3"
  },
  "language_info": {
   "codemirror_mode": {
    "name": "ipython",
    "version": 3
   },
   "file_extension": ".py",
   "mimetype": "text/x-python",
   "name": "python",
   "nbconvert_exporter": "python",
   "pygments_lexer": "ipython3",
   "version": "3.6.2"
  }
 },
 "nbformat": 4,
 "nbformat_minor": 2
}
