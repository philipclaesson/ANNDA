{
 "cells": [
  {
   "cell_type": "code",
   "execution_count": 1,
   "metadata": {},
   "outputs": [],
   "source": [
    "import numpy as np\n",
    "import matplotlib.pyplot as plt\n",
    "import pylab as pl\n",
    "from IPython import display\n",
    "import time"
   ]
  },
  {
   "cell_type": "code",
   "execution_count": 2,
   "metadata": {},
   "outputs": [],
   "source": [
    "# Parameters\n",
    "lr = 0.001\n",
    "epochs = 20"
   ]
  },
  {
   "cell_type": "code",
   "execution_count": 3,
   "metadata": {
    "scrolled": true
   },
   "outputs": [],
   "source": [
    "# Generate Input Data\n",
    "\n",
    "n = 200\n",
    "mA = [1, 5]\n",
    "mB = [-2, -5]\n",
    "\n",
    "# No solution without bias\n",
    "#mA = [1, 1]\n",
    "#mB = [3, 3]\n",
    "\n",
    "\n",
    "sigmaA = 0.5\n",
    "sigmaB = 0.5\n",
    "\n",
    "#classA = np.ones((4, n)) #With bias\n",
    "classA = np.ones((3, n)) * (-1) #Without bias\n",
    "\n",
    "\n",
    "classA[0, :] = np.random.rand(1, n) * sigmaA + mA[0]\n",
    "\n",
    "classA[1, :] = np.random.rand(1, n) * sigmaA + mA[1]\n",
    "\n",
    "#classB = np.ones((4, n)) * (-1) #With bias\n",
    "classB = np.ones((3, n)) * (-1) #Without bias\n",
    "\n",
    "classB[0, :] = np.random.rand(1, n) * sigmaB + mB[0]\n",
    "\n",
    "classB[1, :] = np.random.rand(1, n) * sigmaB + mB[1]\n"
   ]
  },
  {
   "cell_type": "code",
   "execution_count": 4,
   "metadata": {},
   "outputs": [],
   "source": [
    "# Add bias\n",
    "#ones_vector = np.ones(n)\n",
    "\n",
    "#classA[2] = ones_vector\n",
    "#classB[2] = ones_vector\n"
   ]
  },
  {
   "cell_type": "code",
   "execution_count": 5,
   "metadata": {},
   "outputs": [],
   "source": [
    "# Create shuffled dataset\n",
    "X = np.concatenate((classA.T, classB.T))\n",
    "X = X.T\n",
    "np.random.shuffle(X.T)\n",
    "X_train = X[:, :n]\n",
    "X_test = X[:, n:]"
   ]
  },
  {
   "cell_type": "code",
   "execution_count": 6,
   "metadata": {},
   "outputs": [
    {
     "data": {
      "text/plain": [
       "(3, 200)"
      ]
     },
     "execution_count": 6,
     "metadata": {},
     "output_type": "execute_result"
    }
   ],
   "source": [
    "np.shape(X_train)\n",
    "\n",
    "#np.shape(X_test)"
   ]
  },
  {
   "cell_type": "code",
   "execution_count": 7,
   "metadata": {},
   "outputs": [
    {
     "data": {
      "image/png": "[encoded data removed]",
      "text/plain": [
       "<Figure size 432x288 with 1 Axes>"
      ]
     },
     "metadata": {
      "needs_background": "light"
     },
     "output_type": "display_data"
    }
   ],
   "source": [
    "# Plot dataset\n",
    "fig = plt.figure()\n",
    "ax = fig.add_subplot(211)\n",
    "ax.scatter(X_train[0, :], X_train[1,:], c = [\"blue\"], marker = \"o\")\n",
    "#ax.scatter(X_test[0, :], X_test[1,:], c = [\"red\"], marker = \"o\")\n",
    "ax.set(title='A och B')\n",
    "#plt.plot(plt.randn(100))\n",
    "plt.show()"
   ]
  },
  {
   "cell_type": "code",
   "execution_count": 8,
   "metadata": {},
   "outputs": [],
   "source": [
    "# Weights: random with 0 mean. \n",
    "def init_W():\n",
    "    #np.random.seed(42)\n",
    "    w = []\n",
    "    for i in range(2):  #Without bias set range to 2\n",
    "        w.append(np.random.normal(0,0.1))\n",
    "    return w"
   ]
  },
  {
   "cell_type": "code",
   "execution_count": 9,
   "metadata": {},
   "outputs": [
    {
     "data": {
      "text/plain": [
       "[-0.06367656549949463, -0.10481338870627016]"
      ]
     },
     "execution_count": 9,
     "metadata": {},
     "output_type": "execute_result"
    }
   ],
   "source": [
    "w = init_W()\n",
    "w"
   ]
  },
  {
   "cell_type": "code",
   "execution_count": 10,
   "metadata": {},
   "outputs": [],
   "source": [
    "def accuracy(W, x, t):\n",
    "    predictions = []\n",
    "    correct = 0\n",
    "    \n",
    "    for i in range(len(t)):\n",
    "        pred = np.dot(W, x[:,i])\n",
    "        if pred > 0:\n",
    "            predictions.append(1.0)\n",
    "        else:\n",
    "            predictions.append(-1.0)\n",
    "\n",
    "    for i in range(len(predictions)):\n",
    "        if predictions[i]==t[i]:\n",
    "            correct+=1\n",
    "    return correct/len(t)"
   ]
  },
  {
   "cell_type": "code",
   "execution_count": 11,
   "metadata": {},
   "outputs": [],
   "source": [
    "def linear_eq(k, x, x0):\n",
    "    return k*x+x0[1]\n",
    "\n",
    "def linear_eq2(w1, w2, b, x):\n",
    "    return w1*x+w2*x+b\n",
    "\n",
    "def plot_decision_boundary(w):\n",
    "    # Find linear function\n",
    "    w1, w2, b = w[0], w[1], 0\n",
    "    x0 = (0, -b / w2)\n",
    "    y0 = (-b / w1, 0)    \n",
    "    k = -(b / w2) / (b / w1)\n",
    "    x = np.linspace(-20, 50, 100)\n",
    "    fx1 = linear_eq(k, x, x0)\n",
    "    fx2 = linear_eq2(w1, w2, b, x)\n",
    "    \n",
    "    \n",
    "    # Plot points and decision boundary\n",
    "    #fig = plt.figure()\n",
    "    #ax = plt.axes()\n",
    "    #ax.set_ylim([-1,2])\n",
    "    #ax.scatter(X[0][:200], X[1][:200], c = [\"blue\"], marker = \"o\")\n",
    "    #plt.plot(x, fx)\n",
    "    \n",
    "    #fig = plt.figure()\n",
    "    #ax1 = fig.add_subplot(111)\n",
    "    \n",
    "    #x = plt.axes()\n",
    "    #ax1.set_ylim([-1,2])\n",
    "    #ax1.set_xlim([-10,10])\n",
    "    #plt.scatter(X_train[0, :], X_train[1,:], c = [\"blue\"], marker = \"o\")\n",
    "    #plt.scatter(X_test[0, :], X_test[1,:], c = [\"red\"], marker = \"o\")\n",
    "    #pl.plot(fx1, label='medium')\n",
    "    \n",
    "    #pl.plot(fx2, label='direct')\n",
    "    #plt.legend()\n",
    "    #display.clear_output(wait=True)\n",
    "    #display.display(pl.gcf())\n",
    "    #time.sleep(0.001)\n",
    "    \n",
    "    plt.figure() # Create a new figure window\n",
    "    xlist = np.linspace(-10, 10, 100) # Create 1-D arrays for x,y dimensions\n",
    "    ylist = np.linspace(-10, 10, 100) \n",
    "    X,Y = np.meshgrid(xlist, ylist) # Create 2-D grid xlist,ylist values\n",
    "    F = X*w1 + Y*w2 + b\n",
    "    plt.scatter(X_train[0, :], X_train[1,:], c = [\"blue\"], marker = \"o\")\n",
    "    plt.contour(X, Y, F, [0], colors = 'k', linestyles = 'solid')\n",
    "    display.clear_output(wait=True)\n",
    "    display.display(pl.gcf())\n",
    "    time.sleep(0.001)\n",
    "    \n",
    "    plt.show()"
   ]
  },
  {
   "cell_type": "code",
   "execution_count": 12,
   "metadata": {},
   "outputs": [
    {
     "data": {
      "image/png": "[encoded data removed]",
      "text/plain": [
       "<Figure size 432x288 with 1 Axes>"
      ]
     },
     "metadata": {},
     "output_type": "display_data"
    },
    {
     "data": {
      "image/png": "[encoded data removed]",
      "text/plain": [
       "<Figure size 432x288 with 1 Axes>"
      ]
     },
     "metadata": {
      "needs_background": "light"
     },
     "output_type": "display_data"
    },
    {
     "name": "stdout",
     "output_type": "stream",
     "text": [
      "W init: [0.09120819369605343, 0.009254342889426044]\n",
      "W: [1.20989042e+11 4.02934393e+11]\n"
     ]
    },
    {
     "data": {
      "image/png": "[encoded data removed]",
      "text/plain": [
       "<Figure size 432x288 with 1 Axes>"
      ]
     },
     "metadata": {
      "needs_background": "light"
     },
     "output_type": "display_data"
    }
   ],
   "source": [
    "# Delta learning rule\n",
    "W_init = init_W()\n",
    "W = W_init\n",
    "targets = X_train[-1,:]\n",
    "input_points = X_train[:-1,:]\n",
    "\n",
    "train_accs = []\n",
    "test_accs = []\n",
    "\n",
    "for e in range(epochs):\n",
    "    epsilon = 0\n",
    "    deltaW = 0\n",
    "\n",
    "    for i in range(len(targets)):\n",
    "        Wx = np.dot(W, input_points[:,i])\n",
    "        epsilon = Wx - targets[i]\n",
    "\n",
    "        # Compute Delta\n",
    "        deltaW += -lr*np.dot(epsilon, np.transpose(input_points[:,i]))\n",
    "    \n",
    "    # Update W\n",
    "    W = np.add(W,deltaW)\n",
    "    print(\"deltaW:\", deltaW)\n",
    "    #print(\"W:\", W)\n",
    "    # Calculate accuracy for train and test\n",
    "    train_accuracy = accuracy(W, X_train[:-1,:], X_train[-1,:])\n",
    "    test_accuracy = accuracy(W, X_test[:-1,:], X_test[-1,:])\n",
    "    \n",
    "    train_accs.append(train_accuracy)\n",
    "    test_accs.append(test_accuracy)\n",
    "    \n",
    "    plot_decision_boundary(W)\n",
    "print('W init:', W_init)\n",
    "print('W:', W)\n",
    "#plot_decision_boundary(W)\n",
    "plt.ylim(ymax=1.2, ymin= 0)\n",
    "plt.plot(train_accs, label='training_acc')\n",
    "plt.plot(test_accs, label='test_acc')\n",
    "plt.legend()\n",
    "plt.show()"
   ]
  },
  {
   "cell_type": "code",
   "execution_count": null,
   "metadata": {},
   "outputs": [],
   "source": [
    "test_accs[-1]"
   ]
  },
  {
   "cell_type": "code",
   "execution_count": null,
   "metadata": {},
   "outputs": [],
   "source": [
    "a = accuracy(W, X_train[:-1,:], X_train[-1,:])\n",
    "a"
   ]
  },
  {
   "cell_type": "code",
   "execution_count": null,
   "metadata": {},
   "outputs": [],
   "source": [
    "#Perceptron learning rule\n",
    "W = init_W()\n",
    "\n",
    "train_accs = []\n",
    "test_accs = []\n",
    "\n",
    "for e in range(epochs):\n",
    "    epsilon = 0\n",
    "    deltaW = 0\n",
    "\n",
    "    for i in range(len(targets)):\n",
    "        Wx = np.dot(W, input_points[:,i])\n",
    "        if Wx > 0:\n",
    "            Wx = 1\n",
    "        else:\n",
    "            Wx = -1\n",
    "        \n",
    "        epsilon = Wx - targets[i]\n",
    "\n",
    "        # Compute Delta\n",
    "        deltaW += -lr*np.dot(epsilon, np.transpose(input_points[:,i]))\n",
    "    \n",
    "    # Update W\n",
    "    W += deltaW\n",
    "    \n",
    "    # Calculate accuracy for train and test\n",
    "    train_accuracy = accuracy(W, X_train[:-1,:], X_train[-1,:])\n",
    "    test_accuracy = accuracy(W, X_test[:-1,:], X_test[-1,:])\n",
    "    \n",
    "    train_accs.append(train_accuracy)\n",
    "    test_accs.append(test_accuracy)\n",
    "    \n",
    "    plot_decision_boundary(W)\n",
    "print('W:', W)  \n",
    "plt.ylim(ymax=1.2, ymin= 0)\n",
    "plt.plot(train_accs, label='training_acc')\n",
    "plt.plot(test_accs, label='test_acc')\n",
    "plt.legend()\n",
    "plt.show()"
   ]
  },
  {
   "cell_type": "code",
   "execution_count": null,
   "metadata": {},
   "outputs": [],
   "source": [
    "test_accs[-1]"
   ]
  },
  {
   "cell_type": "code",
   "execution_count": null,
   "metadata": {},
   "outputs": [],
   "source": [
    "#Sequential Delta rule\n",
    "\n",
    "W = init_W()\n",
    "print('W init:', W)\n",
    "targets = X_train[-1,:]\n",
    "input_points = X_train[:-1,:]\n",
    "\n",
    "train_accs = []\n",
    "test_accs = []\n",
    "\n",
    "epsilon = 0\n",
    "deltaW = 0\n",
    "\n",
    "for i in range(len(targets)):\n",
    "    Wx = np.dot(W, input_points[:,i])\n",
    "    epsilon = Wx - targets[i]\n",
    "\n",
    "    # Compute Delta\n",
    "    deltaW += -lr*np.dot(epsilon, np.transpose(input_points[:,i]))\n",
    "    \n",
    "    # Update W\n",
    "    W += deltaW\n",
    "    \n",
    "    # Calculate accuracy for train and test\n",
    "    train_accuracy = accuracy(W, X_train[:-1,:], X_train[-1,:])\n",
    "    test_accuracy = accuracy(W, X_test[:-1,:], X_test[-1,:])\n",
    "    \n",
    "    train_accs.append(train_accuracy)\n",
    "    test_accs.append(test_accuracy)\n",
    "    \n",
    "    plot_decision_boundary(W)\n",
    "print('W:', W)    \n",
    "plt.ylim(ymax=1.2, ymin= 0)\n",
    "plt.plot(train_accs, label='training_acc')\n",
    "plt.plot(test_accs, label='test_acc')\n",
    "plt.legend()\n",
    "plt.show()\n"
   ]
  },
  {
   "cell_type": "code",
   "execution_count": null,
   "metadata": {},
   "outputs": [],
   "source": []
  },
  {
   "cell_type": "code",
   "execution_count": null,
   "metadata": {},
   "outputs": [],
   "source": []
  }
 ],
 "metadata": {
  "kernelspec": {
   "display_name": "Python 3",
   "language": "python",
   "name": "python3"
  },
  "language_info": {
   "codemirror_mode": {
    "name": "ipython",
    "version": 3
   },
   "file_extension": ".py",
   "mimetype": "text/x-python",
   "name": "python",
   "nbconvert_exporter": "python",
   "pygments_lexer": "ipython3",
   "version": "3.7.0"
  }
 },
 "nbformat": 4,
 "nbformat_minor": 2
}
