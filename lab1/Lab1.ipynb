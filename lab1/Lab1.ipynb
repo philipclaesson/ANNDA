{
 "cells": [
  {
   "cell_type": "code",
   "execution_count": 1,
   "metadata": {},
   "outputs": [],
   "source": [
    "import numpy as np\n",
    "import matplotlib.pyplot as plt\n"
   ]
  },
  {
   "cell_type": "code",
   "execution_count": 2,
   "metadata": {},
   "outputs": [],
   "source": [
    "# Parameters\n",
    "lr = 0.0001\n",
    "epochs = 20"
   ]
  },
  {
   "cell_type": "code",
   "execution_count": 3,
   "metadata": {
    "scrolled": true
   },
   "outputs": [],
   "source": [
    "# Generate Input Data\n",
    "\n",
    "n = 400\n",
    "mA = [1, 0]\n",
    "mB = [-1, 0.5]\n",
    "\n",
    "sigmaA = 0.5\n",
    "sigmaB = 0.5\n",
    "\n",
    "classA = np.ones((4, n))\n",
    "\n",
    "classA[0, :] = np.random.rand(1, n) * sigmaA + mA[0]\n",
    "\n",
    "classA[1, :] = np.random.rand(1, n) * sigmaA + mA[1]\n",
    "\n",
    "classB = np.zeros((4, n))\n",
    "\n",
    "classB[0, :] = np.random.rand(1, n) * sigmaB + mB[0]\n",
    "\n",
    "classB[1, :] = np.random.rand(1, n) * sigmaB + mB[1]\n"
   ]
  },
  {
   "cell_type": "code",
   "execution_count": 4,
   "metadata": {},
   "outputs": [],
   "source": [
    "# Add bias\n",
    "ones_vector = np.ones(n)\n",
    "\n",
    "classA[2] = ones_vector\n",
    "classB[2] = ones_vector\n"
   ]
  },
  {
   "cell_type": "code",
   "execution_count": 5,
   "metadata": {},
   "outputs": [],
   "source": [
    "# Create shuffled dataset\n",
    "X = np.concatenate((classA.T, classB.T))\n",
    "X = X.T\n",
    "np.random.shuffle(X.T)\n",
    "X_train = X[:, :n]\n",
    "X_test = X[:, n:]"
   ]
  },
  {
   "cell_type": "code",
   "execution_count": 6,
   "metadata": {},
   "outputs": [
    {
     "data": {
      "image/png": "[encoded data removed]",
      "text/plain": [
       "<Figure size 432x288 with 1 Axes>"
      ]
     },
     "metadata": {
      "needs_background": "light"
     },
     "output_type": "display_data"
    }
   ],
   "source": [
    "# Plot dataset\n",
    "fig = plt.figure()\n",
    "ax = fig.add_subplot(211)\n",
    "ax.scatter(X_train[0, :], X_train[1,:], c = [\"blue\"], marker = \"o\")\n",
    "ax.set(title='A och B')\n",
    "plt.show()"
   ]
  },
  {
   "cell_type": "code",
   "execution_count": 25,
   "metadata": {},
   "outputs": [],
   "source": [
    "# Weights: random with 0 mean. \n",
    "def init_W():\n",
    "    #np.random.seed(42)\n",
    "    w = []\n",
    "    for i in range(3):\n",
    "        w.append(np.random.normal(0.5,0.01))\n",
    "    return w"
   ]
  },
  {
   "cell_type": "code",
   "execution_count": 8,
   "metadata": {},
   "outputs": [
    {
     "data": {
      "text/plain": [
       "-0.27830063711063197"
      ]
     },
     "execution_count": 8,
     "metadata": {},
     "output_type": "execute_result"
    }
   ],
   "source": [
    "r = np.random.normal()\n",
    "r"
   ]
  },
  {
   "cell_type": "code",
   "execution_count": 9,
   "metadata": {},
   "outputs": [],
   "source": [
    "def accuracy(W, x, t):\n",
    "    predictions = []\n",
    "    correct = 0\n",
    "    \n",
    "    for i in range(len(t)):\n",
    "        pred = np.dot(W, x[:,i])\n",
    "        if pred > 0.5:\n",
    "            predictions.append(1.0)\n",
    "        else:\n",
    "            predictions.append(0.0)\n",
    "\n",
    "    for i in range(len(predictions)):\n",
    "        if predictions[i]==t[i]:\n",
    "            correct+=1\n",
    "    return correct/len(t)"
   ]
  },
  {
   "cell_type": "code",
   "execution_count": 10,
   "metadata": {},
   "outputs": [],
   "source": [
    "def linear_eq(k, x, x0):\n",
    "    return k*x+x0[1]\n",
    "\n",
    "def plot_decision_boundary(w):\n",
    "    # Find linear function\n",
    "    w1, w2, b = w[0], w[1], w[2]\n",
    "    x0 = (0, -b / w2)\n",
    "    y0 = (-b / w1, 0)    \n",
    "    k = -(b / w2) / (b / w1)\n",
    "    x = np.linspace(-2, 2, 100)\n",
    "    fx = linear_eq(k, x, x0)\n",
    "    \n",
    "    # Plot points and decision boundary\n",
    "    #fig = plt.figure()\n",
    "    #ax = plt.axes()\n",
    "    #ax.set_ylim([-1,2])\n",
    "    #ax.scatter(X[0][:200], X[1][:200], c = [\"blue\"], marker = \"o\")\n",
    "    plt.plot(x, fx)\n",
    "    \n",
    "    plt.show()\n",
    "    plt.pause(0.0001)"
   ]
  },
  {
   "cell_type": "code",
   "execution_count": 11,
   "metadata": {},
   "outputs": [
    {
     "data": {
      "image/png": "[encoded data removed]",
      "text/plain": [
       "<Figure size 432x288 with 1 Axes>"
      ]
     },
     "metadata": {
      "needs_background": "light"
     },
     "output_type": "display_data"
    }
   ],
   "source": [
    "plot_decision_boundary([1, 2, 1])"
   ]
  },
  {
   "cell_type": "code",
   "execution_count": 35,
   "metadata": {},
   "outputs": [
    {
     "name": "stdout",
     "output_type": "stream",
     "text": [
      "W init: [0.49614917719583684, 0.4932307799969404, 0.5061167628884087]\n",
      "W: [0.52629215 0.36821498 0.31507096]\n"
     ]
    },
    {
     "data": {
      "image/png": "[encoded data removed]",
      "text/plain": [
       "<Figure size 432x288 with 1 Axes>"
      ]
     },
     "metadata": {
      "needs_background": "light"
     },
     "output_type": "display_data"
    }
   ],
   "source": [
    "# Delta rule\n",
    "W = init_W()\n",
    "print('W init:', W)\n",
    "targets = X_train[3,:]\n",
    "input_points = X_train[:3,:]\n",
    "\n",
    "train_accs = []\n",
    "test_accs = []\n",
    "\n",
    "for e in range(epochs):\n",
    "    epsilon = 0\n",
    "    deltaW = 0\n",
    "\n",
    "    for i in range(len(targets)):\n",
    "        Wx = np.dot(W, input_points[:,i])\n",
    "        epsilon = Wx - targets[i]\n",
    "\n",
    "        # Compute Delta\n",
    "        deltaW += -lr*np.dot(epsilon, np.transpose(input_points[:,i]))\n",
    "    \n",
    "    # Update W\n",
    "    W += deltaW\n",
    "    \n",
    "    # Calculate accuracy for train and test\n",
    "    train_accuracy = accuracy(W, X_train[:3,:], X_train[3,:])\n",
    "    test_accuracy = accuracy(W, X_test[:3,:], X_test[3,:])\n",
    "    \n",
    "    train_accs.append(train_accuracy)\n",
    "    test_accs.append(test_accuracy)\n",
    "print('W:', W)    \n",
    "plt.plot(train_accs)\n",
    "plt.plot(test_accs)\n",
    "plt.show()"
   ]
  },
  {
   "cell_type": "code",
   "execution_count": 38,
   "metadata": {},
   "outputs": [
    {
     "data": {
      "text/plain": [
       "1.0"
      ]
     },
     "execution_count": 38,
     "metadata": {},
     "output_type": "execute_result"
    }
   ],
   "source": [
    "a = accuracy(W, X_train[:3,:], X_train[3,:])\n",
    "a"
   ]
  },
  {
   "cell_type": "code",
   "execution_count": 14,
   "metadata": {},
   "outputs": [
    {
     "data": {
      "text/plain": [
       "1.0"
      ]
     },
     "execution_count": 14,
     "metadata": {},
     "output_type": "execute_result"
    }
   ],
   "source": [
    "test_accs[epochs-1]"
   ]
  },
  {
   "cell_type": "code",
   "execution_count": null,
   "metadata": {},
   "outputs": [],
   "source": []
  },
  {
   "cell_type": "code",
   "execution_count": null,
   "metadata": {},
   "outputs": [],
   "source": []
  }
 ],
 "metadata": {
  "kernelspec": {
   "display_name": "Python 3",
   "language": "python",
   "name": "python3"
  },
  "language_info": {
   "codemirror_mode": {
    "name": "ipython",
    "version": 3
   },
   "file_extension": ".py",
   "mimetype": "text/x-python",
   "name": "python",
   "nbconvert_exporter": "python",
   "pygments_lexer": "ipython3",
   "version": "3.7.0"
  }
 },
 "nbformat": 4,
 "nbformat_minor": 2
}
