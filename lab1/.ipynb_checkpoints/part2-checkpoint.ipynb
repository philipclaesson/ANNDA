{
 "cells": [
  {
   "cell_type": "code",
   "execution_count": 1,
   "metadata": {},
   "outputs": [],
   "source": [
    "import math\n",
    "import numpy as np\n",
    "import matplotlib.pyplot as plt\n",
    "import timeit\n",
    "from sklearn.metrics import mean_squared_error, zero_one_loss\n",
    "\n",
    "from sklearn.neural_network import MLPClassifier, MLPRegressor\n",
    "from sklearn import preprocessing"
   ]
  },
  {
   "cell_type": "code",
   "execution_count": 2,
   "metadata": {},
   "outputs": [],
   "source": [
    "def generate_data():\n",
    "    x = np.empty(1505)\n",
    "    y = np.empty(1505)\n",
    "\n",
    "    x[0]=1.5\n",
    "    y[0]=0\n",
    "\n",
    "    for i in range(1500):\n",
    "        if i<25:\n",
    "            x[i+1] = x[i] - 0.1*x[i]\n",
    "\n",
    "        else:\n",
    "            x[i+1] = x[i] + ((0.2*x[i-25])/(1+pow(x[i-25],10))) - 0.1*x[i]\n",
    "        y[i+1]=i\n",
    "    \n",
    "    inp=[]\n",
    "    out=[]\n",
    "    for i in range(300,1500):\n",
    "        inp.append([x[i-20], x[i-15], x[i-10], x[i-5], x[i]])\n",
    "        out.append(x[i+5])\n",
    "        \n",
    "    train_X = np.array(inp[0:1000])\n",
    "    train_y = np.array(out[0:1000])\n",
    "\n",
    "    val_X = np.array(inp[800:1000])\n",
    "    val_y = np.array(out[800:1000])\n",
    "\n",
    "    test_X = np.array(inp[1000:])\n",
    "    test_y = np.array(out[1000:])\n",
    "    \n",
    "    return (train_X, train_y, val_X, val_y, test_X, test_y, x, y)"
   ]
  },
  {
   "cell_type": "code",
   "execution_count": 3,
   "metadata": {},
   "outputs": [
    {
     "name": "stderr",
     "output_type": "stream",
     "text": [
      "/Library/Frameworks/Python.framework/Versions/3.7/lib/python3.7/site-packages/sklearn/neural_network/multilayer_perceptron.py:564: ConvergenceWarning: Stochastic Optimizer: Maximum iterations (200) reached and the optimization hasn't converged yet.\n",
      "  % self.max_iter, ConvergenceWarning)\n"
     ]
    },
    {
     "data": {
      "text/plain": [
       "[<matplotlib.lines.Line2D at 0x11fa60f60>]"
      ]
     },
     "execution_count": 3,
     "metadata": {},
     "output_type": "execute_result"
    },
    {
     "data": {
      "image/png": "[encoded data removed]",
      "text/plain": [
       "<Figure size 432x288 with 1 Axes>"
      ]
     },
     "metadata": {
      "needs_background": "light"
     },
     "output_type": "display_data"
    }
   ],
   "source": [
    "train_X, train_y, val_X, val_y, test_X, test_y, x, y = generate_data()\n",
    "train_X = train_X.astype('float')\n",
    "train_y = train_y.astype('float')\n",
    "train_X.reshape(-1, 1)\n",
    "train_y.reshape(-1, 1)\n",
    "test_X = train_X.astype('float')\n",
    "test_y = train_y.astype('float')\n",
    "test_X.reshape(-1, 1)\n",
    "test_y.reshape(-1, 1)\n",
    "\n",
    "mses = []\n",
    "for n in range(1, 9):\n",
    "    clf = MLPRegressor(solver='sgd', \n",
    "                        batch_size='auto', \n",
    "                        alpha=1e-5,\n",
    "                        hidden_layer_sizes=(n), \n",
    "                        random_state=1,\n",
    "                        early_stopping=True\n",
    "                       )\n",
    "    clf.fit(train_X, train_y)\n",
    "    pred = clf.predict(val_X)\n",
    "    mses.append(mean_squared_error(pred, val_y))\n",
    "\n",
    "#print(\"mse:\", mean_squared_error(pred, val_y))\n",
    "plt.plot(range(1, 9), mses)\n",
    "#print(\"x:\", train_X[400:420])\n",
    "#print(\"y:\", y[:20])\n",
    "#print(\"pred:\", pred[:10])\n",
    "#print(\"targets:\", test_y[:10])\n",
    "\n"
   ]
  },
  {
   "cell_type": "code",
   "execution_count": null,
   "metadata": {},
   "outputs": [],
   "source": []
  }
 ],
 "metadata": {
  "kernelspec": {
   "display_name": "Python 3",
   "language": "python",
   "name": "python3"
  },
  "language_info": {
   "codemirror_mode": {
    "name": "ipython",
    "version": 3
   },
   "file_extension": ".py",
   "mimetype": "text/x-python",
   "name": "python",
   "nbconvert_exporter": "python",
   "pygments_lexer": "ipython3",
   "version": "3.7.0"
  }
 },
 "nbformat": 4,
 "nbformat_minor": 2
}
