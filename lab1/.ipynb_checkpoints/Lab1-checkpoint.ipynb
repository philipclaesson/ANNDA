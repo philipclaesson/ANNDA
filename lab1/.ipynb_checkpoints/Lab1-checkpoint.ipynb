{
 "cells": [
  {
   "cell_type": "code",
   "execution_count": 17,
   "metadata": {},
   "outputs": [],
   "source": [
    "import numpy as np\n",
    "import matplotlib.pyplot as plt\n"
   ]
  },
  {
   "cell_type": "code",
   "execution_count": 18,
   "metadata": {},
   "outputs": [],
   "source": [
    "# Parameters\n",
    "lr = 0.0001\n",
    "epochs = 20"
   ]
  },
  {
   "cell_type": "code",
   "execution_count": 19,
   "metadata": {
    "scrolled": true
   },
   "outputs": [],
   "source": [
    "# Generate Input Data\n",
    "\n",
    "n = 400\n",
    "mA = [1, 0]\n",
    "mB = [-1, 0.5]\n",
    "\n",
    "sigmaA = 0.5\n",
    "sigmaB = 0.5\n",
    "\n",
    "classA = np.ones((4, n))\n",
    "\n",
    "classA[0, :] = np.random.rand(1, n) * sigmaA + mA[0]\n",
    "\n",
    "classA[1, :] = np.random.rand(1, n) * sigmaA + mA[1]\n",
    "\n",
    "classB = np.zeros((4, n))\n",
    "\n",
    "classB[0, :] = np.random.rand(1, n) * sigmaB + mB[0]\n",
    "\n",
    "classB[1, :] = np.random.rand(1, n) * sigmaB + mB[1]\n"
   ]
  },
  {
   "cell_type": "code",
   "execution_count": 20,
   "metadata": {},
   "outputs": [],
   "source": [
    "# Add bias\n",
    "ones_vector = np.ones(n)\n",
    "\n",
    "classA[2] = ones_vector\n",
    "classB[2] = ones_vector\n"
   ]
  },
  {
   "cell_type": "code",
   "execution_count": 21,
   "metadata": {},
   "outputs": [],
   "source": [
    "# Create shuffled dataset\n",
    "X = np.concatenate((classA.T, classB.T))\n",
    "X = X.T\n",
    "np.random.shuffle(X.T)\n",
    "X_train = X[:, :n]\n",
    "X_test = X[:, n:]"
   ]
  },
  {
   "cell_type": "code",
   "execution_count": 22,
   "metadata": {},
   "outputs": [
    {
     "data": {
      "image/png": "[encoded data removed]",
      "text/plain": [
       "<Figure size 432x288 with 1 Axes>"
      ]
     },
     "metadata": {
      "needs_background": "light"
     },
     "output_type": "display_data"
    }
   ],
   "source": [
    "# Plot dataset\n",
    "fig = plt.figure()\n",
    "ax = fig.add_subplot(211)\n",
    "ax.scatter(X_train[0, :], X_train[1,:], c = [\"blue\"], marker = \"o\")\n",
    "ax.set(title='A och B')\n",
    "plt.show()"
   ]
  },
  {
   "cell_type": "code",
   "execution_count": 23,
   "metadata": {},
   "outputs": [],
   "source": [
    "# Weights: random with 0 mean. \n",
    "def init_W():\n",
    "    W = np.random.rand(3) * 2 -1\n",
    "    return W"
   ]
  },
  {
   "cell_type": "code",
   "execution_count": 24,
   "metadata": {},
   "outputs": [],
   "source": [
    "def accuracy(W, x, t):\n",
    "    predictions = []\n",
    "    correct = 0\n",
    "    \n",
    "    for i in range(len(t)):\n",
    "        pred = np.dot(W, x[:,i])\n",
    "        if pred > 0.5:\n",
    "            predictions.append(1.0)\n",
    "        else:\n",
    "            predictions.append(0.0)\n",
    "\n",
    "    for i in range(len(predictions)):\n",
    "        if predictions[i]==t[i]:\n",
    "            correct+=1\n",
    "    return (correct, correct/len(t))"
   ]
  },
  {
   "cell_type": "code",
   "execution_count": 25,
   "metadata": {},
   "outputs": [],
   "source": [
    "def linear_eq(k, x, x0):\n",
    "    return k*x+x0[1]\n",
    "\n",
    "def plot_decision_boundary(w):\n",
    "    # Find linear function\n",
    "    w1, w2, b = w[0], w[1], w[2]\n",
    "    x0 = (0, -b / w2)\n",
    "    y0 = (-b / w1, 0)    \n",
    "    k = -(b / w2) / (b / w1)\n",
    "    x = np.linspace(-2, 2, 100)\n",
    "    fx = linear_eq(k, x, x0)\n",
    "    \n",
    "    # Plot points and decision boundary\n",
    "    #fig = plt.figure()\n",
    "    #ax = plt.axes()\n",
    "    #ax.set_ylim([-1,2])\n",
    "    #ax.scatter(X[0][:200], X[1][:200], c = [\"blue\"], marker = \"o\")\n",
    "    plt.plot(x, fx)\n",
    "    \n",
    "    plt.show()\n",
    "    plt.pause(0.0001)"
   ]
  },
  {
   "cell_type": "code",
   "execution_count": 26,
   "metadata": {},
   "outputs": [
    {
     "data": {
      "image/png": "[encoded data removed]",
      "text/plain": [
       "<Figure size 432x288 with 1 Axes>"
      ]
     },
     "metadata": {
      "needs_background": "light"
     },
     "output_type": "display_data"
    }
   ],
   "source": [
    "plot_decision_boundary([1, 2, 1])"
   ]
  },
  {
   "cell_type": "code",
   "execution_count": 27,
   "metadata": {},
   "outputs": [],
   "source": [
    "# Delta rule\n",
    "W = init_W()\n",
    "targets = X_train[3,:]\n",
    "input_points = X_train[:3,:]\n",
    "\n",
    "for e in range(epochs):\n",
    "    epsilon = 0\n",
    "    deltaW = 0\n",
    "\n",
    "    for i in range(len(targets)):\n",
    "        Wx = np.dot(W, input_points[:,i])\n",
    "        epsilon = Wx - targets[i]\n",
    "\n",
    "        # Compute Delta\n",
    "        deltaW += -lr*np.dot(epsilon, np.transpose(input_points[:,i]))\n",
    "    \n",
    "    #deltaW = deltaW/len(targets)\n",
    "    # Update W\n",
    "    W += deltaW\n"
   ]
  },
  {
   "cell_type": "code",
   "execution_count": 28,
   "metadata": {},
   "outputs": [
    {
     "data": {
      "text/plain": [
       "0.9625"
      ]
     },
     "execution_count": 28,
     "metadata": {},
     "output_type": "execute_result"
    }
   ],
   "source": [
    "c, a = accuracy(W, X_train[:3,:], X_train[3,:])\n",
    "a"
   ]
  },
  {
   "cell_type": "code",
   "execution_count": null,
   "metadata": {},
   "outputs": [],
   "source": [
    "X_train[3,9]"
   ]
  },
  {
   "cell_type": "code",
   "execution_count": null,
   "metadata": {},
   "outputs": [],
   "source": []
  }
 ],
 "metadata": {
  "kernelspec": {
   "display_name": "Python 3",
   "language": "python",
   "name": "python3"
  },
  "language_info": {
   "codemirror_mode": {
    "name": "ipython",
    "version": 3
   },
   "file_extension": ".py",
   "mimetype": "text/x-python",
   "name": "python",
   "nbconvert_exporter": "python",
   "pygments_lexer": "ipython3",
   "version": "3.7.0"
  }
 },
 "nbformat": 4,
 "nbformat_minor": 2
}
