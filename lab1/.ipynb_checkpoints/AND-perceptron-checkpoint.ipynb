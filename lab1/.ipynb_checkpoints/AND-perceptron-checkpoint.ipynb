{
 "cells": [
  {
   "cell_type": "code",
   "execution_count": 106,
   "metadata": {},
   "outputs": [
    {
     "name": "stdout",
     "output_type": "stream",
     "text": [
      "Tjena Nerds\n"
     ]
    }
   ],
   "source": [
    "print(\"Tjena Nerds\")\n",
    "import numpy as np"
   ]
  },
  {
   "cell_type": "code",
   "execution_count": 143,
   "metadata": {
    "collapsed": true
   },
   "outputs": [],
   "source": [
    "# Parameters\n",
    "lr = 0.01\n",
    "epochs = 100"
   ]
  },
  {
   "cell_type": "code",
   "execution_count": 144,
   "metadata": {},
   "outputs": [],
   "source": [
    "# Input Data\n",
    "XOR\n",
    "X = np.matrix([[-1, 1, -1, 1], [-1, -1, 1, 1], [1, 1, 1, 1]])\n",
    "\n",
    "# AND input\n",
    "# X = np.matrix([[-1, 1, -1, 1], [-1, -1, 1, 1], [1, 1, 1, 1]])"
   ]
  },
  {
   "cell_type": "code",
   "execution_count": 145,
   "metadata": {},
   "outputs": [],
   "source": [
    "# XOR\n",
    "T = np.matrix([-1, -1, -1, 1])\n",
    "\n",
    "# AND\n",
    "# T = np.matrix([-1, -1, -1, 1])"
   ]
  },
  {
   "cell_type": "code",
   "execution_count": 146,
   "metadata": {},
   "outputs": [
    {
     "data": {
      "text/plain": [
       "array([[ 0.20725962,  0.63510742,  0.39932748]])"
      ]
     },
     "execution_count": 146,
     "metadata": {},
     "output_type": "execute_result"
    }
   ],
   "source": [
    "# Weights: random with 0 mean. \n",
    "W = np.random.rand(1,3) * 2 -1\n",
    "# W = np.matrix([3/2, 1, -2])\n",
    "W"
   ]
  },
  {
   "cell_type": "code",
   "execution_count": null,
   "metadata": {},
   "outputs": [],
   "source": []
  },
  {
   "cell_type": "code",
   "execution_count": 147,
   "metadata": {},
   "outputs": [],
   "source": [
    "for i in range(epochs):\n",
    "    # Compute Delta\n",
    "    deltaW = -1 * lr * np.dot((np.sign(np.dot(W, X)) - T), X.T)\n",
    "\n",
    "    # Update W\n",
    "    W = W + deltaW"
   ]
  },
  {
   "cell_type": "code",
   "execution_count": 148,
   "metadata": {},
   "outputs": [
    {
     "data": {
      "text/plain": [
       "matrix([[-1., -1., -1.,  1.]])"
      ]
     },
     "execution_count": 148,
     "metadata": {},
     "output_type": "execute_result"
    }
   ],
   "source": [
    "# Trained perceptron output\n",
    "np.sign(np.dot(W, X))"
   ]
  },
  {
   "cell_type": "code",
   "execution_count": null,
   "metadata": {
    "collapsed": true
   },
   "outputs": [],
   "source": []
  }
 ],
 "metadata": {
  "kernelspec": {
   "display_name": "Python 3",
   "language": "python",
   "name": "python3"
  },
  "language_info": {
   "codemirror_mode": {
    "name": "ipython",
    "version": 3
   },
   "file_extension": ".py",
   "mimetype": "text/x-python",
   "name": "python",
   "nbconvert_exporter": "python",
   "pygments_lexer": "ipython3",
   "version": "3.6.2"
  }
 },
 "nbformat": 4,
 "nbformat_minor": 2
}
