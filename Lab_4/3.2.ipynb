{
 "cells": [
  {
   "cell_type": "code",
   "execution_count": 2,
   "metadata": {},
   "outputs": [
    {
     "name": "stderr",
     "output_type": "stream",
     "text": [
      "Using TensorFlow backend.\n"
     ]
    }
   ],
   "source": [
    "import numpy as np\n",
    "import math\n",
    "import matplotlib.pyplot as plt\n",
    "\n",
    "from sklearn.metrics import classification_report, accuracy_score\n",
    "from sklearn.neural_network import MLPClassifier, MLPRegressor\n",
    "from keras.layers import Input, Dense\n",
    "from keras.models import Model\n",
    "from keras.utils import to_categorical"
   ]
  },
  {
   "cell_type": "code",
   "execution_count": 3,
   "metadata": {},
   "outputs": [],
   "source": [
    "X_train = np.genfromtxt('binMNIST_data/bindigit_trn.csv', delimiter=',')\n",
    "X_test = np.genfromtxt('binMNIST_data/bindigit_tst.csv', delimiter=',')\n",
    "y_train = np.genfromtxt('binMNIST_data/targetdigit_trn.csv', delimiter=',')\n",
    "y_test = np.genfromtxt('binMNIST_data/targetdigit_tst.csv', delimiter=',')"
   ]
  },
  {
   "cell_type": "code",
   "execution_count": 4,
   "metadata": {},
   "outputs": [],
   "source": [
    "def plotWeights(weights):\n",
    "    n = weights.shape[0]  # how many digits we will display\n",
    "    l = weights.shape[1]\n",
    "    dim = int(math.sqrt(l))\n",
    "    \n",
    "    plt.figure(figsize=(20, 20))\n",
    "    for i in range(n):\n",
    "        # display weights\n",
    "        ax = plt.subplot(10, 10, i + 1)\n",
    "        plt.imshow(weights[i][:l].reshape(dim, dim))\n",
    "        #plt.gray()\n",
    "        ax.get_xaxis().set_visible(False)\n",
    "        ax.get_yaxis().set_visible(False)\n",
    "    plt.show()"
   ]
  },
  {
   "cell_type": "code",
   "execution_count": 5,
   "metadata": {},
   "outputs": [],
   "source": [
    "input_img = Input(shape=(784,))\n",
    "encoded1 = Dense(121, activation='relu')(input_img) #1st hidden layer\n",
    "encoded2 = Dense(81, activation='relu')(encoded1) #2nd hidden layer\n",
    "encoded3 = Dense(49, activation='relu')(encoded2) #3d hidden layer\n",
    "decoded1 = Dense(81, activation='relu')(encoded3)\n",
    "decoded2 = Dense(121, activation='relu')(decoded1)\n",
    "decoded3 = Dense(784, activation='sigmoid')(decoded2)\n",
    "\n",
    "autoencoder = Model(input_img,decoded3)\n",
    "\n",
    "autoencoder.compile(optimizer='adadelta', loss='mean_squared_error')"
   ]
  },
  {
   "cell_type": "code",
   "execution_count": 6,
   "metadata": {},
   "outputs": [
    {
     "data": {
      "text/plain": [
       "<keras.callbacks.History at 0x1323868d0>"
      ]
     },
     "execution_count": 6,
     "metadata": {},
     "output_type": "execute_result"
    }
   ],
   "source": [
    "autoencoder.fit(X_train,X_train,\n",
    "               epochs=20,\n",
    "               batch_size=64,\n",
    "               shuffle=True,\n",
    "               verbose=0,\n",
    "                validation_data=(X_test, X_test))"
   ]
  },
  {
   "cell_type": "code",
   "execution_count": 7,
   "metadata": {},
   "outputs": [],
   "source": [
    "y_train = to_categorical(y_train, num_classes=10)"
   ]
  },
  {
   "cell_type": "markdown",
   "metadata": {},
   "source": [
    "## 1 hidden layer"
   ]
  },
  {
   "cell_type": "code",
   "execution_count": 8,
   "metadata": {},
   "outputs": [],
   "source": [
    "#hidden1 = Dense(50, activation='relu')(encoded1)\n",
    "out1 = Dense(10, activation='sigmoid')(encoded1)\n",
    "classifier1 = Model(input_img,out1)\n",
    "classifier1.compile(optimizer='adadelta', loss='mean_squared_error')"
   ]
  },
  {
   "cell_type": "code",
   "execution_count": 9,
   "metadata": {},
   "outputs": [
    {
     "data": {
      "text/plain": [
       "<keras.callbacks.History at 0x13ab3ff60>"
      ]
     },
     "execution_count": 9,
     "metadata": {},
     "output_type": "execute_result"
    }
   ],
   "source": [
    "classifier1.fit(X_train,y_train,\n",
    "               epochs=50,\n",
    "               batch_size=64,\n",
    "               shuffle=True,\n",
    "               verbose=0)"
   ]
  },
  {
   "cell_type": "code",
   "execution_count": 10,
   "metadata": {},
   "outputs": [],
   "source": [
    "predictions1 = classifier1.predict(X_test)\n",
    "predictions1 = np.argmax(predictions1, axis=1)\n"
   ]
  },
  {
   "cell_type": "code",
   "execution_count": 11,
   "metadata": {},
   "outputs": [
    {
     "name": "stdout",
     "output_type": "stream",
     "text": [
      "Classification using one hidden layer:\n",
      "              precision    recall  f1-score   support\n",
      "\n",
      "         0.0       0.96      0.99      0.97       196\n",
      "         1.0       0.97      0.97      0.97       227\n",
      "         2.0       0.92      0.93      0.92       206\n",
      "         3.0       0.95      0.88      0.91       202\n",
      "         4.0       0.94      0.97      0.95       196\n",
      "         5.0       0.92      0.89      0.90       182\n",
      "         6.0       0.93      0.97      0.95       191\n",
      "         7.0       0.95      0.93      0.94       205\n",
      "         8.0       0.94      0.93      0.94       194\n",
      "         9.0       0.92      0.94      0.93       201\n",
      "\n",
      "   micro avg       0.94      0.94      0.94      2000\n",
      "   macro avg       0.94      0.94      0.94      2000\n",
      "weighted avg       0.94      0.94      0.94      2000\n",
      "\n",
      "\n",
      "Accuracy: 0.94\n",
      "\n",
      "\n"
     ]
    }
   ],
   "source": [
    "print(\"Classification using one hidden layer:\\n%s\\n\" %\n",
    "      classification_report(y_test,predictions1))\n",
    "\n",
    "print(\"Accuracy:\",accuracy_score(y_test,predictions1))\n",
    "print(\"\\n\")"
   ]
  },
  {
   "cell_type": "markdown",
   "metadata": {},
   "source": [
    "## 2 hidden layers"
   ]
  },
  {
   "cell_type": "code",
   "execution_count": 12,
   "metadata": {},
   "outputs": [],
   "source": [
    "#hidden2 = Dense(50, activation='relu')(encoded2)\n",
    "out2 = Dense(10, activation='sigmoid')(encoded2)\n",
    "classifier2 = Model(input_img,out2)\n",
    "classifier2.compile(optimizer='adadelta', loss='mean_squared_error')"
   ]
  },
  {
   "cell_type": "code",
   "execution_count": 13,
   "metadata": {},
   "outputs": [
    {
     "data": {
      "text/plain": [
       "<keras.callbacks.History at 0x132386400>"
      ]
     },
     "execution_count": 13,
     "metadata": {},
     "output_type": "execute_result"
    }
   ],
   "source": [
    "classifier2.fit(X_train,y_train,\n",
    "               epochs=50,\n",
    "               batch_size=64,\n",
    "               shuffle=True,\n",
    "               verbose=0)"
   ]
  },
  {
   "cell_type": "code",
   "execution_count": 14,
   "metadata": {},
   "outputs": [],
   "source": [
    "predictions2 = classifier2.predict(X_test)\n",
    "predictions2 = np.argmax(predictions2, axis=1)\n"
   ]
  },
  {
   "cell_type": "code",
   "execution_count": 14,
   "metadata": {},
   "outputs": [
    {
     "name": "stdout",
     "output_type": "stream",
     "text": [
      "Classification using two hidden layers:\n",
      "              precision    recall  f1-score   support\n",
      "\n",
      "         0.0       0.95      0.98      0.97       196\n",
      "         1.0       0.97      0.97      0.97       227\n",
      "         2.0       0.95      0.93      0.94       206\n",
      "         3.0       0.97      0.90      0.93       202\n",
      "         4.0       0.96      0.97      0.97       196\n",
      "         5.0       0.91      0.92      0.92       182\n",
      "         6.0       0.94      0.97      0.95       191\n",
      "         7.0       0.95      0.94      0.95       205\n",
      "         8.0       0.95      0.94      0.95       194\n",
      "         9.0       0.93      0.96      0.94       201\n",
      "\n",
      "   micro avg       0.95      0.95      0.95      2000\n",
      "   macro avg       0.95      0.95      0.95      2000\n",
      "weighted avg       0.95      0.95      0.95      2000\n",
      "\n",
      "\n",
      "Accuracy: 0.949\n",
      "\n",
      "\n"
     ]
    }
   ],
   "source": [
    "print(\"Classification using two hidden layers:\\n%s\\n\" %\n",
    "      classification_report(y_test,predictions2))\n",
    "\n",
    "print(\"Accuracy:\",accuracy_score(y_test,predictions2))\n",
    "print(\"\\n\")"
   ]
  },
  {
   "cell_type": "markdown",
   "metadata": {},
   "source": [
    "## 3 hidden layers"
   ]
  },
  {
   "cell_type": "code",
   "execution_count": 15,
   "metadata": {},
   "outputs": [],
   "source": [
    "#hidden3 = Dense(50, activation='relu')(encoded3)\n",
    "out3 = Dense(10, activation='sigmoid')(encoded3)\n",
    "classifier3 = Model(input_img,out3)\n",
    "classifier3.compile(optimizer='adadelta', loss='mean_squared_error')"
   ]
  },
  {
   "cell_type": "code",
   "execution_count": 16,
   "metadata": {},
   "outputs": [
    {
     "data": {
      "text/plain": [
       "<keras.callbacks.History at 0x133186a90>"
      ]
     },
     "execution_count": 16,
     "metadata": {},
     "output_type": "execute_result"
    }
   ],
   "source": [
    "classifier3.fit(X_train,y_train,\n",
    "               epochs=50,\n",
    "               batch_size=64,\n",
    "               shuffle=True,\n",
    "               verbose=0)"
   ]
  },
  {
   "cell_type": "code",
   "execution_count": 17,
   "metadata": {},
   "outputs": [],
   "source": [
    "predictions3 = classifier3.predict(X_test)\n",
    "predictions3 = np.argmax(predictions3, axis=1)\n"
   ]
  },
  {
   "cell_type": "code",
   "execution_count": 18,
   "metadata": {},
   "outputs": [
    {
     "name": "stdout",
     "output_type": "stream",
     "text": [
      "Classification using three hidden layers:\n",
      "              precision    recall  f1-score   support\n",
      "\n",
      "         0.0       0.96      0.99      0.97       196\n",
      "         1.0       0.97      0.98      0.98       227\n",
      "         2.0       0.96      0.93      0.95       206\n",
      "         3.0       0.96      0.90      0.93       202\n",
      "         4.0       0.96      0.97      0.97       196\n",
      "         5.0       0.93      0.90      0.92       182\n",
      "         6.0       0.94      0.97      0.96       191\n",
      "         7.0       0.95      0.96      0.95       205\n",
      "         8.0       0.93      0.94      0.93       194\n",
      "         9.0       0.93      0.97      0.95       201\n",
      "\n",
      "   micro avg       0.95      0.95      0.95      2000\n",
      "   macro avg       0.95      0.95      0.95      2000\n",
      "weighted avg       0.95      0.95      0.95      2000\n",
      "\n",
      "\n",
      "Accuracy: 0.9505\n",
      "\n",
      "\n"
     ]
    }
   ],
   "source": [
    "print(\"Classification using three hidden layers:\\n%s\\n\" %\n",
    "      classification_report(y_test,predictions3))\n",
    "\n",
    "print(\"Accuracy:\",accuracy_score(y_test,predictions3))\n",
    "print(\"\\n\")"
   ]
  },
  {
   "cell_type": "markdown",
   "metadata": {},
   "source": [
    "## Plot weights"
   ]
  },
  {
   "cell_type": "code",
   "execution_count": 19,
   "metadata": {},
   "outputs": [],
   "source": [
    "w1 = classifier1.get_weights()\n",
    "w2 = classifier2.get_weights()\n",
    "w3 = classifier3.get_weights()"
   ]
  },
  {
   "cell_type": "code",
   "execution_count": 20,
   "metadata": {},
   "outputs": [
    {
     "data": {
      "image/png": "[encoded data removed]",
      "text/plain": [
       "<Figure size 1440x1440 with 10 Axes>"
      ]
     },
     "metadata": {
      "needs_background": "light"
     },
     "output_type": "display_data"
    }
   ],
   "source": [
    "plotWeights(w1[2].T)"
   ]
  },
  {
   "cell_type": "code",
   "execution_count": 25,
   "metadata": {},
   "outputs": [
    {
     "data": {
      "text/plain": [
       "(121, 10)"
      ]
     },
     "execution_count": 25,
     "metadata": {},
     "output_type": "execute_result"
    }
   ],
   "source": []
  },
  {
   "cell_type": "code",
   "execution_count": null,
   "metadata": {},
   "outputs": [],
   "source": [
    "n = w1.shape[0]  # how many digits we will display\n",
    "l = w1.shape[1]\n",
    "#dim = int(math.sqrt(l))\n",
    "\n",
    "\n",
    "plt.figure(figsize=(20, 20))\n",
    "for i in range(n):\n",
    "    # display weights\n",
    "    ax = plt.subplot(10, 10, i + 1)\n",
    "    plt.imshow(weights[i][:l].reshape(dim, dim))\n",
    "    #plt.gray()\n",
    "    ax.get_xaxis().set_visible(False)\n",
    "    ax.get_yaxis().set_visible(False)\n",
    "plt.show()"
   ]
  },
  {
   "cell_type": "code",
   "execution_count": 21,
   "metadata": {},
   "outputs": [
    {
     "data": {
      "image/png": "[encoded data removed]",
      "text/plain": [
       "<Figure size 1440x1440 with 10 Axes>"
      ]
     },
     "metadata": {
      "needs_background": "light"
     },
     "output_type": "display_data"
    }
   ],
   "source": [
    "plotWeights(w2[4].T)"
   ]
  },
  {
   "cell_type": "code",
   "execution_count": 29,
   "metadata": {},
   "outputs": [
    {
     "data": {
      "image/png": "[encoded data removed]",
      "text/plain": [
       "<Figure size 1440x1440 with 81 Axes>"
      ]
     },
     "metadata": {
      "needs_background": "light"
     },
     "output_type": "display_data"
    }
   ],
   "source": [
    "plotWeights(w2[2].T)"
   ]
  },
  {
   "cell_type": "code",
   "execution_count": 28,
   "metadata": {},
   "outputs": [
    {
     "data": {
      "text/plain": [
       "(121, 81)"
      ]
     },
     "execution_count": 28,
     "metadata": {},
     "output_type": "execute_result"
    }
   ],
   "source": [
    "w22t = w2[2].T\n",
    "\n",
    "n = w22t.shape[0]  #how many digits we will display\n",
    "l = w22t.shape[1]\n",
    "#dim = int(math.sqrt(l))\n",
    "\n",
    "plt.figure(figsize=(20, 20))\n",
    "for i in range(n):\n",
    "    # display weights\n",
    "    ax = plt.subplot(10, 10, i + 1)\n",
    "    plt.imshow(weights[i][:l].reshape(11, 11))\n",
    "    #plt.gray()\n",
    "    ax.get_xaxis().set_visible(False)\n",
    "    ax.get_yaxis().set_visible(False)\n",
    "plt.show()"
   ]
  },
  {
   "cell_type": "code",
   "execution_count": 24,
   "metadata": {},
   "outputs": [
    {
     "data": {
      "image/png": "[encoded data removed]",
      "text/plain": [
       "<Figure size 1440x1440 with 10 Axes>"
      ]
     },
     "metadata": {
      "needs_background": "light"
     },
     "output_type": "display_data"
    }
   ],
   "source": [
    "plotWeights(w3[6].T)"
   ]
  },
  {
   "cell_type": "markdown",
   "metadata": {},
   "source": [
    "## Compare with scikit MLPClassifier"
   ]
  },
  {
   "cell_type": "code",
   "execution_count": 28,
   "metadata": {},
   "outputs": [],
   "source": [
    "clf = MLPClassifier(batch_size='auto', \n",
    "                    alpha=1e-5,\n",
    "                    hidden_layer_sizes=[120,],\n",
    "                    early_stopping=True,\n",
    "                    activation='relu'\n",
    "                   )\n"
   ]
  },
  {
   "cell_type": "code",
   "execution_count": 29,
   "metadata": {},
   "outputs": [
    {
     "data": {
      "text/plain": [
       "MLPClassifier(activation='relu', alpha=1e-05, batch_size='auto', beta_1=0.9,\n",
       "       beta_2=0.999, early_stopping=True, epsilon=1e-08,\n",
       "       hidden_layer_sizes=[120], learning_rate='constant',\n",
       "       learning_rate_init=0.001, max_iter=200, momentum=0.9,\n",
       "       n_iter_no_change=10, nesterovs_momentum=True, power_t=0.5,\n",
       "       random_state=None, shuffle=True, solver='adam', tol=0.0001,\n",
       "       validation_fraction=0.1, verbose=False, warm_start=False)"
      ]
     },
     "execution_count": 29,
     "metadata": {},
     "output_type": "execute_result"
    }
   ],
   "source": [
    "clf.fit(X_train, y_train)\n"
   ]
  },
  {
   "cell_type": "code",
   "execution_count": 30,
   "metadata": {},
   "outputs": [],
   "source": [
    "clf_pred = clf.predict(X_test)"
   ]
  },
  {
   "cell_type": "code",
   "execution_count": 32,
   "metadata": {},
   "outputs": [],
   "source": [
    "clf_pred = np.argmax(clf_pred,axis=1)"
   ]
  },
  {
   "cell_type": "code",
   "execution_count": 34,
   "metadata": {},
   "outputs": [
    {
     "name": "stdout",
     "output_type": "stream",
     "text": [
      "Classification using NN:\n",
      "              precision    recall  f1-score   support\n",
      "\n",
      "         0.0       0.65      1.00      0.79       196\n",
      "         1.0       0.96      0.96      0.96       227\n",
      "         2.0       0.96      0.89      0.93       206\n",
      "         3.0       0.97      0.87      0.92       202\n",
      "         4.0       0.95      0.92      0.94       196\n",
      "         5.0       0.94      0.84      0.89       182\n",
      "         6.0       0.97      0.95      0.96       191\n",
      "         7.0       0.96      0.89      0.92       205\n",
      "         8.0       0.98      0.88      0.92       194\n",
      "         9.0       0.94      0.93      0.93       201\n",
      "\n",
      "   micro avg       0.91      0.91      0.91      2000\n",
      "   macro avg       0.93      0.91      0.92      2000\n",
      "weighted avg       0.93      0.91      0.92      2000\n",
      "\n",
      "\n",
      "Accuracy: 0.913\n",
      "\n",
      "\n"
     ]
    }
   ],
   "source": [
    "print(\"Classification using :\\n%s\\n\" %\n",
    "      classification_report(y_test,clf_pred))\n",
    "\n",
    "print(\"Accuracy:\",accuracy_score(y_test,clf_pred))\n",
    "print(\"\\n\")"
   ]
  },
  {
   "cell_type": "code",
   "execution_count": null,
   "metadata": {},
   "outputs": [],
   "source": []
  }
 ],
 "metadata": {
  "kernelspec": {
   "display_name": "Python 3",
   "language": "python",
   "name": "python3"
  },
  "language_info": {
   "codemirror_mode": {
    "name": "ipython",
    "version": 3
   },
   "file_extension": ".py",
   "mimetype": "text/x-python",
   "name": "python",
   "nbconvert_exporter": "python",
   "pygments_lexer": "ipython3",
   "version": "3.6.5"
  }
 },
 "nbformat": 4,
 "nbformat_minor": 2
}
